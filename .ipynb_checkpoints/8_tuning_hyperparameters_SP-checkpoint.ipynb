{
 "cells": [
  {
   "cell_type": "markdown",
   "id": "3a57f5c7",
   "metadata": {},
   "source": [
    "## Importing libraries"
   ]
  },
  {
   "cell_type": "code",
   "execution_count": 35,
   "id": "cee1fd51",
   "metadata": {},
   "outputs": [],
   "source": [
    "import matplotlib.pyplot as plt\n",
    "import numpy as np\n",
    "import pandas as pd\n",
    "import random\n",
    "import shap\n",
    "from sklearn import metrics\n",
    "from sklearn.preprocessing import StandardScaler\n",
    "from sklearn.model_selection import train_test_split\n",
    "from sklearn.model_selection import GridSearchCV\n",
    "from sklearn.tree import DecisionTreeClassifier\n",
    "from sklearn.ensemble import RandomForestClassifier\n",
    "from catboost import CatBoostClassifier\n",
    "from sklearn.ensemble import AdaBoostClassifier\n",
    "from sklearn.model_selection import KFold\n",
    "import optuna\n",
    "import optuna.visualization as vis\n",
    "import joblib\n",
    "from xgboost import XGBClassifier\n",
    "from sklearn import tree\n",
    "from sklearn.linear_model import LogisticRegression\n",
    "from sklearn.metrics import accuracy_score, confusion_matrix, roc_curve, roc_auc_score, auc, precision_score, recall_score, precision_recall_curve\n",
    "random.seed(123)"
   ]
  },
  {
   "cell_type": "markdown",
   "id": "d55ae567",
   "metadata": {},
   "source": [
    "## Loading data"
   ]
  },
  {
   "cell_type": "code",
   "execution_count": 18,
   "id": "95fbdbe1",
   "metadata": {},
   "outputs": [],
   "source": [
    "# Loading data\n",
    "df = pd.read_csv('SP/dataset_ML_SP.csv')\n",
    "df_out = df[df['EPI_YEAR'] > 2020] # serve as final validation for concatenated model\n",
    "df = df[df['EPI_YEAR'] <= 2020]\n",
    "df_tplot = df['tplot']\n",
    "df_cases = df['CASES_100K']\n",
    "df = df.drop(columns = ['EPI_YEAR','tplot','CASES_100K'])\n",
    "df['label_2'] = 0 # for most of values, no epidemic yet\n",
    "df.loc[df['label'] == 'Epi','label_2'] = 1 # epidemic\n",
    "df.loc[df['label'] == 'High','label_2'] = 1 # epidemic as well\n",
    "df = df.drop(columns = ['label'])"
   ]
  },
  {
   "cell_type": "code",
   "execution_count": 19,
   "id": "500ea3f7",
   "metadata": {},
   "outputs": [
    {
     "data": {
      "text/html": [
       "<div>\n",
       "<style scoped>\n",
       "    .dataframe tbody tr th:only-of-type {\n",
       "        vertical-align: middle;\n",
       "    }\n",
       "\n",
       "    .dataframe tbody tr th {\n",
       "        vertical-align: top;\n",
       "    }\n",
       "\n",
       "    .dataframe thead th {\n",
       "        text-align: right;\n",
       "    }\n",
       "</style>\n",
       "<table border=\"1\" class=\"dataframe\">\n",
       "  <thead>\n",
       "    <tr style=\"text-align: right;\">\n",
       "      <th></th>\n",
       "      <th>EPI_WEEK</th>\n",
       "      <th>rh_max_lag</th>\n",
       "      <th>rh_min_lag</th>\n",
       "      <th>t_min_lag</th>\n",
       "      <th>t_max_lag</th>\n",
       "      <th>p_total_lag</th>\n",
       "      <th>LAMBDA_lag</th>\n",
       "      <th>label_2</th>\n",
       "    </tr>\n",
       "  </thead>\n",
       "  <tbody>\n",
       "    <tr>\n",
       "      <th>0</th>\n",
       "      <td>20</td>\n",
       "      <td>99.222857</td>\n",
       "      <td>63.656667</td>\n",
       "      <td>18.744286</td>\n",
       "      <td>27.047143</td>\n",
       "      <td>48.88</td>\n",
       "      <td>0.334046</td>\n",
       "      <td>0</td>\n",
       "    </tr>\n",
       "    <tr>\n",
       "      <th>1</th>\n",
       "      <td>21</td>\n",
       "      <td>97.115714</td>\n",
       "      <td>63.321429</td>\n",
       "      <td>19.170000</td>\n",
       "      <td>27.095714</td>\n",
       "      <td>7.34</td>\n",
       "      <td>0.618988</td>\n",
       "      <td>0</td>\n",
       "    </tr>\n",
       "    <tr>\n",
       "      <th>2</th>\n",
       "      <td>22</td>\n",
       "      <td>98.205714</td>\n",
       "      <td>58.884286</td>\n",
       "      <td>20.170000</td>\n",
       "      <td>25.968571</td>\n",
       "      <td>11.61</td>\n",
       "      <td>0.688747</td>\n",
       "      <td>0</td>\n",
       "    </tr>\n",
       "    <tr>\n",
       "      <th>3</th>\n",
       "      <td>23</td>\n",
       "      <td>99.571429</td>\n",
       "      <td>72.187143</td>\n",
       "      <td>20.297143</td>\n",
       "      <td>27.425714</td>\n",
       "      <td>1.08</td>\n",
       "      <td>0.753158</td>\n",
       "      <td>0</td>\n",
       "    </tr>\n",
       "    <tr>\n",
       "      <th>4</th>\n",
       "      <td>24</td>\n",
       "      <td>99.901429</td>\n",
       "      <td>68.365714</td>\n",
       "      <td>19.322857</td>\n",
       "      <td>27.914286</td>\n",
       "      <td>1.87</td>\n",
       "      <td>0.771134</td>\n",
       "      <td>0</td>\n",
       "    </tr>\n",
       "    <tr>\n",
       "      <th>...</th>\n",
       "      <td>...</td>\n",
       "      <td>...</td>\n",
       "      <td>...</td>\n",
       "      <td>...</td>\n",
       "      <td>...</td>\n",
       "      <td>...</td>\n",
       "      <td>...</td>\n",
       "      <td>...</td>\n",
       "    </tr>\n",
       "    <tr>\n",
       "      <th>1020</th>\n",
       "      <td>49</td>\n",
       "      <td>90.330000</td>\n",
       "      <td>44.552857</td>\n",
       "      <td>10.062857</td>\n",
       "      <td>32.047143</td>\n",
       "      <td>22.64</td>\n",
       "      <td>-0.428571</td>\n",
       "      <td>0</td>\n",
       "    </tr>\n",
       "    <tr>\n",
       "      <th>1021</th>\n",
       "      <td>50</td>\n",
       "      <td>95.178571</td>\n",
       "      <td>57.752857</td>\n",
       "      <td>13.540000</td>\n",
       "      <td>31.325714</td>\n",
       "      <td>30.46</td>\n",
       "      <td>-0.436090</td>\n",
       "      <td>0</td>\n",
       "    </tr>\n",
       "    <tr>\n",
       "      <th>1022</th>\n",
       "      <td>51</td>\n",
       "      <td>96.098571</td>\n",
       "      <td>43.232857</td>\n",
       "      <td>13.167143</td>\n",
       "      <td>26.348571</td>\n",
       "      <td>40.13</td>\n",
       "      <td>-0.523092</td>\n",
       "      <td>0</td>\n",
       "    </tr>\n",
       "    <tr>\n",
       "      <th>1023</th>\n",
       "      <td>52</td>\n",
       "      <td>97.035714</td>\n",
       "      <td>39.197143</td>\n",
       "      <td>10.234286</td>\n",
       "      <td>34.344286</td>\n",
       "      <td>17.87</td>\n",
       "      <td>-0.517382</td>\n",
       "      <td>0</td>\n",
       "    </tr>\n",
       "    <tr>\n",
       "      <th>1025</th>\n",
       "      <td>53</td>\n",
       "      <td>96.702857</td>\n",
       "      <td>43.632857</td>\n",
       "      <td>15.905714</td>\n",
       "      <td>28.368571</td>\n",
       "      <td>45.00</td>\n",
       "      <td>-0.551111</td>\n",
       "      <td>0</td>\n",
       "    </tr>\n",
       "  </tbody>\n",
       "</table>\n",
       "<p>1025 rows × 8 columns</p>\n",
       "</div>"
      ],
      "text/plain": [
       "      EPI_WEEK  rh_max_lag  rh_min_lag  t_min_lag  t_max_lag  p_total_lag  \\\n",
       "0           20   99.222857   63.656667  18.744286  27.047143        48.88   \n",
       "1           21   97.115714   63.321429  19.170000  27.095714         7.34   \n",
       "2           22   98.205714   58.884286  20.170000  25.968571        11.61   \n",
       "3           23   99.571429   72.187143  20.297143  27.425714         1.08   \n",
       "4           24   99.901429   68.365714  19.322857  27.914286         1.87   \n",
       "...        ...         ...         ...        ...        ...          ...   \n",
       "1020        49   90.330000   44.552857  10.062857  32.047143        22.64   \n",
       "1021        50   95.178571   57.752857  13.540000  31.325714        30.46   \n",
       "1022        51   96.098571   43.232857  13.167143  26.348571        40.13   \n",
       "1023        52   97.035714   39.197143  10.234286  34.344286        17.87   \n",
       "1025        53   96.702857   43.632857  15.905714  28.368571        45.00   \n",
       "\n",
       "      LAMBDA_lag  label_2  \n",
       "0       0.334046        0  \n",
       "1       0.618988        0  \n",
       "2       0.688747        0  \n",
       "3       0.753158        0  \n",
       "4       0.771134        0  \n",
       "...          ...      ...  \n",
       "1020   -0.428571        0  \n",
       "1021   -0.436090        0  \n",
       "1022   -0.523092        0  \n",
       "1023   -0.517382        0  \n",
       "1025   -0.551111        0  \n",
       "\n",
       "[1025 rows x 8 columns]"
      ]
     },
     "execution_count": 19,
     "metadata": {},
     "output_type": "execute_result"
    }
   ],
   "source": [
    "df"
   ]
  },
  {
   "cell_type": "markdown",
   "id": "3df1c79d",
   "metadata": {},
   "source": [
    "## Train-test split"
   ]
  },
  {
   "cell_type": "code",
   "execution_count": 20,
   "id": "7e860c45",
   "metadata": {},
   "outputs": [],
   "source": [
    "X = df.iloc[:,0:7]\n",
    "y = df.iloc[:,7]\n",
    "X_train, X_test, y_train, y_test = train_test_split(X, y, stratify=y, test_size = 0.3, random_state = 0)\n",
    "X_test, X_val, y_test, y_val = train_test_split(X_test, y_test, stratify = y_test, test_size = 0.5, random_state = 0)"
   ]
  },
  {
   "cell_type": "code",
   "execution_count": 21,
   "id": "fcc8fb71",
   "metadata": {},
   "outputs": [
    {
     "name": "stdout",
     "output_type": "stream",
     "text": [
      "Train:  (717,)\n",
      "Test:  (154,)\n",
      "Validation:  (154,)\n"
     ]
    }
   ],
   "source": [
    "print('Train: ', y_train.shape)\n",
    "print('Test: ', y_test.shape)\n",
    "print('Validation: ', y_val.shape)"
   ]
  },
  {
   "cell_type": "markdown",
   "id": "c2a2dc70",
   "metadata": {},
   "source": [
    "## Tuning hyperparameters for each algorithm"
   ]
  },
  {
   "cell_type": "markdown",
   "id": "f04a2b0d",
   "metadata": {},
   "source": [
    "### Random Forest"
   ]
  },
  {
   "cell_type": "code",
   "execution_count": 31,
   "id": "f4977008",
   "metadata": {},
   "outputs": [
    {
     "name": "stderr",
     "output_type": "stream",
     "text": [
      "[I 2024-12-08 12:01:44,680] A new study created in memory with name: no-name-db7eb54f-f153-44a6-baca-f7ae75e1d78e\n",
      "[I 2024-12-08 12:01:50,329] Trial 0 finished with value: 0.9144599125608058 and parameters: {'n_estimators': 665, 'max_depth': 3, 'min_samples_split': 2, 'min_samples_leaf': 6}. Best is trial 0 with value: 0.9144599125608058.\n"
     ]
    },
    {
     "data": {
      "application/vnd.plotly.v1+json": {
       "config": {
        "plotlyServerURL": "https://plot.ly"
       },
       "data": [
        {
         "mode": "markers",
         "name": "Objective Value",
         "type": "scatter",
         "x": [
          0
         ],
         "y": [
          0.9144599125608058
         ]
        },
        {
         "mode": "lines",
         "name": "Best Value",
         "type": "scatter",
         "x": [
          0
         ],
         "y": [
          0.9144599125608058
         ]
        },
        {
         "marker": {
          "color": "#cccccc"
         },
         "mode": "markers",
         "name": "Infeasible Trial",
         "showlegend": false,
         "type": "scatter",
         "x": [],
         "y": []
        }
       ],
       "layout": {
        "template": {
         "data": {
          "bar": [
           {
            "error_x": {
             "color": "#2a3f5f"
            },
            "error_y": {
             "color": "#2a3f5f"
            },
            "marker": {
             "line": {
              "color": "#E5ECF6",
              "width": 0.5
             },
             "pattern": {
              "fillmode": "overlay",
              "size": 10,
              "solidity": 0.2
             }
            },
            "type": "bar"
           }
          ],
          "barpolar": [
           {
            "marker": {
             "line": {
              "color": "#E5ECF6",
              "width": 0.5
             },
             "pattern": {
              "fillmode": "overlay",
              "size": 10,
              "solidity": 0.2
             }
            },
            "type": "barpolar"
           }
          ],
          "carpet": [
           {
            "aaxis": {
             "endlinecolor": "#2a3f5f",
             "gridcolor": "white",
             "linecolor": "white",
             "minorgridcolor": "white",
             "startlinecolor": "#2a3f5f"
            },
            "baxis": {
             "endlinecolor": "#2a3f5f",
             "gridcolor": "white",
             "linecolor": "white",
             "minorgridcolor": "white",
             "startlinecolor": "#2a3f5f"
            },
            "type": "carpet"
           }
          ],
          "choropleth": [
           {
            "colorbar": {
             "outlinewidth": 0,
             "ticks": ""
            },
            "type": "choropleth"
           }
          ],
          "contour": [
           {
            "colorbar": {
             "outlinewidth": 0,
             "ticks": ""
            },
            "colorscale": [
             [
              0,
              "#0d0887"
             ],
             [
              0.1111111111111111,
              "#46039f"
             ],
             [
              0.2222222222222222,
              "#7201a8"
             ],
             [
              0.3333333333333333,
              "#9c179e"
             ],
             [
              0.4444444444444444,
              "#bd3786"
             ],
             [
              0.5555555555555556,
              "#d8576b"
             ],
             [
              0.6666666666666666,
              "#ed7953"
             ],
             [
              0.7777777777777778,
              "#fb9f3a"
             ],
             [
              0.8888888888888888,
              "#fdca26"
             ],
             [
              1,
              "#f0f921"
             ]
            ],
            "type": "contour"
           }
          ],
          "contourcarpet": [
           {
            "colorbar": {
             "outlinewidth": 0,
             "ticks": ""
            },
            "type": "contourcarpet"
           }
          ],
          "heatmap": [
           {
            "colorbar": {
             "outlinewidth": 0,
             "ticks": ""
            },
            "colorscale": [
             [
              0,
              "#0d0887"
             ],
             [
              0.1111111111111111,
              "#46039f"
             ],
             [
              0.2222222222222222,
              "#7201a8"
             ],
             [
              0.3333333333333333,
              "#9c179e"
             ],
             [
              0.4444444444444444,
              "#bd3786"
             ],
             [
              0.5555555555555556,
              "#d8576b"
             ],
             [
              0.6666666666666666,
              "#ed7953"
             ],
             [
              0.7777777777777778,
              "#fb9f3a"
             ],
             [
              0.8888888888888888,
              "#fdca26"
             ],
             [
              1,
              "#f0f921"
             ]
            ],
            "type": "heatmap"
           }
          ],
          "heatmapgl": [
           {
            "colorbar": {
             "outlinewidth": 0,
             "ticks": ""
            },
            "colorscale": [
             [
              0,
              "#0d0887"
             ],
             [
              0.1111111111111111,
              "#46039f"
             ],
             [
              0.2222222222222222,
              "#7201a8"
             ],
             [
              0.3333333333333333,
              "#9c179e"
             ],
             [
              0.4444444444444444,
              "#bd3786"
             ],
             [
              0.5555555555555556,
              "#d8576b"
             ],
             [
              0.6666666666666666,
              "#ed7953"
             ],
             [
              0.7777777777777778,
              "#fb9f3a"
             ],
             [
              0.8888888888888888,
              "#fdca26"
             ],
             [
              1,
              "#f0f921"
             ]
            ],
            "type": "heatmapgl"
           }
          ],
          "histogram": [
           {
            "marker": {
             "pattern": {
              "fillmode": "overlay",
              "size": 10,
              "solidity": 0.2
             }
            },
            "type": "histogram"
           }
          ],
          "histogram2d": [
           {
            "colorbar": {
             "outlinewidth": 0,
             "ticks": ""
            },
            "colorscale": [
             [
              0,
              "#0d0887"
             ],
             [
              0.1111111111111111,
              "#46039f"
             ],
             [
              0.2222222222222222,
              "#7201a8"
             ],
             [
              0.3333333333333333,
              "#9c179e"
             ],
             [
              0.4444444444444444,
              "#bd3786"
             ],
             [
              0.5555555555555556,
              "#d8576b"
             ],
             [
              0.6666666666666666,
              "#ed7953"
             ],
             [
              0.7777777777777778,
              "#fb9f3a"
             ],
             [
              0.8888888888888888,
              "#fdca26"
             ],
             [
              1,
              "#f0f921"
             ]
            ],
            "type": "histogram2d"
           }
          ],
          "histogram2dcontour": [
           {
            "colorbar": {
             "outlinewidth": 0,
             "ticks": ""
            },
            "colorscale": [
             [
              0,
              "#0d0887"
             ],
             [
              0.1111111111111111,
              "#46039f"
             ],
             [
              0.2222222222222222,
              "#7201a8"
             ],
             [
              0.3333333333333333,
              "#9c179e"
             ],
             [
              0.4444444444444444,
              "#bd3786"
             ],
             [
              0.5555555555555556,
              "#d8576b"
             ],
             [
              0.6666666666666666,
              "#ed7953"
             ],
             [
              0.7777777777777778,
              "#fb9f3a"
             ],
             [
              0.8888888888888888,
              "#fdca26"
             ],
             [
              1,
              "#f0f921"
             ]
            ],
            "type": "histogram2dcontour"
           }
          ],
          "mesh3d": [
           {
            "colorbar": {
             "outlinewidth": 0,
             "ticks": ""
            },
            "type": "mesh3d"
           }
          ],
          "parcoords": [
           {
            "line": {
             "colorbar": {
              "outlinewidth": 0,
              "ticks": ""
             }
            },
            "type": "parcoords"
           }
          ],
          "pie": [
           {
            "automargin": true,
            "type": "pie"
           }
          ],
          "scatter": [
           {
            "fillpattern": {
             "fillmode": "overlay",
             "size": 10,
             "solidity": 0.2
            },
            "type": "scatter"
           }
          ],
          "scatter3d": [
           {
            "line": {
             "colorbar": {
              "outlinewidth": 0,
              "ticks": ""
             }
            },
            "marker": {
             "colorbar": {
              "outlinewidth": 0,
              "ticks": ""
             }
            },
            "type": "scatter3d"
           }
          ],
          "scattercarpet": [
           {
            "marker": {
             "colorbar": {
              "outlinewidth": 0,
              "ticks": ""
             }
            },
            "type": "scattercarpet"
           }
          ],
          "scattergeo": [
           {
            "marker": {
             "colorbar": {
              "outlinewidth": 0,
              "ticks": ""
             }
            },
            "type": "scattergeo"
           }
          ],
          "scattergl": [
           {
            "marker": {
             "colorbar": {
              "outlinewidth": 0,
              "ticks": ""
             }
            },
            "type": "scattergl"
           }
          ],
          "scattermapbox": [
           {
            "marker": {
             "colorbar": {
              "outlinewidth": 0,
              "ticks": ""
             }
            },
            "type": "scattermapbox"
           }
          ],
          "scatterpolar": [
           {
            "marker": {
             "colorbar": {
              "outlinewidth": 0,
              "ticks": ""
             }
            },
            "type": "scatterpolar"
           }
          ],
          "scatterpolargl": [
           {
            "marker": {
             "colorbar": {
              "outlinewidth": 0,
              "ticks": ""
             }
            },
            "type": "scatterpolargl"
           }
          ],
          "scatterternary": [
           {
            "marker": {
             "colorbar": {
              "outlinewidth": 0,
              "ticks": ""
             }
            },
            "type": "scatterternary"
           }
          ],
          "surface": [
           {
            "colorbar": {
             "outlinewidth": 0,
             "ticks": ""
            },
            "colorscale": [
             [
              0,
              "#0d0887"
             ],
             [
              0.1111111111111111,
              "#46039f"
             ],
             [
              0.2222222222222222,
              "#7201a8"
             ],
             [
              0.3333333333333333,
              "#9c179e"
             ],
             [
              0.4444444444444444,
              "#bd3786"
             ],
             [
              0.5555555555555556,
              "#d8576b"
             ],
             [
              0.6666666666666666,
              "#ed7953"
             ],
             [
              0.7777777777777778,
              "#fb9f3a"
             ],
             [
              0.8888888888888888,
              "#fdca26"
             ],
             [
              1,
              "#f0f921"
             ]
            ],
            "type": "surface"
           }
          ],
          "table": [
           {
            "cells": {
             "fill": {
              "color": "#EBF0F8"
             },
             "line": {
              "color": "white"
             }
            },
            "header": {
             "fill": {
              "color": "#C8D4E3"
             },
             "line": {
              "color": "white"
             }
            },
            "type": "table"
           }
          ]
         },
         "layout": {
          "annotationdefaults": {
           "arrowcolor": "#2a3f5f",
           "arrowhead": 0,
           "arrowwidth": 1
          },
          "autotypenumbers": "strict",
          "coloraxis": {
           "colorbar": {
            "outlinewidth": 0,
            "ticks": ""
           }
          },
          "colorscale": {
           "diverging": [
            [
             0,
             "#8e0152"
            ],
            [
             0.1,
             "#c51b7d"
            ],
            [
             0.2,
             "#de77ae"
            ],
            [
             0.3,
             "#f1b6da"
            ],
            [
             0.4,
             "#fde0ef"
            ],
            [
             0.5,
             "#f7f7f7"
            ],
            [
             0.6,
             "#e6f5d0"
            ],
            [
             0.7,
             "#b8e186"
            ],
            [
             0.8,
             "#7fbc41"
            ],
            [
             0.9,
             "#4d9221"
            ],
            [
             1,
             "#276419"
            ]
           ],
           "sequential": [
            [
             0,
             "#0d0887"
            ],
            [
             0.1111111111111111,
             "#46039f"
            ],
            [
             0.2222222222222222,
             "#7201a8"
            ],
            [
             0.3333333333333333,
             "#9c179e"
            ],
            [
             0.4444444444444444,
             "#bd3786"
            ],
            [
             0.5555555555555556,
             "#d8576b"
            ],
            [
             0.6666666666666666,
             "#ed7953"
            ],
            [
             0.7777777777777778,
             "#fb9f3a"
            ],
            [
             0.8888888888888888,
             "#fdca26"
            ],
            [
             1,
             "#f0f921"
            ]
           ],
           "sequentialminus": [
            [
             0,
             "#0d0887"
            ],
            [
             0.1111111111111111,
             "#46039f"
            ],
            [
             0.2222222222222222,
             "#7201a8"
            ],
            [
             0.3333333333333333,
             "#9c179e"
            ],
            [
             0.4444444444444444,
             "#bd3786"
            ],
            [
             0.5555555555555556,
             "#d8576b"
            ],
            [
             0.6666666666666666,
             "#ed7953"
            ],
            [
             0.7777777777777778,
             "#fb9f3a"
            ],
            [
             0.8888888888888888,
             "#fdca26"
            ],
            [
             1,
             "#f0f921"
            ]
           ]
          },
          "colorway": [
           "#636efa",
           "#EF553B",
           "#00cc96",
           "#ab63fa",
           "#FFA15A",
           "#19d3f3",
           "#FF6692",
           "#B6E880",
           "#FF97FF",
           "#FECB52"
          ],
          "font": {
           "color": "#2a3f5f"
          },
          "geo": {
           "bgcolor": "white",
           "lakecolor": "white",
           "landcolor": "#E5ECF6",
           "showlakes": true,
           "showland": true,
           "subunitcolor": "white"
          },
          "hoverlabel": {
           "align": "left"
          },
          "hovermode": "closest",
          "mapbox": {
           "style": "light"
          },
          "paper_bgcolor": "white",
          "plot_bgcolor": "#E5ECF6",
          "polar": {
           "angularaxis": {
            "gridcolor": "white",
            "linecolor": "white",
            "ticks": ""
           },
           "bgcolor": "#E5ECF6",
           "radialaxis": {
            "gridcolor": "white",
            "linecolor": "white",
            "ticks": ""
           }
          },
          "scene": {
           "xaxis": {
            "backgroundcolor": "#E5ECF6",
            "gridcolor": "white",
            "gridwidth": 2,
            "linecolor": "white",
            "showbackground": true,
            "ticks": "",
            "zerolinecolor": "white"
           },
           "yaxis": {
            "backgroundcolor": "#E5ECF6",
            "gridcolor": "white",
            "gridwidth": 2,
            "linecolor": "white",
            "showbackground": true,
            "ticks": "",
            "zerolinecolor": "white"
           },
           "zaxis": {
            "backgroundcolor": "#E5ECF6",
            "gridcolor": "white",
            "gridwidth": 2,
            "linecolor": "white",
            "showbackground": true,
            "ticks": "",
            "zerolinecolor": "white"
           }
          },
          "shapedefaults": {
           "line": {
            "color": "#2a3f5f"
           }
          },
          "ternary": {
           "aaxis": {
            "gridcolor": "white",
            "linecolor": "white",
            "ticks": ""
           },
           "baxis": {
            "gridcolor": "white",
            "linecolor": "white",
            "ticks": ""
           },
           "bgcolor": "#E5ECF6",
           "caxis": {
            "gridcolor": "white",
            "linecolor": "white",
            "ticks": ""
           }
          },
          "title": {
           "x": 0.05
          },
          "xaxis": {
           "automargin": true,
           "gridcolor": "white",
           "linecolor": "white",
           "ticks": "",
           "title": {
            "standoff": 15
           },
           "zerolinecolor": "white",
           "zerolinewidth": 2
          },
          "yaxis": {
           "automargin": true,
           "gridcolor": "white",
           "linecolor": "white",
           "ticks": "",
           "title": {
            "standoff": 15
           },
           "zerolinecolor": "white",
           "zerolinewidth": 2
          }
         }
        },
        "title": {
         "text": "Optimization History Plot"
        },
        "xaxis": {
         "title": {
          "text": "Trial"
         }
        },
        "yaxis": {
         "title": {
          "text": "Objective Value"
         }
        }
       }
      },
      "text/html": [
       "<div>                            <div id=\"aa032c95-8321-402b-a185-82064dcec581\" class=\"plotly-graph-div\" style=\"height:525px; width:100%;\"></div>            <script type=\"text/javascript\">                require([\"plotly\"], function(Plotly) {                    window.PLOTLYENV=window.PLOTLYENV || {};                                    if (document.getElementById(\"aa032c95-8321-402b-a185-82064dcec581\")) {                    Plotly.newPlot(                        \"aa032c95-8321-402b-a185-82064dcec581\",                        [{\"mode\":\"markers\",\"name\":\"Objective Value\",\"x\":[0],\"y\":[0.9144599125608058],\"type\":\"scatter\"},{\"mode\":\"lines\",\"name\":\"Best Value\",\"x\":[0],\"y\":[0.9144599125608058],\"type\":\"scatter\"},{\"marker\":{\"color\":\"#cccccc\"},\"mode\":\"markers\",\"name\":\"Infeasible Trial\",\"showlegend\":false,\"x\":[],\"y\":[],\"type\":\"scatter\"}],                        {\"title\":{\"text\":\"Optimization History Plot\"},\"xaxis\":{\"title\":{\"text\":\"Trial\"}},\"yaxis\":{\"title\":{\"text\":\"Objective Value\"}},\"template\":{\"data\":{\"histogram2dcontour\":[{\"type\":\"histogram2dcontour\",\"colorbar\":{\"outlinewidth\":0,\"ticks\":\"\"},\"colorscale\":[[0.0,\"#0d0887\"],[0.1111111111111111,\"#46039f\"],[0.2222222222222222,\"#7201a8\"],[0.3333333333333333,\"#9c179e\"],[0.4444444444444444,\"#bd3786\"],[0.5555555555555556,\"#d8576b\"],[0.6666666666666666,\"#ed7953\"],[0.7777777777777778,\"#fb9f3a\"],[0.8888888888888888,\"#fdca26\"],[1.0,\"#f0f921\"]]}],\"choropleth\":[{\"type\":\"choropleth\",\"colorbar\":{\"outlinewidth\":0,\"ticks\":\"\"}}],\"histogram2d\":[{\"type\":\"histogram2d\",\"colorbar\":{\"outlinewidth\":0,\"ticks\":\"\"},\"colorscale\":[[0.0,\"#0d0887\"],[0.1111111111111111,\"#46039f\"],[0.2222222222222222,\"#7201a8\"],[0.3333333333333333,\"#9c179e\"],[0.4444444444444444,\"#bd3786\"],[0.5555555555555556,\"#d8576b\"],[0.6666666666666666,\"#ed7953\"],[0.7777777777777778,\"#fb9f3a\"],[0.8888888888888888,\"#fdca26\"],[1.0,\"#f0f921\"]]}],\"heatmap\":[{\"type\":\"heatmap\",\"colorbar\":{\"outlinewidth\":0,\"ticks\":\"\"},\"colorscale\":[[0.0,\"#0d0887\"],[0.1111111111111111,\"#46039f\"],[0.2222222222222222,\"#7201a8\"],[0.3333333333333333,\"#9c179e\"],[0.4444444444444444,\"#bd3786\"],[0.5555555555555556,\"#d8576b\"],[0.6666666666666666,\"#ed7953\"],[0.7777777777777778,\"#fb9f3a\"],[0.8888888888888888,\"#fdca26\"],[1.0,\"#f0f921\"]]}],\"heatmapgl\":[{\"type\":\"heatmapgl\",\"colorbar\":{\"outlinewidth\":0,\"ticks\":\"\"},\"colorscale\":[[0.0,\"#0d0887\"],[0.1111111111111111,\"#46039f\"],[0.2222222222222222,\"#7201a8\"],[0.3333333333333333,\"#9c179e\"],[0.4444444444444444,\"#bd3786\"],[0.5555555555555556,\"#d8576b\"],[0.6666666666666666,\"#ed7953\"],[0.7777777777777778,\"#fb9f3a\"],[0.8888888888888888,\"#fdca26\"],[1.0,\"#f0f921\"]]}],\"contourcarpet\":[{\"type\":\"contourcarpet\",\"colorbar\":{\"outlinewidth\":0,\"ticks\":\"\"}}],\"contour\":[{\"type\":\"contour\",\"colorbar\":{\"outlinewidth\":0,\"ticks\":\"\"},\"colorscale\":[[0.0,\"#0d0887\"],[0.1111111111111111,\"#46039f\"],[0.2222222222222222,\"#7201a8\"],[0.3333333333333333,\"#9c179e\"],[0.4444444444444444,\"#bd3786\"],[0.5555555555555556,\"#d8576b\"],[0.6666666666666666,\"#ed7953\"],[0.7777777777777778,\"#fb9f3a\"],[0.8888888888888888,\"#fdca26\"],[1.0,\"#f0f921\"]]}],\"surface\":[{\"type\":\"surface\",\"colorbar\":{\"outlinewidth\":0,\"ticks\":\"\"},\"colorscale\":[[0.0,\"#0d0887\"],[0.1111111111111111,\"#46039f\"],[0.2222222222222222,\"#7201a8\"],[0.3333333333333333,\"#9c179e\"],[0.4444444444444444,\"#bd3786\"],[0.5555555555555556,\"#d8576b\"],[0.6666666666666666,\"#ed7953\"],[0.7777777777777778,\"#fb9f3a\"],[0.8888888888888888,\"#fdca26\"],[1.0,\"#f0f921\"]]}],\"mesh3d\":[{\"type\":\"mesh3d\",\"colorbar\":{\"outlinewidth\":0,\"ticks\":\"\"}}],\"scatter\":[{\"fillpattern\":{\"fillmode\":\"overlay\",\"size\":10,\"solidity\":0.2},\"type\":\"scatter\"}],\"parcoords\":[{\"type\":\"parcoords\",\"line\":{\"colorbar\":{\"outlinewidth\":0,\"ticks\":\"\"}}}],\"scatterpolargl\":[{\"type\":\"scatterpolargl\",\"marker\":{\"colorbar\":{\"outlinewidth\":0,\"ticks\":\"\"}}}],\"bar\":[{\"error_x\":{\"color\":\"#2a3f5f\"},\"error_y\":{\"color\":\"#2a3f5f\"},\"marker\":{\"line\":{\"color\":\"#E5ECF6\",\"width\":0.5},\"pattern\":{\"fillmode\":\"overlay\",\"size\":10,\"solidity\":0.2}},\"type\":\"bar\"}],\"scattergeo\":[{\"type\":\"scattergeo\",\"marker\":{\"colorbar\":{\"outlinewidth\":0,\"ticks\":\"\"}}}],\"scatterpolar\":[{\"type\":\"scatterpolar\",\"marker\":{\"colorbar\":{\"outlinewidth\":0,\"ticks\":\"\"}}}],\"histogram\":[{\"marker\":{\"pattern\":{\"fillmode\":\"overlay\",\"size\":10,\"solidity\":0.2}},\"type\":\"histogram\"}],\"scattergl\":[{\"type\":\"scattergl\",\"marker\":{\"colorbar\":{\"outlinewidth\":0,\"ticks\":\"\"}}}],\"scatter3d\":[{\"type\":\"scatter3d\",\"line\":{\"colorbar\":{\"outlinewidth\":0,\"ticks\":\"\"}},\"marker\":{\"colorbar\":{\"outlinewidth\":0,\"ticks\":\"\"}}}],\"scattermapbox\":[{\"type\":\"scattermapbox\",\"marker\":{\"colorbar\":{\"outlinewidth\":0,\"ticks\":\"\"}}}],\"scatterternary\":[{\"type\":\"scatterternary\",\"marker\":{\"colorbar\":{\"outlinewidth\":0,\"ticks\":\"\"}}}],\"scattercarpet\":[{\"type\":\"scattercarpet\",\"marker\":{\"colorbar\":{\"outlinewidth\":0,\"ticks\":\"\"}}}],\"carpet\":[{\"aaxis\":{\"endlinecolor\":\"#2a3f5f\",\"gridcolor\":\"white\",\"linecolor\":\"white\",\"minorgridcolor\":\"white\",\"startlinecolor\":\"#2a3f5f\"},\"baxis\":{\"endlinecolor\":\"#2a3f5f\",\"gridcolor\":\"white\",\"linecolor\":\"white\",\"minorgridcolor\":\"white\",\"startlinecolor\":\"#2a3f5f\"},\"type\":\"carpet\"}],\"table\":[{\"cells\":{\"fill\":{\"color\":\"#EBF0F8\"},\"line\":{\"color\":\"white\"}},\"header\":{\"fill\":{\"color\":\"#C8D4E3\"},\"line\":{\"color\":\"white\"}},\"type\":\"table\"}],\"barpolar\":[{\"marker\":{\"line\":{\"color\":\"#E5ECF6\",\"width\":0.5},\"pattern\":{\"fillmode\":\"overlay\",\"size\":10,\"solidity\":0.2}},\"type\":\"barpolar\"}],\"pie\":[{\"automargin\":true,\"type\":\"pie\"}]},\"layout\":{\"autotypenumbers\":\"strict\",\"colorway\":[\"#636efa\",\"#EF553B\",\"#00cc96\",\"#ab63fa\",\"#FFA15A\",\"#19d3f3\",\"#FF6692\",\"#B6E880\",\"#FF97FF\",\"#FECB52\"],\"font\":{\"color\":\"#2a3f5f\"},\"hovermode\":\"closest\",\"hoverlabel\":{\"align\":\"left\"},\"paper_bgcolor\":\"white\",\"plot_bgcolor\":\"#E5ECF6\",\"polar\":{\"bgcolor\":\"#E5ECF6\",\"angularaxis\":{\"gridcolor\":\"white\",\"linecolor\":\"white\",\"ticks\":\"\"},\"radialaxis\":{\"gridcolor\":\"white\",\"linecolor\":\"white\",\"ticks\":\"\"}},\"ternary\":{\"bgcolor\":\"#E5ECF6\",\"aaxis\":{\"gridcolor\":\"white\",\"linecolor\":\"white\",\"ticks\":\"\"},\"baxis\":{\"gridcolor\":\"white\",\"linecolor\":\"white\",\"ticks\":\"\"},\"caxis\":{\"gridcolor\":\"white\",\"linecolor\":\"white\",\"ticks\":\"\"}},\"coloraxis\":{\"colorbar\":{\"outlinewidth\":0,\"ticks\":\"\"}},\"colorscale\":{\"sequential\":[[0.0,\"#0d0887\"],[0.1111111111111111,\"#46039f\"],[0.2222222222222222,\"#7201a8\"],[0.3333333333333333,\"#9c179e\"],[0.4444444444444444,\"#bd3786\"],[0.5555555555555556,\"#d8576b\"],[0.6666666666666666,\"#ed7953\"],[0.7777777777777778,\"#fb9f3a\"],[0.8888888888888888,\"#fdca26\"],[1.0,\"#f0f921\"]],\"sequentialminus\":[[0.0,\"#0d0887\"],[0.1111111111111111,\"#46039f\"],[0.2222222222222222,\"#7201a8\"],[0.3333333333333333,\"#9c179e\"],[0.4444444444444444,\"#bd3786\"],[0.5555555555555556,\"#d8576b\"],[0.6666666666666666,\"#ed7953\"],[0.7777777777777778,\"#fb9f3a\"],[0.8888888888888888,\"#fdca26\"],[1.0,\"#f0f921\"]],\"diverging\":[[0,\"#8e0152\"],[0.1,\"#c51b7d\"],[0.2,\"#de77ae\"],[0.3,\"#f1b6da\"],[0.4,\"#fde0ef\"],[0.5,\"#f7f7f7\"],[0.6,\"#e6f5d0\"],[0.7,\"#b8e186\"],[0.8,\"#7fbc41\"],[0.9,\"#4d9221\"],[1,\"#276419\"]]},\"xaxis\":{\"gridcolor\":\"white\",\"linecolor\":\"white\",\"ticks\":\"\",\"title\":{\"standoff\":15},\"zerolinecolor\":\"white\",\"automargin\":true,\"zerolinewidth\":2},\"yaxis\":{\"gridcolor\":\"white\",\"linecolor\":\"white\",\"ticks\":\"\",\"title\":{\"standoff\":15},\"zerolinecolor\":\"white\",\"automargin\":true,\"zerolinewidth\":2},\"scene\":{\"xaxis\":{\"backgroundcolor\":\"#E5ECF6\",\"gridcolor\":\"white\",\"linecolor\":\"white\",\"showbackground\":true,\"ticks\":\"\",\"zerolinecolor\":\"white\",\"gridwidth\":2},\"yaxis\":{\"backgroundcolor\":\"#E5ECF6\",\"gridcolor\":\"white\",\"linecolor\":\"white\",\"showbackground\":true,\"ticks\":\"\",\"zerolinecolor\":\"white\",\"gridwidth\":2},\"zaxis\":{\"backgroundcolor\":\"#E5ECF6\",\"gridcolor\":\"white\",\"linecolor\":\"white\",\"showbackground\":true,\"ticks\":\"\",\"zerolinecolor\":\"white\",\"gridwidth\":2}},\"shapedefaults\":{\"line\":{\"color\":\"#2a3f5f\"}},\"annotationdefaults\":{\"arrowcolor\":\"#2a3f5f\",\"arrowhead\":0,\"arrowwidth\":1},\"geo\":{\"bgcolor\":\"white\",\"landcolor\":\"#E5ECF6\",\"subunitcolor\":\"white\",\"showland\":true,\"showlakes\":true,\"lakecolor\":\"white\"},\"title\":{\"x\":0.05},\"mapbox\":{\"style\":\"light\"}}}},                        {\"responsive\": true}                    ).then(function(){\n",
       "                            \n",
       "var gd = document.getElementById('aa032c95-8321-402b-a185-82064dcec581');\n",
       "var x = new MutationObserver(function (mutations, observer) {{\n",
       "        var display = window.getComputedStyle(gd).display;\n",
       "        if (!display || display === 'none') {{\n",
       "            console.log([gd, 'removed!']);\n",
       "            Plotly.purge(gd);\n",
       "            observer.disconnect();\n",
       "        }}\n",
       "}});\n",
       "\n",
       "// Listen for the removal of the full notebook cells\n",
       "var notebookContainer = gd.closest('#notebook-container');\n",
       "if (notebookContainer) {{\n",
       "    x.observe(notebookContainer, {childList: true});\n",
       "}}\n",
       "\n",
       "// Listen for the clearing of the current output cell\n",
       "var outputEl = gd.closest('.output');\n",
       "if (outputEl) {{\n",
       "    x.observe(outputEl, {childList: true});\n",
       "}}\n",
       "\n",
       "                        })                };                });            </script>        </div>"
      ]
     },
     "metadata": {},
     "output_type": "display_data"
    },
    {
     "name": "stdout",
     "output_type": "stream",
     "text": [
      "Study Summary\n",
      "{'n_estimators': 665, 'max_depth': 3, 'min_samples_split': 2, 'min_samples_leaf': 6}\n",
      "AUC-ROC: 0.9144599125608058\n",
      "Best model results\n",
      "Optimal threshold 0.08191601769146767\n",
      "Test Metrics\n",
      "0.6818181818181818\n",
      "0.9352517985611511\n",
      "[[90 49]\n",
      " [ 0 15]]\n"
     ]
    },
    {
     "data": {
      "image/png": "[encoded data removed]",
      "text/plain": [
       "<Figure size 640x480 with 1 Axes>"
      ]
     },
     "metadata": {},
     "output_type": "display_data"
    }
   ],
   "source": [
    "def objective_rf(trial):\n",
    "    rf_params = {\n",
    "        \"n_estimators\": trial.suggest_int(\"n_estimators\", low = 100, high = 2000),\n",
    "        \"max_depth\": trial.suggest_int(\"max_depth\", 3, 10),\n",
    "        \"min_samples_split\": trial.suggest_int(\"min_samples_split\", low = 1, high = 10),\n",
    "        \"min_samples_leaf\": trial.suggest_int(\"min_samples_leaf\", low = 1, high = 10),\n",
    "    }\n",
    "    kf = KFold(n_splits = 5, shuffle = True, random_state = 123)\n",
    "    values_test = []\n",
    "    rf = RandomForestClassifier(**rf_params)\n",
    "    for trf_index, tef_index in kf.split(X_train): # train and test folds of train data (only data we use now)\n",
    "        X_trf, X_tef = X_train.iloc[trf_index], X_train.iloc[tef_index]\n",
    "        y_trf, y_tef = y_train.iloc[trf_index], y_train.iloc[tef_index]\n",
    "        rf.fit(X_trf, y_trf)\n",
    "        values_test.append(roc_auc_score(y_tef, rf.predict_proba(X_tef)[:,1]))\n",
    "    return np.mean(np.array(values_test))\n",
    "\n",
    "study = optuna.create_study(direction = 'maximize')\n",
    "study.optimize(objective_rf, n_trials = 1)\n",
    "fig = vis.plot_optimization_history(study)\n",
    "fig.show()\n",
    "print('Study Summary')\n",
    "print(study.best_params)\n",
    "print('AUC-ROC:', study.best_value)\n",
    "print('Best model results')\n",
    "grid1 = RandomForestClassifier(**study.best_params)\n",
    "grid1.fit(X_train, y_train)\n",
    "joblib.dump(grid1, 'sp_randomforest.pkl')\n",
    "y_val_pred = grid1.predict(X_val)\n",
    "y_val_proba = grid1.predict_proba(X_val)[:,1]\n",
    "fpr1, tpr1, thresholds = roc_curve(y_val, y_val_proba, pos_label = 1)\n",
    "plt.plot(fpr1, tpr1, '-o', linewidth=2, label = 'RandomForest')\n",
    "plt.plot([0,1], [0,1], 'k--' )\n",
    "plt.legend()\n",
    "n_arg = np.argmin(abs(tpr1-1))\n",
    "thr_opt = thresholds[n_arg]\n",
    "print('Optimal threshold', thr_opt)\n",
    "# Putting metrics here as well \n",
    "print('Test Metrics')\n",
    "y_test_proba = grid1.predict_proba(X_test)[:,1]\n",
    "y_test_final = y_test_proba.copy()\n",
    "y_test_final[y_test_proba >= thr_opt] = 1\n",
    "y_test_final[y_test_proba < thr_opt] = 0\n",
    "print(accuracy_score(y_test, y_test_final)) # accuracy\n",
    "print(roc_auc_score(y_test, y_test_proba)) # roc auc\n",
    "print(confusion_matrix(y_test, y_test_final)) # confusion matrix"
   ]
  },
  {
   "cell_type": "markdown",
   "id": "68266ef9",
   "metadata": {},
   "source": [
    "### XGBoost"
   ]
  },
  {
   "cell_type": "code",
   "execution_count": 33,
   "id": "6859b082",
   "metadata": {},
   "outputs": [
    {
     "name": "stderr",
     "output_type": "stream",
     "text": [
      "[I 2024-12-08 12:02:50,792] A new study created in memory with name: no-name-841e26d2-3604-43e6-8d42-8df9590f4121\n",
      "C:\\Users\\denis\\AppData\\Local\\Temp\\ipykernel_18400\\643438080.py:5: FutureWarning:\n",
      "\n",
      "suggest_loguniform has been deprecated in v3.0.0. This feature will be removed in v6.0.0. See https://github.com/optuna/optuna/releases/tag/v3.0.0. Use suggest_float(..., log=True) instead.\n",
      "\n",
      "[I 2024-12-08 12:02:56,301] Trial 0 finished with value: 0.9170004455305906 and parameters: {'n_estimators': 1981, 'max_depth': 8, 'learning_rate': 0.002313108259048458, 'min_child_weight': 1}. Best is trial 0 with value: 0.9170004455305906.\n"
     ]
    },
    {
     "data": {
      "application/vnd.plotly.v1+json": {
       "config": {
        "plotlyServerURL": "https://plot.ly"
       },
       "data": [
        {
         "mode": "markers",
         "name": "Objective Value",
         "type": "scatter",
         "x": [
          0
         ],
         "y": [
          0.9170004455305906
         ]
        },
        {
         "mode": "lines",
         "name": "Best Value",
         "type": "scatter",
         "x": [
          0
         ],
         "y": [
          0.9170004455305906
         ]
        },
        {
         "marker": {
          "color": "#cccccc"
         },
         "mode": "markers",
         "name": "Infeasible Trial",
         "showlegend": false,
         "type": "scatter",
         "x": [],
         "y": []
        }
       ],
       "layout": {
        "template": {
         "data": {
          "bar": [
           {
            "error_x": {
             "color": "#2a3f5f"
            },
            "error_y": {
             "color": "#2a3f5f"
            },
            "marker": {
             "line": {
              "color": "#E5ECF6",
              "width": 0.5
             },
             "pattern": {
              "fillmode": "overlay",
              "size": 10,
              "solidity": 0.2
             }
            },
            "type": "bar"
           }
          ],
          "barpolar": [
           {
            "marker": {
             "line": {
              "color": "#E5ECF6",
              "width": 0.5
             },
             "pattern": {
              "fillmode": "overlay",
              "size": 10,
              "solidity": 0.2
             }
            },
            "type": "barpolar"
           }
          ],
          "carpet": [
           {
            "aaxis": {
             "endlinecolor": "#2a3f5f",
             "gridcolor": "white",
             "linecolor": "white",
             "minorgridcolor": "white",
             "startlinecolor": "#2a3f5f"
            },
            "baxis": {
             "endlinecolor": "#2a3f5f",
             "gridcolor": "white",
             "linecolor": "white",
             "minorgridcolor": "white",
             "startlinecolor": "#2a3f5f"
            },
            "type": "carpet"
           }
          ],
          "choropleth": [
           {
            "colorbar": {
             "outlinewidth": 0,
             "ticks": ""
            },
            "type": "choropleth"
           }
          ],
          "contour": [
           {
            "colorbar": {
             "outlinewidth": 0,
             "ticks": ""
            },
            "colorscale": [
             [
              0,
              "#0d0887"
             ],
             [
              0.1111111111111111,
              "#46039f"
             ],
             [
              0.2222222222222222,
              "#7201a8"
             ],
             [
              0.3333333333333333,
              "#9c179e"
             ],
             [
              0.4444444444444444,
              "#bd3786"
             ],
             [
              0.5555555555555556,
              "#d8576b"
             ],
             [
              0.6666666666666666,
              "#ed7953"
             ],
             [
              0.7777777777777778,
              "#fb9f3a"
             ],
             [
              0.8888888888888888,
              "#fdca26"
             ],
             [
              1,
              "#f0f921"
             ]
            ],
            "type": "contour"
           }
          ],
          "contourcarpet": [
           {
            "colorbar": {
             "outlinewidth": 0,
             "ticks": ""
            },
            "type": "contourcarpet"
           }
          ],
          "heatmap": [
           {
            "colorbar": {
             "outlinewidth": 0,
             "ticks": ""
            },
            "colorscale": [
             [
              0,
              "#0d0887"
             ],
             [
              0.1111111111111111,
              "#46039f"
             ],
             [
              0.2222222222222222,
              "#7201a8"
             ],
             [
              0.3333333333333333,
              "#9c179e"
             ],
             [
              0.4444444444444444,
              "#bd3786"
             ],
             [
              0.5555555555555556,
              "#d8576b"
             ],
             [
              0.6666666666666666,
              "#ed7953"
             ],
             [
              0.7777777777777778,
              "#fb9f3a"
             ],
             [
              0.8888888888888888,
              "#fdca26"
             ],
             [
              1,
              "#f0f921"
             ]
            ],
            "type": "heatmap"
           }
          ],
          "heatmapgl": [
           {
            "colorbar": {
             "outlinewidth": 0,
             "ticks": ""
            },
            "colorscale": [
             [
              0,
              "#0d0887"
             ],
             [
              0.1111111111111111,
              "#46039f"
             ],
             [
              0.2222222222222222,
              "#7201a8"
             ],
             [
              0.3333333333333333,
              "#9c179e"
             ],
             [
              0.4444444444444444,
              "#bd3786"
             ],
             [
              0.5555555555555556,
              "#d8576b"
             ],
             [
              0.6666666666666666,
              "#ed7953"
             ],
             [
              0.7777777777777778,
              "#fb9f3a"
             ],
             [
              0.8888888888888888,
              "#fdca26"
             ],
             [
              1,
              "#f0f921"
             ]
            ],
            "type": "heatmapgl"
           }
          ],
          "histogram": [
           {
            "marker": {
             "pattern": {
              "fillmode": "overlay",
              "size": 10,
              "solidity": 0.2
             }
            },
            "type": "histogram"
           }
          ],
          "histogram2d": [
           {
            "colorbar": {
             "outlinewidth": 0,
             "ticks": ""
            },
            "colorscale": [
             [
              0,
              "#0d0887"
             ],
             [
              0.1111111111111111,
              "#46039f"
             ],
             [
              0.2222222222222222,
              "#7201a8"
             ],
             [
              0.3333333333333333,
              "#9c179e"
             ],
             [
              0.4444444444444444,
              "#bd3786"
             ],
             [
              0.5555555555555556,
              "#d8576b"
             ],
             [
              0.6666666666666666,
              "#ed7953"
             ],
             [
              0.7777777777777778,
              "#fb9f3a"
             ],
             [
              0.8888888888888888,
              "#fdca26"
             ],
             [
              1,
              "#f0f921"
             ]
            ],
            "type": "histogram2d"
           }
          ],
          "histogram2dcontour": [
           {
            "colorbar": {
             "outlinewidth": 0,
             "ticks": ""
            },
            "colorscale": [
             [
              0,
              "#0d0887"
             ],
             [
              0.1111111111111111,
              "#46039f"
             ],
             [
              0.2222222222222222,
              "#7201a8"
             ],
             [
              0.3333333333333333,
              "#9c179e"
             ],
             [
              0.4444444444444444,
              "#bd3786"
             ],
             [
              0.5555555555555556,
              "#d8576b"
             ],
             [
              0.6666666666666666,
              "#ed7953"
             ],
             [
              0.7777777777777778,
              "#fb9f3a"
             ],
             [
              0.8888888888888888,
              "#fdca26"
             ],
             [
              1,
              "#f0f921"
             ]
            ],
            "type": "histogram2dcontour"
           }
          ],
          "mesh3d": [
           {
            "colorbar": {
             "outlinewidth": 0,
             "ticks": ""
            },
            "type": "mesh3d"
           }
          ],
          "parcoords": [
           {
            "line": {
             "colorbar": {
              "outlinewidth": 0,
              "ticks": ""
             }
            },
            "type": "parcoords"
           }
          ],
          "pie": [
           {
            "automargin": true,
            "type": "pie"
           }
          ],
          "scatter": [
           {
            "fillpattern": {
             "fillmode": "overlay",
             "size": 10,
             "solidity": 0.2
            },
            "type": "scatter"
           }
          ],
          "scatter3d": [
           {
            "line": {
             "colorbar": {
              "outlinewidth": 0,
              "ticks": ""
             }
            },
            "marker": {
             "colorbar": {
              "outlinewidth": 0,
              "ticks": ""
             }
            },
            "type": "scatter3d"
           }
          ],
          "scattercarpet": [
           {
            "marker": {
             "colorbar": {
              "outlinewidth": 0,
              "ticks": ""
             }
            },
            "type": "scattercarpet"
           }
          ],
          "scattergeo": [
           {
            "marker": {
             "colorbar": {
              "outlinewidth": 0,
              "ticks": ""
             }
            },
            "type": "scattergeo"
           }
          ],
          "scattergl": [
           {
            "marker": {
             "colorbar": {
              "outlinewidth": 0,
              "ticks": ""
             }
            },
            "type": "scattergl"
           }
          ],
          "scattermapbox": [
           {
            "marker": {
             "colorbar": {
              "outlinewidth": 0,
              "ticks": ""
             }
            },
            "type": "scattermapbox"
           }
          ],
          "scatterpolar": [
           {
            "marker": {
             "colorbar": {
              "outlinewidth": 0,
              "ticks": ""
             }
            },
            "type": "scatterpolar"
           }
          ],
          "scatterpolargl": [
           {
            "marker": {
             "colorbar": {
              "outlinewidth": 0,
              "ticks": ""
             }
            },
            "type": "scatterpolargl"
           }
          ],
          "scatterternary": [
           {
            "marker": {
             "colorbar": {
              "outlinewidth": 0,
              "ticks": ""
             }
            },
            "type": "scatterternary"
           }
          ],
          "surface": [
           {
            "colorbar": {
             "outlinewidth": 0,
             "ticks": ""
            },
            "colorscale": [
             [
              0,
              "#0d0887"
             ],
             [
              0.1111111111111111,
              "#46039f"
             ],
             [
              0.2222222222222222,
              "#7201a8"
             ],
             [
              0.3333333333333333,
              "#9c179e"
             ],
             [
              0.4444444444444444,
              "#bd3786"
             ],
             [
              0.5555555555555556,
              "#d8576b"
             ],
             [
              0.6666666666666666,
              "#ed7953"
             ],
             [
              0.7777777777777778,
              "#fb9f3a"
             ],
             [
              0.8888888888888888,
              "#fdca26"
             ],
             [
              1,
              "#f0f921"
             ]
            ],
            "type": "surface"
           }
          ],
          "table": [
           {
            "cells": {
             "fill": {
              "color": "#EBF0F8"
             },
             "line": {
              "color": "white"
             }
            },
            "header": {
             "fill": {
              "color": "#C8D4E3"
             },
             "line": {
              "color": "white"
             }
            },
            "type": "table"
           }
          ]
         },
         "layout": {
          "annotationdefaults": {
           "arrowcolor": "#2a3f5f",
           "arrowhead": 0,
           "arrowwidth": 1
          },
          "autotypenumbers": "strict",
          "coloraxis": {
           "colorbar": {
            "outlinewidth": 0,
            "ticks": ""
           }
          },
          "colorscale": {
           "diverging": [
            [
             0,
             "#8e0152"
            ],
            [
             0.1,
             "#c51b7d"
            ],
            [
             0.2,
             "#de77ae"
            ],
            [
             0.3,
             "#f1b6da"
            ],
            [
             0.4,
             "#fde0ef"
            ],
            [
             0.5,
             "#f7f7f7"
            ],
            [
             0.6,
             "#e6f5d0"
            ],
            [
             0.7,
             "#b8e186"
            ],
            [
             0.8,
             "#7fbc41"
            ],
            [
             0.9,
             "#4d9221"
            ],
            [
             1,
             "#276419"
            ]
           ],
           "sequential": [
            [
             0,
             "#0d0887"
            ],
            [
             0.1111111111111111,
             "#46039f"
            ],
            [
             0.2222222222222222,
             "#7201a8"
            ],
            [
             0.3333333333333333,
             "#9c179e"
            ],
            [
             0.4444444444444444,
             "#bd3786"
            ],
            [
             0.5555555555555556,
             "#d8576b"
            ],
            [
             0.6666666666666666,
             "#ed7953"
            ],
            [
             0.7777777777777778,
             "#fb9f3a"
            ],
            [
             0.8888888888888888,
             "#fdca26"
            ],
            [
             1,
             "#f0f921"
            ]
           ],
           "sequentialminus": [
            [
             0,
             "#0d0887"
            ],
            [
             0.1111111111111111,
             "#46039f"
            ],
            [
             0.2222222222222222,
             "#7201a8"
            ],
            [
             0.3333333333333333,
             "#9c179e"
            ],
            [
             0.4444444444444444,
             "#bd3786"
            ],
            [
             0.5555555555555556,
             "#d8576b"
            ],
            [
             0.6666666666666666,
             "#ed7953"
            ],
            [
             0.7777777777777778,
             "#fb9f3a"
            ],
            [
             0.8888888888888888,
             "#fdca26"
            ],
            [
             1,
             "#f0f921"
            ]
           ]
          },
          "colorway": [
           "#636efa",
           "#EF553B",
           "#00cc96",
           "#ab63fa",
           "#FFA15A",
           "#19d3f3",
           "#FF6692",
           "#B6E880",
           "#FF97FF",
           "#FECB52"
          ],
          "font": {
           "color": "#2a3f5f"
          },
          "geo": {
           "bgcolor": "white",
           "lakecolor": "white",
           "landcolor": "#E5ECF6",
           "showlakes": true,
           "showland": true,
           "subunitcolor": "white"
          },
          "hoverlabel": {
           "align": "left"
          },
          "hovermode": "closest",
          "mapbox": {
           "style": "light"
          },
          "paper_bgcolor": "white",
          "plot_bgcolor": "#E5ECF6",
          "polar": {
           "angularaxis": {
            "gridcolor": "white",
            "linecolor": "white",
            "ticks": ""
           },
           "bgcolor": "#E5ECF6",
           "radialaxis": {
            "gridcolor": "white",
            "linecolor": "white",
            "ticks": ""
           }
          },
          "scene": {
           "xaxis": {
            "backgroundcolor": "#E5ECF6",
            "gridcolor": "white",
            "gridwidth": 2,
            "linecolor": "white",
            "showbackground": true,
            "ticks": "",
            "zerolinecolor": "white"
           },
           "yaxis": {
            "backgroundcolor": "#E5ECF6",
            "gridcolor": "white",
            "gridwidth": 2,
            "linecolor": "white",
            "showbackground": true,
            "ticks": "",
            "zerolinecolor": "white"
           },
           "zaxis": {
            "backgroundcolor": "#E5ECF6",
            "gridcolor": "white",
            "gridwidth": 2,
            "linecolor": "white",
            "showbackground": true,
            "ticks": "",
            "zerolinecolor": "white"
           }
          },
          "shapedefaults": {
           "line": {
            "color": "#2a3f5f"
           }
          },
          "ternary": {
           "aaxis": {
            "gridcolor": "white",
            "linecolor": "white",
            "ticks": ""
           },
           "baxis": {
            "gridcolor": "white",
            "linecolor": "white",
            "ticks": ""
           },
           "bgcolor": "#E5ECF6",
           "caxis": {
            "gridcolor": "white",
            "linecolor": "white",
            "ticks": ""
           }
          },
          "title": {
           "x": 0.05
          },
          "xaxis": {
           "automargin": true,
           "gridcolor": "white",
           "linecolor": "white",
           "ticks": "",
           "title": {
            "standoff": 15
           },
           "zerolinecolor": "white",
           "zerolinewidth": 2
          },
          "yaxis": {
           "automargin": true,
           "gridcolor": "white",
           "linecolor": "white",
           "ticks": "",
           "title": {
            "standoff": 15
           },
           "zerolinecolor": "white",
           "zerolinewidth": 2
          }
         }
        },
        "title": {
         "text": "Optimization History Plot"
        },
        "xaxis": {
         "title": {
          "text": "Trial"
         }
        },
        "yaxis": {
         "title": {
          "text": "Objective Value"
         }
        }
       }
      },
      "text/html": [
       "<div>                            <div id=\"ccd158f7-afd4-4810-b50c-b8704b1fb78e\" class=\"plotly-graph-div\" style=\"height:525px; width:100%;\"></div>            <script type=\"text/javascript\">                require([\"plotly\"], function(Plotly) {                    window.PLOTLYENV=window.PLOTLYENV || {};                                    if (document.getElementById(\"ccd158f7-afd4-4810-b50c-b8704b1fb78e\")) {                    Plotly.newPlot(                        \"ccd158f7-afd4-4810-b50c-b8704b1fb78e\",                        [{\"mode\":\"markers\",\"name\":\"Objective Value\",\"x\":[0],\"y\":[0.9170004455305906],\"type\":\"scatter\"},{\"mode\":\"lines\",\"name\":\"Best Value\",\"x\":[0],\"y\":[0.9170004455305906],\"type\":\"scatter\"},{\"marker\":{\"color\":\"#cccccc\"},\"mode\":\"markers\",\"name\":\"Infeasible Trial\",\"showlegend\":false,\"x\":[],\"y\":[],\"type\":\"scatter\"}],                        {\"title\":{\"text\":\"Optimization History Plot\"},\"xaxis\":{\"title\":{\"text\":\"Trial\"}},\"yaxis\":{\"title\":{\"text\":\"Objective Value\"}},\"template\":{\"data\":{\"histogram2dcontour\":[{\"type\":\"histogram2dcontour\",\"colorbar\":{\"outlinewidth\":0,\"ticks\":\"\"},\"colorscale\":[[0.0,\"#0d0887\"],[0.1111111111111111,\"#46039f\"],[0.2222222222222222,\"#7201a8\"],[0.3333333333333333,\"#9c179e\"],[0.4444444444444444,\"#bd3786\"],[0.5555555555555556,\"#d8576b\"],[0.6666666666666666,\"#ed7953\"],[0.7777777777777778,\"#fb9f3a\"],[0.8888888888888888,\"#fdca26\"],[1.0,\"#f0f921\"]]}],\"choropleth\":[{\"type\":\"choropleth\",\"colorbar\":{\"outlinewidth\":0,\"ticks\":\"\"}}],\"histogram2d\":[{\"type\":\"histogram2d\",\"colorbar\":{\"outlinewidth\":0,\"ticks\":\"\"},\"colorscale\":[[0.0,\"#0d0887\"],[0.1111111111111111,\"#46039f\"],[0.2222222222222222,\"#7201a8\"],[0.3333333333333333,\"#9c179e\"],[0.4444444444444444,\"#bd3786\"],[0.5555555555555556,\"#d8576b\"],[0.6666666666666666,\"#ed7953\"],[0.7777777777777778,\"#fb9f3a\"],[0.8888888888888888,\"#fdca26\"],[1.0,\"#f0f921\"]]}],\"heatmap\":[{\"type\":\"heatmap\",\"colorbar\":{\"outlinewidth\":0,\"ticks\":\"\"},\"colorscale\":[[0.0,\"#0d0887\"],[0.1111111111111111,\"#46039f\"],[0.2222222222222222,\"#7201a8\"],[0.3333333333333333,\"#9c179e\"],[0.4444444444444444,\"#bd3786\"],[0.5555555555555556,\"#d8576b\"],[0.6666666666666666,\"#ed7953\"],[0.7777777777777778,\"#fb9f3a\"],[0.8888888888888888,\"#fdca26\"],[1.0,\"#f0f921\"]]}],\"heatmapgl\":[{\"type\":\"heatmapgl\",\"colorbar\":{\"outlinewidth\":0,\"ticks\":\"\"},\"colorscale\":[[0.0,\"#0d0887\"],[0.1111111111111111,\"#46039f\"],[0.2222222222222222,\"#7201a8\"],[0.3333333333333333,\"#9c179e\"],[0.4444444444444444,\"#bd3786\"],[0.5555555555555556,\"#d8576b\"],[0.6666666666666666,\"#ed7953\"],[0.7777777777777778,\"#fb9f3a\"],[0.8888888888888888,\"#fdca26\"],[1.0,\"#f0f921\"]]}],\"contourcarpet\":[{\"type\":\"contourcarpet\",\"colorbar\":{\"outlinewidth\":0,\"ticks\":\"\"}}],\"contour\":[{\"type\":\"contour\",\"colorbar\":{\"outlinewidth\":0,\"ticks\":\"\"},\"colorscale\":[[0.0,\"#0d0887\"],[0.1111111111111111,\"#46039f\"],[0.2222222222222222,\"#7201a8\"],[0.3333333333333333,\"#9c179e\"],[0.4444444444444444,\"#bd3786\"],[0.5555555555555556,\"#d8576b\"],[0.6666666666666666,\"#ed7953\"],[0.7777777777777778,\"#fb9f3a\"],[0.8888888888888888,\"#fdca26\"],[1.0,\"#f0f921\"]]}],\"surface\":[{\"type\":\"surface\",\"colorbar\":{\"outlinewidth\":0,\"ticks\":\"\"},\"colorscale\":[[0.0,\"#0d0887\"],[0.1111111111111111,\"#46039f\"],[0.2222222222222222,\"#7201a8\"],[0.3333333333333333,\"#9c179e\"],[0.4444444444444444,\"#bd3786\"],[0.5555555555555556,\"#d8576b\"],[0.6666666666666666,\"#ed7953\"],[0.7777777777777778,\"#fb9f3a\"],[0.8888888888888888,\"#fdca26\"],[1.0,\"#f0f921\"]]}],\"mesh3d\":[{\"type\":\"mesh3d\",\"colorbar\":{\"outlinewidth\":0,\"ticks\":\"\"}}],\"scatter\":[{\"fillpattern\":{\"fillmode\":\"overlay\",\"size\":10,\"solidity\":0.2},\"type\":\"scatter\"}],\"parcoords\":[{\"type\":\"parcoords\",\"line\":{\"colorbar\":{\"outlinewidth\":0,\"ticks\":\"\"}}}],\"scatterpolargl\":[{\"type\":\"scatterpolargl\",\"marker\":{\"colorbar\":{\"outlinewidth\":0,\"ticks\":\"\"}}}],\"bar\":[{\"error_x\":{\"color\":\"#2a3f5f\"},\"error_y\":{\"color\":\"#2a3f5f\"},\"marker\":{\"line\":{\"color\":\"#E5ECF6\",\"width\":0.5},\"pattern\":{\"fillmode\":\"overlay\",\"size\":10,\"solidity\":0.2}},\"type\":\"bar\"}],\"scattergeo\":[{\"type\":\"scattergeo\",\"marker\":{\"colorbar\":{\"outlinewidth\":0,\"ticks\":\"\"}}}],\"scatterpolar\":[{\"type\":\"scatterpolar\",\"marker\":{\"colorbar\":{\"outlinewidth\":0,\"ticks\":\"\"}}}],\"histogram\":[{\"marker\":{\"pattern\":{\"fillmode\":\"overlay\",\"size\":10,\"solidity\":0.2}},\"type\":\"histogram\"}],\"scattergl\":[{\"type\":\"scattergl\",\"marker\":{\"colorbar\":{\"outlinewidth\":0,\"ticks\":\"\"}}}],\"scatter3d\":[{\"type\":\"scatter3d\",\"line\":{\"colorbar\":{\"outlinewidth\":0,\"ticks\":\"\"}},\"marker\":{\"colorbar\":{\"outlinewidth\":0,\"ticks\":\"\"}}}],\"scattermapbox\":[{\"type\":\"scattermapbox\",\"marker\":{\"colorbar\":{\"outlinewidth\":0,\"ticks\":\"\"}}}],\"scatterternary\":[{\"type\":\"scatterternary\",\"marker\":{\"colorbar\":{\"outlinewidth\":0,\"ticks\":\"\"}}}],\"scattercarpet\":[{\"type\":\"scattercarpet\",\"marker\":{\"colorbar\":{\"outlinewidth\":0,\"ticks\":\"\"}}}],\"carpet\":[{\"aaxis\":{\"endlinecolor\":\"#2a3f5f\",\"gridcolor\":\"white\",\"linecolor\":\"white\",\"minorgridcolor\":\"white\",\"startlinecolor\":\"#2a3f5f\"},\"baxis\":{\"endlinecolor\":\"#2a3f5f\",\"gridcolor\":\"white\",\"linecolor\":\"white\",\"minorgridcolor\":\"white\",\"startlinecolor\":\"#2a3f5f\"},\"type\":\"carpet\"}],\"table\":[{\"cells\":{\"fill\":{\"color\":\"#EBF0F8\"},\"line\":{\"color\":\"white\"}},\"header\":{\"fill\":{\"color\":\"#C8D4E3\"},\"line\":{\"color\":\"white\"}},\"type\":\"table\"}],\"barpolar\":[{\"marker\":{\"line\":{\"color\":\"#E5ECF6\",\"width\":0.5},\"pattern\":{\"fillmode\":\"overlay\",\"size\":10,\"solidity\":0.2}},\"type\":\"barpolar\"}],\"pie\":[{\"automargin\":true,\"type\":\"pie\"}]},\"layout\":{\"autotypenumbers\":\"strict\",\"colorway\":[\"#636efa\",\"#EF553B\",\"#00cc96\",\"#ab63fa\",\"#FFA15A\",\"#19d3f3\",\"#FF6692\",\"#B6E880\",\"#FF97FF\",\"#FECB52\"],\"font\":{\"color\":\"#2a3f5f\"},\"hovermode\":\"closest\",\"hoverlabel\":{\"align\":\"left\"},\"paper_bgcolor\":\"white\",\"plot_bgcolor\":\"#E5ECF6\",\"polar\":{\"bgcolor\":\"#E5ECF6\",\"angularaxis\":{\"gridcolor\":\"white\",\"linecolor\":\"white\",\"ticks\":\"\"},\"radialaxis\":{\"gridcolor\":\"white\",\"linecolor\":\"white\",\"ticks\":\"\"}},\"ternary\":{\"bgcolor\":\"#E5ECF6\",\"aaxis\":{\"gridcolor\":\"white\",\"linecolor\":\"white\",\"ticks\":\"\"},\"baxis\":{\"gridcolor\":\"white\",\"linecolor\":\"white\",\"ticks\":\"\"},\"caxis\":{\"gridcolor\":\"white\",\"linecolor\":\"white\",\"ticks\":\"\"}},\"coloraxis\":{\"colorbar\":{\"outlinewidth\":0,\"ticks\":\"\"}},\"colorscale\":{\"sequential\":[[0.0,\"#0d0887\"],[0.1111111111111111,\"#46039f\"],[0.2222222222222222,\"#7201a8\"],[0.3333333333333333,\"#9c179e\"],[0.4444444444444444,\"#bd3786\"],[0.5555555555555556,\"#d8576b\"],[0.6666666666666666,\"#ed7953\"],[0.7777777777777778,\"#fb9f3a\"],[0.8888888888888888,\"#fdca26\"],[1.0,\"#f0f921\"]],\"sequentialminus\":[[0.0,\"#0d0887\"],[0.1111111111111111,\"#46039f\"],[0.2222222222222222,\"#7201a8\"],[0.3333333333333333,\"#9c179e\"],[0.4444444444444444,\"#bd3786\"],[0.5555555555555556,\"#d8576b\"],[0.6666666666666666,\"#ed7953\"],[0.7777777777777778,\"#fb9f3a\"],[0.8888888888888888,\"#fdca26\"],[1.0,\"#f0f921\"]],\"diverging\":[[0,\"#8e0152\"],[0.1,\"#c51b7d\"],[0.2,\"#de77ae\"],[0.3,\"#f1b6da\"],[0.4,\"#fde0ef\"],[0.5,\"#f7f7f7\"],[0.6,\"#e6f5d0\"],[0.7,\"#b8e186\"],[0.8,\"#7fbc41\"],[0.9,\"#4d9221\"],[1,\"#276419\"]]},\"xaxis\":{\"gridcolor\":\"white\",\"linecolor\":\"white\",\"ticks\":\"\",\"title\":{\"standoff\":15},\"zerolinecolor\":\"white\",\"automargin\":true,\"zerolinewidth\":2},\"yaxis\":{\"gridcolor\":\"white\",\"linecolor\":\"white\",\"ticks\":\"\",\"title\":{\"standoff\":15},\"zerolinecolor\":\"white\",\"automargin\":true,\"zerolinewidth\":2},\"scene\":{\"xaxis\":{\"backgroundcolor\":\"#E5ECF6\",\"gridcolor\":\"white\",\"linecolor\":\"white\",\"showbackground\":true,\"ticks\":\"\",\"zerolinecolor\":\"white\",\"gridwidth\":2},\"yaxis\":{\"backgroundcolor\":\"#E5ECF6\",\"gridcolor\":\"white\",\"linecolor\":\"white\",\"showbackground\":true,\"ticks\":\"\",\"zerolinecolor\":\"white\",\"gridwidth\":2},\"zaxis\":{\"backgroundcolor\":\"#E5ECF6\",\"gridcolor\":\"white\",\"linecolor\":\"white\",\"showbackground\":true,\"ticks\":\"\",\"zerolinecolor\":\"white\",\"gridwidth\":2}},\"shapedefaults\":{\"line\":{\"color\":\"#2a3f5f\"}},\"annotationdefaults\":{\"arrowcolor\":\"#2a3f5f\",\"arrowhead\":0,\"arrowwidth\":1},\"geo\":{\"bgcolor\":\"white\",\"landcolor\":\"#E5ECF6\",\"subunitcolor\":\"white\",\"showland\":true,\"showlakes\":true,\"lakecolor\":\"white\"},\"title\":{\"x\":0.05},\"mapbox\":{\"style\":\"light\"}}}},                        {\"responsive\": true}                    ).then(function(){\n",
       "                            \n",
       "var gd = document.getElementById('ccd158f7-afd4-4810-b50c-b8704b1fb78e');\n",
       "var x = new MutationObserver(function (mutations, observer) {{\n",
       "        var display = window.getComputedStyle(gd).display;\n",
       "        if (!display || display === 'none') {{\n",
       "            console.log([gd, 'removed!']);\n",
       "            Plotly.purge(gd);\n",
       "            observer.disconnect();\n",
       "        }}\n",
       "}});\n",
       "\n",
       "// Listen for the removal of the full notebook cells\n",
       "var notebookContainer = gd.closest('#notebook-container');\n",
       "if (notebookContainer) {{\n",
       "    x.observe(notebookContainer, {childList: true});\n",
       "}}\n",
       "\n",
       "// Listen for the clearing of the current output cell\n",
       "var outputEl = gd.closest('.output');\n",
       "if (outputEl) {{\n",
       "    x.observe(outputEl, {childList: true});\n",
       "}}\n",
       "\n",
       "                        })                };                });            </script>        </div>"
      ]
     },
     "metadata": {},
     "output_type": "display_data"
    },
    {
     "name": "stdout",
     "output_type": "stream",
     "text": [
      "Study Summary\n",
      "{'n_estimators': 1981, 'max_depth': 8, 'learning_rate': 0.002313108259048458, 'min_child_weight': 1}\n",
      "AUC-ROC: 0.9170004455305906\n",
      "Best model results\n",
      "Optimal threshold 0.01446029\n",
      "Test Metrics\n",
      "0.6948051948051948\n",
      "0.9745803357314149\n",
      "[[92 47]\n",
      " [ 0 15]]\n"
     ]
    },
    {
     "data": {
      "image/png": "[encoded data removed]",
      "text/plain": [
       "<Figure size 640x480 with 1 Axes>"
      ]
     },
     "metadata": {},
     "output_type": "display_data"
    }
   ],
   "source": [
    "def objective_xg(trial):\n",
    "    xg_params = {\n",
    "        \"n_estimators\": trial.suggest_int(\"n_estimators\", low = 100, high = 2000),\n",
    "        \"max_depth\": trial.suggest_int(\"max_depth\", 3, 10),\n",
    "        \"learning_rate\": trial.suggest_loguniform('learning_rate', 1e-3, 1e-1),\n",
    "        \"min_child_weight\": trial.suggest_int(\"min_child_weight\", low = 1, high = 10),\n",
    "    }\n",
    "    kf = KFold(n_splits = 5, shuffle = True, random_state = 123)\n",
    "    values_test = []\n",
    "    xg = XGBClassifier(**xg_params)\n",
    "    for trf_index, tef_index in kf.split(X_train): # train and test folds of train data (only data we use now)\n",
    "        X_trf, X_tef = X_train.iloc[trf_index], X_train.iloc[tef_index]\n",
    "        y_trf, y_tef = y_train.iloc[trf_index], y_train.iloc[tef_index]\n",
    "        xg.fit(X_trf, y_trf)\n",
    "        values_test.append(roc_auc_score(y_tef, xg.predict_proba(X_tef)[:,1]))\n",
    "    return np.mean(np.array(values_test))\n",
    "\n",
    "study = optuna.create_study(direction = 'maximize')\n",
    "study.optimize(objective_xg, n_trials = 1)\n",
    "fig = vis.plot_optimization_history(study)\n",
    "fig.show()\n",
    "print('Study Summary')\n",
    "print(study.best_params)\n",
    "print('AUC-ROC:', study.best_value)\n",
    "print('Best model results')\n",
    "grid2 = XGBClassifier(**study.best_params)\n",
    "grid2.fit(X_train, y_train)\n",
    "joblib.dump(grid2, 'sp_xgboost.pkl')\n",
    "y_val_pred = grid2.predict(X_val)\n",
    "y_val_proba = grid2.predict_proba(X_val)[:,1]\n",
    "fpr2, tpr2, thresholds = roc_curve(y_val, y_val_proba, pos_label = 1)\n",
    "plt.plot(fpr2, tpr2, '-o', linewidth=2, label = 'XGBoost')\n",
    "plt.plot([0,1], [0,1], 'k--' )\n",
    "plt.legend()\n",
    "n_arg = np.argmin(abs(tpr2-1))\n",
    "thr_opt = thresholds[n_arg]\n",
    "print('Optimal threshold', thr_opt)\n",
    "# Putting metrics here as well \n",
    "print('Test Metrics')\n",
    "y_test_proba = grid2.predict_proba(X_test)[:,1]\n",
    "y_test_final = y_test_proba.copy()\n",
    "y_test_final[y_test_proba >= thr_opt] = 1\n",
    "y_test_final[y_test_proba < thr_opt] = 0\n",
    "print(accuracy_score(y_test, y_test_final)) # accuracy\n",
    "print(roc_auc_score(y_test, y_test_proba)) # roc auc\n",
    "print(confusion_matrix(y_test, y_test_final)) # confusion matrix"
   ]
  },
  {
   "cell_type": "markdown",
   "id": "87f484e2",
   "metadata": {},
   "source": [
    "### CatBoost"
   ]
  },
  {
   "cell_type": "code",
   "execution_count": 45,
   "id": "78cdcb27",
   "metadata": {
    "scrolled": true
   },
   "outputs": [
    {
     "name": "stderr",
     "output_type": "stream",
     "text": [
      "[I 2024-12-08 12:13:40,994] A new study created in memory with name: no-name-f3cfc462-6281-418b-9d76-ef2695e65163\n",
      "C:\\Users\\denis\\AppData\\Local\\Temp\\ipykernel_18400\\3724862153.py:5: FutureWarning:\n",
      "\n",
      "suggest_loguniform has been deprecated in v3.0.0. This feature will be removed in v6.0.0. See https://github.com/optuna/optuna/releases/tag/v3.0.0. Use suggest_float(..., log=True) instead.\n",
      "\n",
      "[I 2024-12-08 12:13:48,667] Trial 0 finished with value: 0.9314060201456419 and parameters: {'iterations': 874, 'depth': 3, 'learning_rate': 0.007572375404315823, 'l2_leaf_reg': 10}. Best is trial 0 with value: 0.9314060201456419.\n"
     ]
    },
    {
     "data": {
      "application/vnd.plotly.v1+json": {
       "config": {
        "plotlyServerURL": "https://plot.ly"
       },
       "data": [
        {
         "mode": "markers",
         "name": "Objective Value",
         "type": "scatter",
         "x": [
          0
         ],
         "y": [
          0.9314060201456419
         ]
        },
        {
         "mode": "lines",
         "name": "Best Value",
         "type": "scatter",
         "x": [
          0
         ],
         "y": [
          0.9314060201456419
         ]
        },
        {
         "marker": {
          "color": "#cccccc"
         },
         "mode": "markers",
         "name": "Infeasible Trial",
         "showlegend": false,
         "type": "scatter",
         "x": [],
         "y": []
        }
       ],
       "layout": {
        "template": {
         "data": {
          "bar": [
           {
            "error_x": {
             "color": "#2a3f5f"
            },
            "error_y": {
             "color": "#2a3f5f"
            },
            "marker": {
             "line": {
              "color": "#E5ECF6",
              "width": 0.5
             },
             "pattern": {
              "fillmode": "overlay",
              "size": 10,
              "solidity": 0.2
             }
            },
            "type": "bar"
           }
          ],
          "barpolar": [
           {
            "marker": {
             "line": {
              "color": "#E5ECF6",
              "width": 0.5
             },
             "pattern": {
              "fillmode": "overlay",
              "size": 10,
              "solidity": 0.2
             }
            },
            "type": "barpolar"
           }
          ],
          "carpet": [
           {
            "aaxis": {
             "endlinecolor": "#2a3f5f",
             "gridcolor": "white",
             "linecolor": "white",
             "minorgridcolor": "white",
             "startlinecolor": "#2a3f5f"
            },
            "baxis": {
             "endlinecolor": "#2a3f5f",
             "gridcolor": "white",
             "linecolor": "white",
             "minorgridcolor": "white",
             "startlinecolor": "#2a3f5f"
            },
            "type": "carpet"
           }
          ],
          "choropleth": [
           {
            "colorbar": {
             "outlinewidth": 0,
             "ticks": ""
            },
            "type": "choropleth"
           }
          ],
          "contour": [
           {
            "colorbar": {
             "outlinewidth": 0,
             "ticks": ""
            },
            "colorscale": [
             [
              0,
              "#0d0887"
             ],
             [
              0.1111111111111111,
              "#46039f"
             ],
             [
              0.2222222222222222,
              "#7201a8"
             ],
             [
              0.3333333333333333,
              "#9c179e"
             ],
             [
              0.4444444444444444,
              "#bd3786"
             ],
             [
              0.5555555555555556,
              "#d8576b"
             ],
             [
              0.6666666666666666,
              "#ed7953"
             ],
             [
              0.7777777777777778,
              "#fb9f3a"
             ],
             [
              0.8888888888888888,
              "#fdca26"
             ],
             [
              1,
              "#f0f921"
             ]
            ],
            "type": "contour"
           }
          ],
          "contourcarpet": [
           {
            "colorbar": {
             "outlinewidth": 0,
             "ticks": ""
            },
            "type": "contourcarpet"
           }
          ],
          "heatmap": [
           {
            "colorbar": {
             "outlinewidth": 0,
             "ticks": ""
            },
            "colorscale": [
             [
              0,
              "#0d0887"
             ],
             [
              0.1111111111111111,
              "#46039f"
             ],
             [
              0.2222222222222222,
              "#7201a8"
             ],
             [
              0.3333333333333333,
              "#9c179e"
             ],
             [
              0.4444444444444444,
              "#bd3786"
             ],
             [
              0.5555555555555556,
              "#d8576b"
             ],
             [
              0.6666666666666666,
              "#ed7953"
             ],
             [
              0.7777777777777778,
              "#fb9f3a"
             ],
             [
              0.8888888888888888,
              "#fdca26"
             ],
             [
              1,
              "#f0f921"
             ]
            ],
            "type": "heatmap"
           }
          ],
          "heatmapgl": [
           {
            "colorbar": {
             "outlinewidth": 0,
             "ticks": ""
            },
            "colorscale": [
             [
              0,
              "#0d0887"
             ],
             [
              0.1111111111111111,
              "#46039f"
             ],
             [
              0.2222222222222222,
              "#7201a8"
             ],
             [
              0.3333333333333333,
              "#9c179e"
             ],
             [
              0.4444444444444444,
              "#bd3786"
             ],
             [
              0.5555555555555556,
              "#d8576b"
             ],
             [
              0.6666666666666666,
              "#ed7953"
             ],
             [
              0.7777777777777778,
              "#fb9f3a"
             ],
             [
              0.8888888888888888,
              "#fdca26"
             ],
             [
              1,
              "#f0f921"
             ]
            ],
            "type": "heatmapgl"
           }
          ],
          "histogram": [
           {
            "marker": {
             "pattern": {
              "fillmode": "overlay",
              "size": 10,
              "solidity": 0.2
             }
            },
            "type": "histogram"
           }
          ],
          "histogram2d": [
           {
            "colorbar": {
             "outlinewidth": 0,
             "ticks": ""
            },
            "colorscale": [
             [
              0,
              "#0d0887"
             ],
             [
              0.1111111111111111,
              "#46039f"
             ],
             [
              0.2222222222222222,
              "#7201a8"
             ],
             [
              0.3333333333333333,
              "#9c179e"
             ],
             [
              0.4444444444444444,
              "#bd3786"
             ],
             [
              0.5555555555555556,
              "#d8576b"
             ],
             [
              0.6666666666666666,
              "#ed7953"
             ],
             [
              0.7777777777777778,
              "#fb9f3a"
             ],
             [
              0.8888888888888888,
              "#fdca26"
             ],
             [
              1,
              "#f0f921"
             ]
            ],
            "type": "histogram2d"
           }
          ],
          "histogram2dcontour": [
           {
            "colorbar": {
             "outlinewidth": 0,
             "ticks": ""
            },
            "colorscale": [
             [
              0,
              "#0d0887"
             ],
             [
              0.1111111111111111,
              "#46039f"
             ],
             [
              0.2222222222222222,
              "#7201a8"
             ],
             [
              0.3333333333333333,
              "#9c179e"
             ],
             [
              0.4444444444444444,
              "#bd3786"
             ],
             [
              0.5555555555555556,
              "#d8576b"
             ],
             [
              0.6666666666666666,
              "#ed7953"
             ],
             [
              0.7777777777777778,
              "#fb9f3a"
             ],
             [
              0.8888888888888888,
              "#fdca26"
             ],
             [
              1,
              "#f0f921"
             ]
            ],
            "type": "histogram2dcontour"
           }
          ],
          "mesh3d": [
           {
            "colorbar": {
             "outlinewidth": 0,
             "ticks": ""
            },
            "type": "mesh3d"
           }
          ],
          "parcoords": [
           {
            "line": {
             "colorbar": {
              "outlinewidth": 0,
              "ticks": ""
             }
            },
            "type": "parcoords"
           }
          ],
          "pie": [
           {
            "automargin": true,
            "type": "pie"
           }
          ],
          "scatter": [
           {
            "fillpattern": {
             "fillmode": "overlay",
             "size": 10,
             "solidity": 0.2
            },
            "type": "scatter"
           }
          ],
          "scatter3d": [
           {
            "line": {
             "colorbar": {
              "outlinewidth": 0,
              "ticks": ""
             }
            },
            "marker": {
             "colorbar": {
              "outlinewidth": 0,
              "ticks": ""
             }
            },
            "type": "scatter3d"
           }
          ],
          "scattercarpet": [
           {
            "marker": {
             "colorbar": {
              "outlinewidth": 0,
              "ticks": ""
             }
            },
            "type": "scattercarpet"
           }
          ],
          "scattergeo": [
           {
            "marker": {
             "colorbar": {
              "outlinewidth": 0,
              "ticks": ""
             }
            },
            "type": "scattergeo"
           }
          ],
          "scattergl": [
           {
            "marker": {
             "colorbar": {
              "outlinewidth": 0,
              "ticks": ""
             }
            },
            "type": "scattergl"
           }
          ],
          "scattermapbox": [
           {
            "marker": {
             "colorbar": {
              "outlinewidth": 0,
              "ticks": ""
             }
            },
            "type": "scattermapbox"
           }
          ],
          "scatterpolar": [
           {
            "marker": {
             "colorbar": {
              "outlinewidth": 0,
              "ticks": ""
             }
            },
            "type": "scatterpolar"
           }
          ],
          "scatterpolargl": [
           {
            "marker": {
             "colorbar": {
              "outlinewidth": 0,
              "ticks": ""
             }
            },
            "type": "scatterpolargl"
           }
          ],
          "scatterternary": [
           {
            "marker": {
             "colorbar": {
              "outlinewidth": 0,
              "ticks": ""
             }
            },
            "type": "scatterternary"
           }
          ],
          "surface": [
           {
            "colorbar": {
             "outlinewidth": 0,
             "ticks": ""
            },
            "colorscale": [
             [
              0,
              "#0d0887"
             ],
             [
              0.1111111111111111,
              "#46039f"
             ],
             [
              0.2222222222222222,
              "#7201a8"
             ],
             [
              0.3333333333333333,
              "#9c179e"
             ],
             [
              0.4444444444444444,
              "#bd3786"
             ],
             [
              0.5555555555555556,
              "#d8576b"
             ],
             [
              0.6666666666666666,
              "#ed7953"
             ],
             [
              0.7777777777777778,
              "#fb9f3a"
             ],
             [
              0.8888888888888888,
              "#fdca26"
             ],
             [
              1,
              "#f0f921"
             ]
            ],
            "type": "surface"
           }
          ],
          "table": [
           {
            "cells": {
             "fill": {
              "color": "#EBF0F8"
             },
             "line": {
              "color": "white"
             }
            },
            "header": {
             "fill": {
              "color": "#C8D4E3"
             },
             "line": {
              "color": "white"
             }
            },
            "type": "table"
           }
          ]
         },
         "layout": {
          "annotationdefaults": {
           "arrowcolor": "#2a3f5f",
           "arrowhead": 0,
           "arrowwidth": 1
          },
          "autotypenumbers": "strict",
          "coloraxis": {
           "colorbar": {
            "outlinewidth": 0,
            "ticks": ""
           }
          },
          "colorscale": {
           "diverging": [
            [
             0,
             "#8e0152"
            ],
            [
             0.1,
             "#c51b7d"
            ],
            [
             0.2,
             "#de77ae"
            ],
            [
             0.3,
             "#f1b6da"
            ],
            [
             0.4,
             "#fde0ef"
            ],
            [
             0.5,
             "#f7f7f7"
            ],
            [
             0.6,
             "#e6f5d0"
            ],
            [
             0.7,
             "#b8e186"
            ],
            [
             0.8,
             "#7fbc41"
            ],
            [
             0.9,
             "#4d9221"
            ],
            [
             1,
             "#276419"
            ]
           ],
           "sequential": [
            [
             0,
             "#0d0887"
            ],
            [
             0.1111111111111111,
             "#46039f"
            ],
            [
             0.2222222222222222,
             "#7201a8"
            ],
            [
             0.3333333333333333,
             "#9c179e"
            ],
            [
             0.4444444444444444,
             "#bd3786"
            ],
            [
             0.5555555555555556,
             "#d8576b"
            ],
            [
             0.6666666666666666,
             "#ed7953"
            ],
            [
             0.7777777777777778,
             "#fb9f3a"
            ],
            [
             0.8888888888888888,
             "#fdca26"
            ],
            [
             1,
             "#f0f921"
            ]
           ],
           "sequentialminus": [
            [
             0,
             "#0d0887"
            ],
            [
             0.1111111111111111,
             "#46039f"
            ],
            [
             0.2222222222222222,
             "#7201a8"
            ],
            [
             0.3333333333333333,
             "#9c179e"
            ],
            [
             0.4444444444444444,
             "#bd3786"
            ],
            [
             0.5555555555555556,
             "#d8576b"
            ],
            [
             0.6666666666666666,
             "#ed7953"
            ],
            [
             0.7777777777777778,
             "#fb9f3a"
            ],
            [
             0.8888888888888888,
             "#fdca26"
            ],
            [
             1,
             "#f0f921"
            ]
           ]
          },
          "colorway": [
           "#636efa",
           "#EF553B",
           "#00cc96",
           "#ab63fa",
           "#FFA15A",
           "#19d3f3",
           "#FF6692",
           "#B6E880",
           "#FF97FF",
           "#FECB52"
          ],
          "font": {
           "color": "#2a3f5f"
          },
          "geo": {
           "bgcolor": "white",
           "lakecolor": "white",
           "landcolor": "#E5ECF6",
           "showlakes": true,
           "showland": true,
           "subunitcolor": "white"
          },
          "hoverlabel": {
           "align": "left"
          },
          "hovermode": "closest",
          "mapbox": {
           "style": "light"
          },
          "paper_bgcolor": "white",
          "plot_bgcolor": "#E5ECF6",
          "polar": {
           "angularaxis": {
            "gridcolor": "white",
            "linecolor": "white",
            "ticks": ""
           },
           "bgcolor": "#E5ECF6",
           "radialaxis": {
            "gridcolor": "white",
            "linecolor": "white",
            "ticks": ""
           }
          },
          "scene": {
           "xaxis": {
            "backgroundcolor": "#E5ECF6",
            "gridcolor": "white",
            "gridwidth": 2,
            "linecolor": "white",
            "showbackground": true,
            "ticks": "",
            "zerolinecolor": "white"
           },
           "yaxis": {
            "backgroundcolor": "#E5ECF6",
            "gridcolor": "white",
            "gridwidth": 2,
            "linecolor": "white",
            "showbackground": true,
            "ticks": "",
            "zerolinecolor": "white"
           },
           "zaxis": {
            "backgroundcolor": "#E5ECF6",
            "gridcolor": "white",
            "gridwidth": 2,
            "linecolor": "white",
            "showbackground": true,
            "ticks": "",
            "zerolinecolor": "white"
           }
          },
          "shapedefaults": {
           "line": {
            "color": "#2a3f5f"
           }
          },
          "ternary": {
           "aaxis": {
            "gridcolor": "white",
            "linecolor": "white",
            "ticks": ""
           },
           "baxis": {
            "gridcolor": "white",
            "linecolor": "white",
            "ticks": ""
           },
           "bgcolor": "#E5ECF6",
           "caxis": {
            "gridcolor": "white",
            "linecolor": "white",
            "ticks": ""
           }
          },
          "title": {
           "x": 0.05
          },
          "xaxis": {
           "automargin": true,
           "gridcolor": "white",
           "linecolor": "white",
           "ticks": "",
           "title": {
            "standoff": 15
           },
           "zerolinecolor": "white",
           "zerolinewidth": 2
          },
          "yaxis": {
           "automargin": true,
           "gridcolor": "white",
           "linecolor": "white",
           "ticks": "",
           "title": {
            "standoff": 15
           },
           "zerolinecolor": "white",
           "zerolinewidth": 2
          }
         }
        },
        "title": {
         "text": "Optimization History Plot"
        },
        "xaxis": {
         "title": {
          "text": "Trial"
         }
        },
        "yaxis": {
         "title": {
          "text": "Objective Value"
         }
        }
       }
      },
      "text/html": [
       "<div>                            <div id=\"a37cc6d8-9113-41c1-9107-2419f0bede50\" class=\"plotly-graph-div\" style=\"height:525px; width:100%;\"></div>            <script type=\"text/javascript\">                require([\"plotly\"], function(Plotly) {                    window.PLOTLYENV=window.PLOTLYENV || {};                                    if (document.getElementById(\"a37cc6d8-9113-41c1-9107-2419f0bede50\")) {                    Plotly.newPlot(                        \"a37cc6d8-9113-41c1-9107-2419f0bede50\",                        [{\"mode\":\"markers\",\"name\":\"Objective Value\",\"x\":[0],\"y\":[0.9314060201456419],\"type\":\"scatter\"},{\"mode\":\"lines\",\"name\":\"Best Value\",\"x\":[0],\"y\":[0.9314060201456419],\"type\":\"scatter\"},{\"marker\":{\"color\":\"#cccccc\"},\"mode\":\"markers\",\"name\":\"Infeasible Trial\",\"showlegend\":false,\"x\":[],\"y\":[],\"type\":\"scatter\"}],                        {\"title\":{\"text\":\"Optimization History Plot\"},\"xaxis\":{\"title\":{\"text\":\"Trial\"}},\"yaxis\":{\"title\":{\"text\":\"Objective Value\"}},\"template\":{\"data\":{\"histogram2dcontour\":[{\"type\":\"histogram2dcontour\",\"colorbar\":{\"outlinewidth\":0,\"ticks\":\"\"},\"colorscale\":[[0.0,\"#0d0887\"],[0.1111111111111111,\"#46039f\"],[0.2222222222222222,\"#7201a8\"],[0.3333333333333333,\"#9c179e\"],[0.4444444444444444,\"#bd3786\"],[0.5555555555555556,\"#d8576b\"],[0.6666666666666666,\"#ed7953\"],[0.7777777777777778,\"#fb9f3a\"],[0.8888888888888888,\"#fdca26\"],[1.0,\"#f0f921\"]]}],\"choropleth\":[{\"type\":\"choropleth\",\"colorbar\":{\"outlinewidth\":0,\"ticks\":\"\"}}],\"histogram2d\":[{\"type\":\"histogram2d\",\"colorbar\":{\"outlinewidth\":0,\"ticks\":\"\"},\"colorscale\":[[0.0,\"#0d0887\"],[0.1111111111111111,\"#46039f\"],[0.2222222222222222,\"#7201a8\"],[0.3333333333333333,\"#9c179e\"],[0.4444444444444444,\"#bd3786\"],[0.5555555555555556,\"#d8576b\"],[0.6666666666666666,\"#ed7953\"],[0.7777777777777778,\"#fb9f3a\"],[0.8888888888888888,\"#fdca26\"],[1.0,\"#f0f921\"]]}],\"heatmap\":[{\"type\":\"heatmap\",\"colorbar\":{\"outlinewidth\":0,\"ticks\":\"\"},\"colorscale\":[[0.0,\"#0d0887\"],[0.1111111111111111,\"#46039f\"],[0.2222222222222222,\"#7201a8\"],[0.3333333333333333,\"#9c179e\"],[0.4444444444444444,\"#bd3786\"],[0.5555555555555556,\"#d8576b\"],[0.6666666666666666,\"#ed7953\"],[0.7777777777777778,\"#fb9f3a\"],[0.8888888888888888,\"#fdca26\"],[1.0,\"#f0f921\"]]}],\"heatmapgl\":[{\"type\":\"heatmapgl\",\"colorbar\":{\"outlinewidth\":0,\"ticks\":\"\"},\"colorscale\":[[0.0,\"#0d0887\"],[0.1111111111111111,\"#46039f\"],[0.2222222222222222,\"#7201a8\"],[0.3333333333333333,\"#9c179e\"],[0.4444444444444444,\"#bd3786\"],[0.5555555555555556,\"#d8576b\"],[0.6666666666666666,\"#ed7953\"],[0.7777777777777778,\"#fb9f3a\"],[0.8888888888888888,\"#fdca26\"],[1.0,\"#f0f921\"]]}],\"contourcarpet\":[{\"type\":\"contourcarpet\",\"colorbar\":{\"outlinewidth\":0,\"ticks\":\"\"}}],\"contour\":[{\"type\":\"contour\",\"colorbar\":{\"outlinewidth\":0,\"ticks\":\"\"},\"colorscale\":[[0.0,\"#0d0887\"],[0.1111111111111111,\"#46039f\"],[0.2222222222222222,\"#7201a8\"],[0.3333333333333333,\"#9c179e\"],[0.4444444444444444,\"#bd3786\"],[0.5555555555555556,\"#d8576b\"],[0.6666666666666666,\"#ed7953\"],[0.7777777777777778,\"#fb9f3a\"],[0.8888888888888888,\"#fdca26\"],[1.0,\"#f0f921\"]]}],\"surface\":[{\"type\":\"surface\",\"colorbar\":{\"outlinewidth\":0,\"ticks\":\"\"},\"colorscale\":[[0.0,\"#0d0887\"],[0.1111111111111111,\"#46039f\"],[0.2222222222222222,\"#7201a8\"],[0.3333333333333333,\"#9c179e\"],[0.4444444444444444,\"#bd3786\"],[0.5555555555555556,\"#d8576b\"],[0.6666666666666666,\"#ed7953\"],[0.7777777777777778,\"#fb9f3a\"],[0.8888888888888888,\"#fdca26\"],[1.0,\"#f0f921\"]]}],\"mesh3d\":[{\"type\":\"mesh3d\",\"colorbar\":{\"outlinewidth\":0,\"ticks\":\"\"}}],\"scatter\":[{\"fillpattern\":{\"fillmode\":\"overlay\",\"size\":10,\"solidity\":0.2},\"type\":\"scatter\"}],\"parcoords\":[{\"type\":\"parcoords\",\"line\":{\"colorbar\":{\"outlinewidth\":0,\"ticks\":\"\"}}}],\"scatterpolargl\":[{\"type\":\"scatterpolargl\",\"marker\":{\"colorbar\":{\"outlinewidth\":0,\"ticks\":\"\"}}}],\"bar\":[{\"error_x\":{\"color\":\"#2a3f5f\"},\"error_y\":{\"color\":\"#2a3f5f\"},\"marker\":{\"line\":{\"color\":\"#E5ECF6\",\"width\":0.5},\"pattern\":{\"fillmode\":\"overlay\",\"size\":10,\"solidity\":0.2}},\"type\":\"bar\"}],\"scattergeo\":[{\"type\":\"scattergeo\",\"marker\":{\"colorbar\":{\"outlinewidth\":0,\"ticks\":\"\"}}}],\"scatterpolar\":[{\"type\":\"scatterpolar\",\"marker\":{\"colorbar\":{\"outlinewidth\":0,\"ticks\":\"\"}}}],\"histogram\":[{\"marker\":{\"pattern\":{\"fillmode\":\"overlay\",\"size\":10,\"solidity\":0.2}},\"type\":\"histogram\"}],\"scattergl\":[{\"type\":\"scattergl\",\"marker\":{\"colorbar\":{\"outlinewidth\":0,\"ticks\":\"\"}}}],\"scatter3d\":[{\"type\":\"scatter3d\",\"line\":{\"colorbar\":{\"outlinewidth\":0,\"ticks\":\"\"}},\"marker\":{\"colorbar\":{\"outlinewidth\":0,\"ticks\":\"\"}}}],\"scattermapbox\":[{\"type\":\"scattermapbox\",\"marker\":{\"colorbar\":{\"outlinewidth\":0,\"ticks\":\"\"}}}],\"scatterternary\":[{\"type\":\"scatterternary\",\"marker\":{\"colorbar\":{\"outlinewidth\":0,\"ticks\":\"\"}}}],\"scattercarpet\":[{\"type\":\"scattercarpet\",\"marker\":{\"colorbar\":{\"outlinewidth\":0,\"ticks\":\"\"}}}],\"carpet\":[{\"aaxis\":{\"endlinecolor\":\"#2a3f5f\",\"gridcolor\":\"white\",\"linecolor\":\"white\",\"minorgridcolor\":\"white\",\"startlinecolor\":\"#2a3f5f\"},\"baxis\":{\"endlinecolor\":\"#2a3f5f\",\"gridcolor\":\"white\",\"linecolor\":\"white\",\"minorgridcolor\":\"white\",\"startlinecolor\":\"#2a3f5f\"},\"type\":\"carpet\"}],\"table\":[{\"cells\":{\"fill\":{\"color\":\"#EBF0F8\"},\"line\":{\"color\":\"white\"}},\"header\":{\"fill\":{\"color\":\"#C8D4E3\"},\"line\":{\"color\":\"white\"}},\"type\":\"table\"}],\"barpolar\":[{\"marker\":{\"line\":{\"color\":\"#E5ECF6\",\"width\":0.5},\"pattern\":{\"fillmode\":\"overlay\",\"size\":10,\"solidity\":0.2}},\"type\":\"barpolar\"}],\"pie\":[{\"automargin\":true,\"type\":\"pie\"}]},\"layout\":{\"autotypenumbers\":\"strict\",\"colorway\":[\"#636efa\",\"#EF553B\",\"#00cc96\",\"#ab63fa\",\"#FFA15A\",\"#19d3f3\",\"#FF6692\",\"#B6E880\",\"#FF97FF\",\"#FECB52\"],\"font\":{\"color\":\"#2a3f5f\"},\"hovermode\":\"closest\",\"hoverlabel\":{\"align\":\"left\"},\"paper_bgcolor\":\"white\",\"plot_bgcolor\":\"#E5ECF6\",\"polar\":{\"bgcolor\":\"#E5ECF6\",\"angularaxis\":{\"gridcolor\":\"white\",\"linecolor\":\"white\",\"ticks\":\"\"},\"radialaxis\":{\"gridcolor\":\"white\",\"linecolor\":\"white\",\"ticks\":\"\"}},\"ternary\":{\"bgcolor\":\"#E5ECF6\",\"aaxis\":{\"gridcolor\":\"white\",\"linecolor\":\"white\",\"ticks\":\"\"},\"baxis\":{\"gridcolor\":\"white\",\"linecolor\":\"white\",\"ticks\":\"\"},\"caxis\":{\"gridcolor\":\"white\",\"linecolor\":\"white\",\"ticks\":\"\"}},\"coloraxis\":{\"colorbar\":{\"outlinewidth\":0,\"ticks\":\"\"}},\"colorscale\":{\"sequential\":[[0.0,\"#0d0887\"],[0.1111111111111111,\"#46039f\"],[0.2222222222222222,\"#7201a8\"],[0.3333333333333333,\"#9c179e\"],[0.4444444444444444,\"#bd3786\"],[0.5555555555555556,\"#d8576b\"],[0.6666666666666666,\"#ed7953\"],[0.7777777777777778,\"#fb9f3a\"],[0.8888888888888888,\"#fdca26\"],[1.0,\"#f0f921\"]],\"sequentialminus\":[[0.0,\"#0d0887\"],[0.1111111111111111,\"#46039f\"],[0.2222222222222222,\"#7201a8\"],[0.3333333333333333,\"#9c179e\"],[0.4444444444444444,\"#bd3786\"],[0.5555555555555556,\"#d8576b\"],[0.6666666666666666,\"#ed7953\"],[0.7777777777777778,\"#fb9f3a\"],[0.8888888888888888,\"#fdca26\"],[1.0,\"#f0f921\"]],\"diverging\":[[0,\"#8e0152\"],[0.1,\"#c51b7d\"],[0.2,\"#de77ae\"],[0.3,\"#f1b6da\"],[0.4,\"#fde0ef\"],[0.5,\"#f7f7f7\"],[0.6,\"#e6f5d0\"],[0.7,\"#b8e186\"],[0.8,\"#7fbc41\"],[0.9,\"#4d9221\"],[1,\"#276419\"]]},\"xaxis\":{\"gridcolor\":\"white\",\"linecolor\":\"white\",\"ticks\":\"\",\"title\":{\"standoff\":15},\"zerolinecolor\":\"white\",\"automargin\":true,\"zerolinewidth\":2},\"yaxis\":{\"gridcolor\":\"white\",\"linecolor\":\"white\",\"ticks\":\"\",\"title\":{\"standoff\":15},\"zerolinecolor\":\"white\",\"automargin\":true,\"zerolinewidth\":2},\"scene\":{\"xaxis\":{\"backgroundcolor\":\"#E5ECF6\",\"gridcolor\":\"white\",\"linecolor\":\"white\",\"showbackground\":true,\"ticks\":\"\",\"zerolinecolor\":\"white\",\"gridwidth\":2},\"yaxis\":{\"backgroundcolor\":\"#E5ECF6\",\"gridcolor\":\"white\",\"linecolor\":\"white\",\"showbackground\":true,\"ticks\":\"\",\"zerolinecolor\":\"white\",\"gridwidth\":2},\"zaxis\":{\"backgroundcolor\":\"#E5ECF6\",\"gridcolor\":\"white\",\"linecolor\":\"white\",\"showbackground\":true,\"ticks\":\"\",\"zerolinecolor\":\"white\",\"gridwidth\":2}},\"shapedefaults\":{\"line\":{\"color\":\"#2a3f5f\"}},\"annotationdefaults\":{\"arrowcolor\":\"#2a3f5f\",\"arrowhead\":0,\"arrowwidth\":1},\"geo\":{\"bgcolor\":\"white\",\"landcolor\":\"#E5ECF6\",\"subunitcolor\":\"white\",\"showland\":true,\"showlakes\":true,\"lakecolor\":\"white\"},\"title\":{\"x\":0.05},\"mapbox\":{\"style\":\"light\"}}}},                        {\"responsive\": true}                    ).then(function(){\n",
       "                            \n",
       "var gd = document.getElementById('a37cc6d8-9113-41c1-9107-2419f0bede50');\n",
       "var x = new MutationObserver(function (mutations, observer) {{\n",
       "        var display = window.getComputedStyle(gd).display;\n",
       "        if (!display || display === 'none') {{\n",
       "            console.log([gd, 'removed!']);\n",
       "            Plotly.purge(gd);\n",
       "            observer.disconnect();\n",
       "        }}\n",
       "}});\n",
       "\n",
       "// Listen for the removal of the full notebook cells\n",
       "var notebookContainer = gd.closest('#notebook-container');\n",
       "if (notebookContainer) {{\n",
       "    x.observe(notebookContainer, {childList: true});\n",
       "}}\n",
       "\n",
       "// Listen for the clearing of the current output cell\n",
       "var outputEl = gd.closest('.output');\n",
       "if (outputEl) {{\n",
       "    x.observe(outputEl, {childList: true});\n",
       "}}\n",
       "\n",
       "                        })                };                });            </script>        </div>"
      ]
     },
     "metadata": {},
     "output_type": "display_data"
    },
    {
     "name": "stdout",
     "output_type": "stream",
     "text": [
      "Study Summary\n",
      "{'iterations': 874, 'depth': 3, 'learning_rate': 0.007572375404315823, 'l2_leaf_reg': 10}\n",
      "AUC-ROC: 0.9314060201456419\n",
      "Best model results\n",
      "0:\tlearn: 0.6822571\ttotal: 1.81ms\tremaining: 1.58s\n",
      "1:\tlearn: 0.6721973\ttotal: 3.34ms\tremaining: 1.46s\n",
      "2:\tlearn: 0.6648001\ttotal: 5.15ms\tremaining: 1.5s\n",
      "3:\tlearn: 0.6563554\ttotal: 6.97ms\tremaining: 1.51s\n",
      "4:\tlearn: 0.6467664\ttotal: 8.81ms\tremaining: 1.53s\n",
      "5:\tlearn: 0.6387363\ttotal: 10.6ms\tremaining: 1.53s\n",
      "6:\tlearn: 0.6308144\ttotal: 12.7ms\tremaining: 1.57s\n",
      "7:\tlearn: 0.6235003\ttotal: 14.6ms\tremaining: 1.58s\n",
      "8:\tlearn: 0.6147215\ttotal: 16.7ms\tremaining: 1.6s\n",
      "9:\tlearn: 0.6068645\ttotal: 18.7ms\tremaining: 1.61s\n",
      "10:\tlearn: 0.6005157\ttotal: 21.2ms\tremaining: 1.67s\n",
      "11:\tlearn: 0.5934100\ttotal: 23.2ms\tremaining: 1.67s\n",
      "12:\tlearn: 0.5854555\ttotal: 25.1ms\tremaining: 1.66s\n",
      "13:\tlearn: 0.5767822\ttotal: 27.1ms\tremaining: 1.67s\n",
      "14:\tlearn: 0.5687547\ttotal: 28.9ms\tremaining: 1.65s\n",
      "15:\tlearn: 0.5607114\ttotal: 30.8ms\tremaining: 1.65s\n",
      "16:\tlearn: 0.5544083\ttotal: 32.5ms\tremaining: 1.64s\n",
      "17:\tlearn: 0.5471636\ttotal: 34.8ms\tremaining: 1.65s\n",
      "18:\tlearn: 0.5405962\ttotal: 36.4ms\tremaining: 1.64s\n",
      "19:\tlearn: 0.5360403\ttotal: 38.2ms\tremaining: 1.63s\n",
      "20:\tlearn: 0.5302420\ttotal: 39.8ms\tremaining: 1.62s\n",
      "21:\tlearn: 0.5243796\ttotal: 41.7ms\tremaining: 1.61s\n",
      "22:\tlearn: 0.5184756\ttotal: 43.3ms\tremaining: 1.6s\n",
      "23:\tlearn: 0.5133884\ttotal: 45ms\tremaining: 1.59s\n",
      "24:\tlearn: 0.5075232\ttotal: 46.8ms\tremaining: 1.59s\n",
      "25:\tlearn: 0.5022908\ttotal: 48.7ms\tremaining: 1.59s\n",
      "26:\tlearn: 0.4957739\ttotal: 50.5ms\tremaining: 1.58s\n",
      "27:\tlearn: 0.4914914\ttotal: 52.4ms\tremaining: 1.58s\n",
      "28:\tlearn: 0.4869657\ttotal: 54.2ms\tremaining: 1.58s\n",
      "29:\tlearn: 0.4819556\ttotal: 56.1ms\tremaining: 1.58s\n",
      "30:\tlearn: 0.4770693\ttotal: 58ms\tremaining: 1.58s\n",
      "31:\tlearn: 0.4726942\ttotal: 59.7ms\tremaining: 1.57s\n",
      "32:\tlearn: 0.4687311\ttotal: 61.5ms\tremaining: 1.57s\n",
      "33:\tlearn: 0.4636178\ttotal: 63.3ms\tremaining: 1.56s\n",
      "34:\tlearn: 0.4581048\ttotal: 65.1ms\tremaining: 1.56s\n",
      "35:\tlearn: 0.4535198\ttotal: 66.8ms\tremaining: 1.55s\n",
      "36:\tlearn: 0.4491748\ttotal: 68.6ms\tremaining: 1.55s\n",
      "37:\tlearn: 0.4452756\ttotal: 70.4ms\tremaining: 1.55s\n",
      "38:\tlearn: 0.4417310\ttotal: 72.1ms\tremaining: 1.54s\n",
      "39:\tlearn: 0.4387519\ttotal: 73.8ms\tremaining: 1.54s\n",
      "40:\tlearn: 0.4359316\ttotal: 75.5ms\tremaining: 1.53s\n",
      "41:\tlearn: 0.4326681\ttotal: 77.3ms\tremaining: 1.53s\n",
      "42:\tlearn: 0.4278581\ttotal: 79ms\tremaining: 1.53s\n",
      "43:\tlearn: 0.4240329\ttotal: 80.8ms\tremaining: 1.52s\n",
      "44:\tlearn: 0.4206899\ttotal: 82.5ms\tremaining: 1.52s\n",
      "45:\tlearn: 0.4171095\ttotal: 84.3ms\tremaining: 1.52s\n",
      "46:\tlearn: 0.4122752\ttotal: 86ms\tremaining: 1.51s\n",
      "47:\tlearn: 0.4076225\ttotal: 87.7ms\tremaining: 1.51s\n",
      "48:\tlearn: 0.4042601\ttotal: 89.4ms\tremaining: 1.5s\n",
      "49:\tlearn: 0.4002172\ttotal: 91.1ms\tremaining: 1.5s\n",
      "50:\tlearn: 0.3963052\ttotal: 92.9ms\tremaining: 1.5s\n",
      "51:\tlearn: 0.3936379\ttotal: 94.6ms\tremaining: 1.5s\n",
      "52:\tlearn: 0.3910559\ttotal: 96.4ms\tremaining: 1.49s\n",
      "53:\tlearn: 0.3880729\ttotal: 98.3ms\tremaining: 1.49s\n",
      "54:\tlearn: 0.3837397\ttotal: 100ms\tremaining: 1.49s\n",
      "55:\tlearn: 0.3811601\ttotal: 102ms\tremaining: 1.49s\n",
      "56:\tlearn: 0.3789954\ttotal: 103ms\tremaining: 1.48s\n",
      "57:\tlearn: 0.3755148\ttotal: 105ms\tremaining: 1.48s\n",
      "58:\tlearn: 0.3717163\ttotal: 107ms\tremaining: 1.48s\n",
      "59:\tlearn: 0.3688212\ttotal: 109ms\tremaining: 1.47s\n",
      "60:\tlearn: 0.3661858\ttotal: 110ms\tremaining: 1.47s\n",
      "61:\tlearn: 0.3632806\ttotal: 112ms\tremaining: 1.47s\n",
      "62:\tlearn: 0.3611730\ttotal: 114ms\tremaining: 1.46s\n",
      "63:\tlearn: 0.3579794\ttotal: 115ms\tremaining: 1.46s\n",
      "64:\tlearn: 0.3551117\ttotal: 117ms\tremaining: 1.46s\n",
      "65:\tlearn: 0.3530026\ttotal: 119ms\tremaining: 1.45s\n",
      "66:\tlearn: 0.3504289\ttotal: 120ms\tremaining: 1.45s\n",
      "67:\tlearn: 0.3473513\ttotal: 122ms\tremaining: 1.45s\n",
      "68:\tlearn: 0.3442843\ttotal: 124ms\tremaining: 1.44s\n",
      "69:\tlearn: 0.3409855\ttotal: 125ms\tremaining: 1.44s\n",
      "70:\tlearn: 0.3387337\ttotal: 127ms\tremaining: 1.44s\n",
      "71:\tlearn: 0.3358399\ttotal: 129ms\tremaining: 1.43s\n",
      "72:\tlearn: 0.3332211\ttotal: 130ms\tremaining: 1.43s\n",
      "73:\tlearn: 0.3318802\ttotal: 132ms\tremaining: 1.43s\n",
      "74:\tlearn: 0.3301037\ttotal: 134ms\tremaining: 1.42s\n",
      "75:\tlearn: 0.3275497\ttotal: 135ms\tremaining: 1.42s\n",
      "76:\tlearn: 0.3249776\ttotal: 137ms\tremaining: 1.42s\n",
      "77:\tlearn: 0.3232843\ttotal: 139ms\tremaining: 1.41s\n",
      "78:\tlearn: 0.3207522\ttotal: 140ms\tremaining: 1.41s\n",
      "79:\tlearn: 0.3190796\ttotal: 142ms\tremaining: 1.41s\n",
      "80:\tlearn: 0.3170169\ttotal: 144ms\tremaining: 1.41s\n",
      "81:\tlearn: 0.3154489\ttotal: 145ms\tremaining: 1.4s\n",
      "82:\tlearn: 0.3128689\ttotal: 147ms\tremaining: 1.4s\n",
      "83:\tlearn: 0.3112165\ttotal: 149ms\tremaining: 1.4s\n",
      "84:\tlearn: 0.3094316\ttotal: 151ms\tremaining: 1.4s\n",
      "85:\tlearn: 0.3066614\ttotal: 152ms\tremaining: 1.4s\n",
      "86:\tlearn: 0.3048328\ttotal: 154ms\tremaining: 1.39s\n",
      "87:\tlearn: 0.3027001\ttotal: 156ms\tremaining: 1.39s\n",
      "88:\tlearn: 0.3010240\ttotal: 157ms\tremaining: 1.39s\n",
      "89:\tlearn: 0.2993687\ttotal: 159ms\tremaining: 1.39s\n",
      "90:\tlearn: 0.2970949\ttotal: 161ms\tremaining: 1.39s\n",
      "91:\tlearn: 0.2952903\ttotal: 163ms\tremaining: 1.38s\n",
      "92:\tlearn: 0.2936724\ttotal: 164ms\tremaining: 1.38s\n",
      "93:\tlearn: 0.2921457\ttotal: 166ms\tremaining: 1.38s\n",
      "94:\tlearn: 0.2903674\ttotal: 168ms\tremaining: 1.37s\n",
      "95:\tlearn: 0.2883768\ttotal: 169ms\tremaining: 1.37s\n",
      "96:\tlearn: 0.2871046\ttotal: 171ms\tremaining: 1.37s\n",
      "97:\tlearn: 0.2848862\ttotal: 173ms\tremaining: 1.37s\n",
      "98:\tlearn: 0.2835813\ttotal: 174ms\tremaining: 1.36s\n",
      "99:\tlearn: 0.2826775\ttotal: 176ms\tremaining: 1.36s\n",
      "100:\tlearn: 0.2814633\ttotal: 178ms\tremaining: 1.36s\n",
      "101:\tlearn: 0.2800867\ttotal: 179ms\tremaining: 1.36s\n",
      "102:\tlearn: 0.2787125\ttotal: 181ms\tremaining: 1.35s\n",
      "103:\tlearn: 0.2772236\ttotal: 183ms\tremaining: 1.35s\n",
      "104:\tlearn: 0.2758819\ttotal: 184ms\tremaining: 1.35s\n",
      "105:\tlearn: 0.2743539\ttotal: 186ms\tremaining: 1.35s\n",
      "106:\tlearn: 0.2735114\ttotal: 188ms\tremaining: 1.34s\n",
      "107:\tlearn: 0.2724226\ttotal: 190ms\tremaining: 1.34s\n",
      "108:\tlearn: 0.2713429\ttotal: 192ms\tremaining: 1.34s\n",
      "109:\tlearn: 0.2698796\ttotal: 193ms\tremaining: 1.34s\n",
      "110:\tlearn: 0.2682951\ttotal: 195ms\tremaining: 1.34s\n",
      "111:\tlearn: 0.2670617\ttotal: 200ms\tremaining: 1.36s\n",
      "112:\tlearn: 0.2657410\ttotal: 202ms\tremaining: 1.36s\n",
      "113:\tlearn: 0.2647932\ttotal: 205ms\tremaining: 1.37s\n",
      "114:\tlearn: 0.2636692\ttotal: 208ms\tremaining: 1.37s\n",
      "115:\tlearn: 0.2624818\ttotal: 209ms\tremaining: 1.37s\n",
      "116:\tlearn: 0.2611530\ttotal: 211ms\tremaining: 1.37s\n",
      "117:\tlearn: 0.2601232\ttotal: 213ms\tremaining: 1.37s\n",
      "118:\tlearn: 0.2590149\ttotal: 215ms\tremaining: 1.37s\n",
      "119:\tlearn: 0.2578475\ttotal: 217ms\tremaining: 1.36s\n",
      "120:\tlearn: 0.2570660\ttotal: 219ms\tremaining: 1.36s\n",
      "121:\tlearn: 0.2558063\ttotal: 221ms\tremaining: 1.36s\n",
      "122:\tlearn: 0.2547418\ttotal: 223ms\tremaining: 1.36s\n",
      "123:\tlearn: 0.2532291\ttotal: 225ms\tremaining: 1.36s\n",
      "124:\tlearn: 0.2522229\ttotal: 227ms\tremaining: 1.36s\n",
      "125:\tlearn: 0.2515232\ttotal: 229ms\tremaining: 1.36s\n",
      "126:\tlearn: 0.2503825\ttotal: 233ms\tremaining: 1.37s\n",
      "127:\tlearn: 0.2493640\ttotal: 236ms\tremaining: 1.38s\n",
      "128:\tlearn: 0.2485053\ttotal: 238ms\tremaining: 1.38s\n",
      "129:\tlearn: 0.2474562\ttotal: 240ms\tremaining: 1.37s\n",
      "130:\tlearn: 0.2462136\ttotal: 242ms\tremaining: 1.37s\n",
      "131:\tlearn: 0.2453073\ttotal: 243ms\tremaining: 1.37s\n",
      "132:\tlearn: 0.2446036\ttotal: 245ms\tremaining: 1.36s\n",
      "133:\tlearn: 0.2440245\ttotal: 247ms\tremaining: 1.36s\n",
      "134:\tlearn: 0.2432810\ttotal: 249ms\tremaining: 1.36s\n",
      "135:\tlearn: 0.2423553\ttotal: 250ms\tremaining: 1.36s\n",
      "136:\tlearn: 0.2418812\ttotal: 252ms\tremaining: 1.35s\n",
      "137:\tlearn: 0.2410723\ttotal: 254ms\tremaining: 1.35s\n",
      "138:\tlearn: 0.2404124\ttotal: 255ms\tremaining: 1.35s\n",
      "139:\tlearn: 0.2394294\ttotal: 257ms\tremaining: 1.35s\n",
      "140:\tlearn: 0.2388595\ttotal: 259ms\tremaining: 1.34s\n",
      "141:\tlearn: 0.2378799\ttotal: 260ms\tremaining: 1.34s\n",
      "142:\tlearn: 0.2369828\ttotal: 262ms\tremaining: 1.34s\n",
      "143:\tlearn: 0.2360727\ttotal: 264ms\tremaining: 1.34s\n",
      "144:\tlearn: 0.2353077\ttotal: 265ms\tremaining: 1.33s\n",
      "145:\tlearn: 0.2343395\ttotal: 267ms\tremaining: 1.33s\n",
      "146:\tlearn: 0.2334225\ttotal: 269ms\tremaining: 1.33s\n",
      "147:\tlearn: 0.2329441\ttotal: 270ms\tremaining: 1.33s\n",
      "148:\tlearn: 0.2319110\ttotal: 272ms\tremaining: 1.32s\n",
      "149:\tlearn: 0.2310414\ttotal: 274ms\tremaining: 1.32s\n",
      "150:\tlearn: 0.2299570\ttotal: 275ms\tremaining: 1.32s\n",
      "151:\tlearn: 0.2294470\ttotal: 277ms\tremaining: 1.32s\n",
      "152:\tlearn: 0.2285762\ttotal: 279ms\tremaining: 1.31s\n",
      "153:\tlearn: 0.2281221\ttotal: 281ms\tremaining: 1.31s\n",
      "154:\tlearn: 0.2273805\ttotal: 282ms\tremaining: 1.31s\n",
      "155:\tlearn: 0.2268139\ttotal: 284ms\tremaining: 1.31s\n",
      "156:\tlearn: 0.2260777\ttotal: 286ms\tremaining: 1.3s\n",
      "157:\tlearn: 0.2256853\ttotal: 287ms\tremaining: 1.3s\n",
      "158:\tlearn: 0.2250284\ttotal: 289ms\tremaining: 1.3s\n",
      "159:\tlearn: 0.2244344\ttotal: 291ms\tremaining: 1.3s\n",
      "160:\tlearn: 0.2236341\ttotal: 293ms\tremaining: 1.3s\n",
      "161:\tlearn: 0.2227454\ttotal: 294ms\tremaining: 1.29s\n",
      "162:\tlearn: 0.2219350\ttotal: 296ms\tremaining: 1.29s\n",
      "163:\tlearn: 0.2212123\ttotal: 298ms\tremaining: 1.29s\n",
      "164:\tlearn: 0.2203189\ttotal: 300ms\tremaining: 1.29s\n",
      "165:\tlearn: 0.2198303\ttotal: 301ms\tremaining: 1.28s\n",
      "166:\tlearn: 0.2189683\ttotal: 303ms\tremaining: 1.28s\n",
      "167:\tlearn: 0.2182059\ttotal: 305ms\tremaining: 1.28s\n",
      "168:\tlearn: 0.2175529\ttotal: 306ms\tremaining: 1.28s\n",
      "169:\tlearn: 0.2166022\ttotal: 308ms\tremaining: 1.27s\n",
      "170:\tlearn: 0.2158999\ttotal: 310ms\tremaining: 1.27s\n",
      "171:\tlearn: 0.2155686\ttotal: 311ms\tremaining: 1.27s\n",
      "172:\tlearn: 0.2149241\ttotal: 313ms\tremaining: 1.27s\n",
      "173:\tlearn: 0.2143104\ttotal: 315ms\tremaining: 1.27s\n",
      "174:\tlearn: 0.2137963\ttotal: 316ms\tremaining: 1.26s\n",
      "175:\tlearn: 0.2131438\ttotal: 318ms\tremaining: 1.26s\n",
      "176:\tlearn: 0.2127228\ttotal: 320ms\tremaining: 1.26s\n",
      "177:\tlearn: 0.2122836\ttotal: 321ms\tremaining: 1.26s\n",
      "178:\tlearn: 0.2116019\ttotal: 323ms\tremaining: 1.25s\n",
      "179:\tlearn: 0.2112482\ttotal: 325ms\tremaining: 1.25s\n",
      "180:\tlearn: 0.2106194\ttotal: 326ms\tremaining: 1.25s\n",
      "181:\tlearn: 0.2102375\ttotal: 328ms\tremaining: 1.25s\n",
      "182:\tlearn: 0.2098058\ttotal: 330ms\tremaining: 1.25s\n",
      "183:\tlearn: 0.2093409\ttotal: 331ms\tremaining: 1.24s\n",
      "184:\tlearn: 0.2087661\ttotal: 333ms\tremaining: 1.24s\n",
      "185:\tlearn: 0.2082341\ttotal: 335ms\tremaining: 1.24s\n",
      "186:\tlearn: 0.2077383\ttotal: 337ms\tremaining: 1.24s\n",
      "187:\tlearn: 0.2072028\ttotal: 338ms\tremaining: 1.23s\n",
      "188:\tlearn: 0.2066757\ttotal: 340ms\tremaining: 1.23s\n",
      "189:\tlearn: 0.2059969\ttotal: 342ms\tremaining: 1.23s\n",
      "190:\tlearn: 0.2055475\ttotal: 344ms\tremaining: 1.23s\n",
      "191:\tlearn: 0.2051611\ttotal: 345ms\tremaining: 1.23s\n",
      "192:\tlearn: 0.2046193\ttotal: 347ms\tremaining: 1.22s\n",
      "193:\tlearn: 0.2041202\ttotal: 349ms\tremaining: 1.22s\n",
      "194:\tlearn: 0.2038011\ttotal: 351ms\tremaining: 1.22s\n",
      "195:\tlearn: 0.2032795\ttotal: 352ms\tremaining: 1.22s\n",
      "196:\tlearn: 0.2026018\ttotal: 354ms\tremaining: 1.22s\n",
      "197:\tlearn: 0.2022341\ttotal: 356ms\tremaining: 1.21s\n",
      "198:\tlearn: 0.2019758\ttotal: 358ms\tremaining: 1.21s\n",
      "199:\tlearn: 0.2016234\ttotal: 359ms\tremaining: 1.21s\n",
      "200:\tlearn: 0.2013370\ttotal: 361ms\tremaining: 1.21s\n",
      "201:\tlearn: 0.2009426\ttotal: 363ms\tremaining: 1.21s\n",
      "202:\tlearn: 0.2004507\ttotal: 365ms\tremaining: 1.2s\n",
      "203:\tlearn: 0.2002195\ttotal: 366ms\tremaining: 1.2s\n",
      "204:\tlearn: 0.1998162\ttotal: 368ms\tremaining: 1.2s\n",
      "205:\tlearn: 0.1994269\ttotal: 370ms\tremaining: 1.2s\n",
      "206:\tlearn: 0.1991454\ttotal: 372ms\tremaining: 1.2s\n",
      "207:\tlearn: 0.1986529\ttotal: 373ms\tremaining: 1.2s\n"
     ]
    },
    {
     "name": "stdout",
     "output_type": "stream",
     "text": [
      "208:\tlearn: 0.1983902\ttotal: 376ms\tremaining: 1.2s\n",
      "209:\tlearn: 0.1979958\ttotal: 378ms\tremaining: 1.19s\n",
      "210:\tlearn: 0.1974674\ttotal: 380ms\tremaining: 1.19s\n",
      "211:\tlearn: 0.1969476\ttotal: 382ms\tremaining: 1.19s\n",
      "212:\tlearn: 0.1967194\ttotal: 383ms\tremaining: 1.19s\n",
      "213:\tlearn: 0.1961607\ttotal: 385ms\tremaining: 1.19s\n",
      "214:\tlearn: 0.1957106\ttotal: 387ms\tremaining: 1.19s\n",
      "215:\tlearn: 0.1952933\ttotal: 389ms\tremaining: 1.18s\n",
      "216:\tlearn: 0.1950727\ttotal: 391ms\tremaining: 1.18s\n",
      "217:\tlearn: 0.1946623\ttotal: 393ms\tremaining: 1.18s\n",
      "218:\tlearn: 0.1941479\ttotal: 394ms\tremaining: 1.18s\n",
      "219:\tlearn: 0.1938897\ttotal: 396ms\tremaining: 1.18s\n",
      "220:\tlearn: 0.1935101\ttotal: 398ms\tremaining: 1.18s\n",
      "221:\tlearn: 0.1930397\ttotal: 400ms\tremaining: 1.18s\n",
      "222:\tlearn: 0.1926622\ttotal: 402ms\tremaining: 1.17s\n",
      "223:\tlearn: 0.1924193\ttotal: 404ms\tremaining: 1.17s\n",
      "224:\tlearn: 0.1920880\ttotal: 406ms\tremaining: 1.17s\n",
      "225:\tlearn: 0.1916365\ttotal: 409ms\tremaining: 1.17s\n",
      "226:\tlearn: 0.1913421\ttotal: 411ms\tremaining: 1.17s\n",
      "227:\tlearn: 0.1910466\ttotal: 412ms\tremaining: 1.17s\n",
      "228:\tlearn: 0.1906210\ttotal: 414ms\tremaining: 1.17s\n",
      "229:\tlearn: 0.1902717\ttotal: 416ms\tremaining: 1.16s\n",
      "230:\tlearn: 0.1898597\ttotal: 418ms\tremaining: 1.16s\n",
      "231:\tlearn: 0.1896261\ttotal: 419ms\tremaining: 1.16s\n",
      "232:\tlearn: 0.1893713\ttotal: 421ms\tremaining: 1.16s\n",
      "233:\tlearn: 0.1890402\ttotal: 423ms\tremaining: 1.16s\n",
      "234:\tlearn: 0.1886899\ttotal: 425ms\tremaining: 1.15s\n",
      "235:\tlearn: 0.1883911\ttotal: 426ms\tremaining: 1.15s\n",
      "236:\tlearn: 0.1879492\ttotal: 428ms\tremaining: 1.15s\n",
      "237:\tlearn: 0.1876296\ttotal: 430ms\tremaining: 1.15s\n",
      "238:\tlearn: 0.1875121\ttotal: 431ms\tremaining: 1.15s\n",
      "239:\tlearn: 0.1872074\ttotal: 433ms\tremaining: 1.14s\n",
      "240:\tlearn: 0.1867715\ttotal: 435ms\tremaining: 1.14s\n",
      "241:\tlearn: 0.1863174\ttotal: 437ms\tremaining: 1.14s\n",
      "242:\tlearn: 0.1860040\ttotal: 438ms\tremaining: 1.14s\n",
      "243:\tlearn: 0.1857912\ttotal: 440ms\tremaining: 1.14s\n",
      "244:\tlearn: 0.1854327\ttotal: 442ms\tremaining: 1.13s\n",
      "245:\tlearn: 0.1850483\ttotal: 443ms\tremaining: 1.13s\n",
      "246:\tlearn: 0.1847362\ttotal: 445ms\tremaining: 1.13s\n",
      "247:\tlearn: 0.1844256\ttotal: 447ms\tremaining: 1.13s\n",
      "248:\tlearn: 0.1842010\ttotal: 448ms\tremaining: 1.13s\n",
      "249:\tlearn: 0.1839742\ttotal: 450ms\tremaining: 1.12s\n",
      "250:\tlearn: 0.1837419\ttotal: 452ms\tremaining: 1.12s\n",
      "251:\tlearn: 0.1833784\ttotal: 454ms\tremaining: 1.12s\n",
      "252:\tlearn: 0.1831451\ttotal: 455ms\tremaining: 1.12s\n",
      "253:\tlearn: 0.1827920\ttotal: 457ms\tremaining: 1.11s\n",
      "254:\tlearn: 0.1825219\ttotal: 459ms\tremaining: 1.11s\n",
      "255:\tlearn: 0.1822125\ttotal: 460ms\tremaining: 1.11s\n",
      "256:\tlearn: 0.1818765\ttotal: 462ms\tremaining: 1.11s\n",
      "257:\tlearn: 0.1816427\ttotal: 464ms\tremaining: 1.11s\n",
      "258:\tlearn: 0.1814634\ttotal: 466ms\tremaining: 1.11s\n",
      "259:\tlearn: 0.1811940\ttotal: 468ms\tremaining: 1.1s\n",
      "260:\tlearn: 0.1809178\ttotal: 469ms\tremaining: 1.1s\n",
      "261:\tlearn: 0.1807513\ttotal: 471ms\tremaining: 1.1s\n",
      "262:\tlearn: 0.1804209\ttotal: 473ms\tremaining: 1.1s\n",
      "263:\tlearn: 0.1800212\ttotal: 474ms\tremaining: 1.1s\n",
      "264:\tlearn: 0.1797780\ttotal: 476ms\tremaining: 1.09s\n",
      "265:\tlearn: 0.1795327\ttotal: 478ms\tremaining: 1.09s\n",
      "266:\tlearn: 0.1793272\ttotal: 480ms\tremaining: 1.09s\n",
      "267:\tlearn: 0.1790933\ttotal: 481ms\tremaining: 1.09s\n",
      "268:\tlearn: 0.1789109\ttotal: 483ms\tremaining: 1.09s\n",
      "269:\tlearn: 0.1786033\ttotal: 485ms\tremaining: 1.08s\n",
      "270:\tlearn: 0.1783941\ttotal: 487ms\tremaining: 1.08s\n",
      "271:\tlearn: 0.1781039\ttotal: 489ms\tremaining: 1.08s\n",
      "272:\tlearn: 0.1778375\ttotal: 490ms\tremaining: 1.08s\n",
      "273:\tlearn: 0.1774323\ttotal: 492ms\tremaining: 1.08s\n",
      "274:\tlearn: 0.1771568\ttotal: 494ms\tremaining: 1.07s\n",
      "275:\tlearn: 0.1769056\ttotal: 496ms\tremaining: 1.07s\n",
      "276:\tlearn: 0.1766878\ttotal: 497ms\tremaining: 1.07s\n",
      "277:\tlearn: 0.1764375\ttotal: 499ms\tremaining: 1.07s\n",
      "278:\tlearn: 0.1761450\ttotal: 501ms\tremaining: 1.07s\n",
      "279:\tlearn: 0.1758785\ttotal: 502ms\tremaining: 1.06s\n",
      "280:\tlearn: 0.1755605\ttotal: 504ms\tremaining: 1.06s\n",
      "281:\tlearn: 0.1753270\ttotal: 506ms\tremaining: 1.06s\n",
      "282:\tlearn: 0.1750223\ttotal: 508ms\tremaining: 1.06s\n",
      "283:\tlearn: 0.1747965\ttotal: 510ms\tremaining: 1.06s\n",
      "284:\tlearn: 0.1745925\ttotal: 511ms\tremaining: 1.06s\n",
      "285:\tlearn: 0.1743027\ttotal: 514ms\tremaining: 1.06s\n",
      "286:\tlearn: 0.1739981\ttotal: 515ms\tremaining: 1.05s\n",
      "287:\tlearn: 0.1738695\ttotal: 517ms\tremaining: 1.05s\n",
      "288:\tlearn: 0.1736139\ttotal: 519ms\tremaining: 1.05s\n",
      "289:\tlearn: 0.1733234\ttotal: 521ms\tremaining: 1.05s\n",
      "290:\tlearn: 0.1732090\ttotal: 522ms\tremaining: 1.05s\n",
      "291:\tlearn: 0.1729987\ttotal: 524ms\tremaining: 1.04s\n",
      "292:\tlearn: 0.1727099\ttotal: 526ms\tremaining: 1.04s\n",
      "293:\tlearn: 0.1725202\ttotal: 528ms\tremaining: 1.04s\n",
      "294:\tlearn: 0.1722637\ttotal: 530ms\tremaining: 1.04s\n",
      "295:\tlearn: 0.1720145\ttotal: 531ms\tremaining: 1.04s\n",
      "296:\tlearn: 0.1717452\ttotal: 533ms\tremaining: 1.03s\n",
      "297:\tlearn: 0.1714222\ttotal: 535ms\tremaining: 1.03s\n",
      "298:\tlearn: 0.1712125\ttotal: 536ms\tremaining: 1.03s\n",
      "299:\tlearn: 0.1709368\ttotal: 538ms\tremaining: 1.03s\n",
      "300:\tlearn: 0.1706314\ttotal: 540ms\tremaining: 1.03s\n",
      "301:\tlearn: 0.1704294\ttotal: 541ms\tremaining: 1.02s\n",
      "302:\tlearn: 0.1702259\ttotal: 543ms\tremaining: 1.02s\n",
      "303:\tlearn: 0.1700289\ttotal: 545ms\tremaining: 1.02s\n",
      "304:\tlearn: 0.1698092\ttotal: 547ms\tremaining: 1.02s\n",
      "305:\tlearn: 0.1696383\ttotal: 548ms\tremaining: 1.02s\n",
      "306:\tlearn: 0.1694238\ttotal: 550ms\tremaining: 1.01s\n",
      "307:\tlearn: 0.1692584\ttotal: 552ms\tremaining: 1.01s\n",
      "308:\tlearn: 0.1690964\ttotal: 554ms\tremaining: 1.01s\n",
      "309:\tlearn: 0.1688950\ttotal: 555ms\tremaining: 1.01s\n",
      "310:\tlearn: 0.1686772\ttotal: 557ms\tremaining: 1.01s\n",
      "311:\tlearn: 0.1684151\ttotal: 559ms\tremaining: 1.01s\n",
      "312:\tlearn: 0.1681383\ttotal: 561ms\tremaining: 1s\n",
      "313:\tlearn: 0.1679657\ttotal: 562ms\tremaining: 1s\n",
      "314:\tlearn: 0.1677735\ttotal: 564ms\tremaining: 1s\n",
      "315:\tlearn: 0.1675389\ttotal: 566ms\tremaining: 999ms\n",
      "316:\tlearn: 0.1673003\ttotal: 568ms\tremaining: 998ms\n",
      "317:\tlearn: 0.1671403\ttotal: 570ms\tremaining: 996ms\n",
      "318:\tlearn: 0.1669046\ttotal: 571ms\tremaining: 994ms\n",
      "319:\tlearn: 0.1667488\ttotal: 573ms\tremaining: 992ms\n",
      "320:\tlearn: 0.1666124\ttotal: 575ms\tremaining: 991ms\n",
      "321:\tlearn: 0.1663311\ttotal: 577ms\tremaining: 989ms\n",
      "322:\tlearn: 0.1661447\ttotal: 578ms\tremaining: 987ms\n",
      "323:\tlearn: 0.1659621\ttotal: 580ms\tremaining: 985ms\n",
      "324:\tlearn: 0.1658011\ttotal: 582ms\tremaining: 983ms\n",
      "325:\tlearn: 0.1656310\ttotal: 584ms\tremaining: 981ms\n",
      "326:\tlearn: 0.1654123\ttotal: 585ms\tremaining: 979ms\n",
      "327:\tlearn: 0.1652606\ttotal: 587ms\tremaining: 977ms\n",
      "328:\tlearn: 0.1651003\ttotal: 589ms\tremaining: 976ms\n",
      "329:\tlearn: 0.1648565\ttotal: 591ms\tremaining: 974ms\n",
      "330:\tlearn: 0.1647293\ttotal: 593ms\tremaining: 972ms\n",
      "331:\tlearn: 0.1644854\ttotal: 594ms\tremaining: 970ms\n",
      "332:\tlearn: 0.1643114\ttotal: 596ms\tremaining: 968ms\n",
      "333:\tlearn: 0.1641270\ttotal: 598ms\tremaining: 967ms\n",
      "334:\tlearn: 0.1639708\ttotal: 600ms\tremaining: 965ms\n",
      "335:\tlearn: 0.1638475\ttotal: 601ms\tremaining: 963ms\n",
      "336:\tlearn: 0.1636318\ttotal: 603ms\tremaining: 961ms\n",
      "337:\tlearn: 0.1634632\ttotal: 605ms\tremaining: 960ms\n",
      "338:\tlearn: 0.1632409\ttotal: 607ms\tremaining: 958ms\n",
      "339:\tlearn: 0.1630749\ttotal: 609ms\tremaining: 956ms\n",
      "340:\tlearn: 0.1628733\ttotal: 610ms\tremaining: 954ms\n",
      "341:\tlearn: 0.1626877\ttotal: 612ms\tremaining: 952ms\n",
      "342:\tlearn: 0.1625655\ttotal: 614ms\tremaining: 950ms\n",
      "343:\tlearn: 0.1623115\ttotal: 616ms\tremaining: 949ms\n",
      "344:\tlearn: 0.1620797\ttotal: 618ms\tremaining: 947ms\n",
      "345:\tlearn: 0.1619302\ttotal: 620ms\tremaining: 947ms\n",
      "346:\tlearn: 0.1617363\ttotal: 622ms\tremaining: 945ms\n",
      "347:\tlearn: 0.1615555\ttotal: 624ms\tremaining: 943ms\n",
      "348:\tlearn: 0.1614533\ttotal: 626ms\tremaining: 941ms\n",
      "349:\tlearn: 0.1612811\ttotal: 627ms\tremaining: 939ms\n",
      "350:\tlearn: 0.1610881\ttotal: 629ms\tremaining: 937ms\n",
      "351:\tlearn: 0.1609924\ttotal: 631ms\tremaining: 936ms\n",
      "352:\tlearn: 0.1608805\ttotal: 633ms\tremaining: 934ms\n",
      "353:\tlearn: 0.1607485\ttotal: 635ms\tremaining: 933ms\n",
      "354:\tlearn: 0.1604638\ttotal: 637ms\tremaining: 931ms\n",
      "355:\tlearn: 0.1602621\ttotal: 639ms\tremaining: 930ms\n",
      "356:\tlearn: 0.1600707\ttotal: 641ms\tremaining: 928ms\n",
      "357:\tlearn: 0.1599568\ttotal: 642ms\tremaining: 926ms\n",
      "358:\tlearn: 0.1597391\ttotal: 644ms\tremaining: 924ms\n",
      "359:\tlearn: 0.1596141\ttotal: 646ms\tremaining: 922ms\n",
      "360:\tlearn: 0.1594371\ttotal: 648ms\tremaining: 921ms\n",
      "361:\tlearn: 0.1592944\ttotal: 650ms\tremaining: 919ms\n",
      "362:\tlearn: 0.1590993\ttotal: 652ms\tremaining: 917ms\n",
      "363:\tlearn: 0.1588744\ttotal: 653ms\tremaining: 915ms\n",
      "364:\tlearn: 0.1587366\ttotal: 655ms\tremaining: 914ms\n",
      "365:\tlearn: 0.1585699\ttotal: 657ms\tremaining: 912ms\n",
      "366:\tlearn: 0.1583467\ttotal: 659ms\tremaining: 910ms\n",
      "367:\tlearn: 0.1581195\ttotal: 660ms\tremaining: 908ms\n",
      "368:\tlearn: 0.1578812\ttotal: 662ms\tremaining: 906ms\n",
      "369:\tlearn: 0.1577799\ttotal: 664ms\tremaining: 905ms\n",
      "370:\tlearn: 0.1576614\ttotal: 666ms\tremaining: 903ms\n",
      "371:\tlearn: 0.1575860\ttotal: 668ms\tremaining: 901ms\n",
      "372:\tlearn: 0.1573545\ttotal: 670ms\tremaining: 900ms\n",
      "373:\tlearn: 0.1572522\ttotal: 672ms\tremaining: 898ms\n",
      "374:\tlearn: 0.1570865\ttotal: 673ms\tremaining: 896ms\n",
      "375:\tlearn: 0.1569062\ttotal: 675ms\tremaining: 894ms\n",
      "376:\tlearn: 0.1567815\ttotal: 677ms\tremaining: 893ms\n",
      "377:\tlearn: 0.1565211\ttotal: 679ms\tremaining: 891ms\n",
      "378:\tlearn: 0.1563416\ttotal: 681ms\tremaining: 889ms\n",
      "379:\tlearn: 0.1562393\ttotal: 683ms\tremaining: 887ms\n",
      "380:\tlearn: 0.1560614\ttotal: 685ms\tremaining: 886ms\n",
      "381:\tlearn: 0.1559256\ttotal: 686ms\tremaining: 884ms\n",
      "382:\tlearn: 0.1558162\ttotal: 688ms\tremaining: 882ms\n",
      "383:\tlearn: 0.1557047\ttotal: 690ms\tremaining: 880ms\n",
      "384:\tlearn: 0.1555589\ttotal: 692ms\tremaining: 878ms\n",
      "385:\tlearn: 0.1553650\ttotal: 693ms\tremaining: 876ms\n",
      "386:\tlearn: 0.1552231\ttotal: 695ms\tremaining: 874ms\n",
      "387:\tlearn: 0.1549497\ttotal: 696ms\tremaining: 872ms\n",
      "388:\tlearn: 0.1547679\ttotal: 698ms\tremaining: 870ms\n",
      "389:\tlearn: 0.1546060\ttotal: 700ms\tremaining: 869ms\n",
      "390:\tlearn: 0.1544882\ttotal: 702ms\tremaining: 867ms\n",
      "391:\tlearn: 0.1543300\ttotal: 703ms\tremaining: 865ms\n",
      "392:\tlearn: 0.1542212\ttotal: 705ms\tremaining: 863ms\n",
      "393:\tlearn: 0.1540981\ttotal: 707ms\tremaining: 861ms\n",
      "394:\tlearn: 0.1539748\ttotal: 708ms\tremaining: 859ms\n",
      "395:\tlearn: 0.1538336\ttotal: 710ms\tremaining: 857ms\n",
      "396:\tlearn: 0.1537022\ttotal: 712ms\tremaining: 856ms\n",
      "397:\tlearn: 0.1535386\ttotal: 714ms\tremaining: 854ms\n",
      "398:\tlearn: 0.1533894\ttotal: 715ms\tremaining: 852ms\n",
      "399:\tlearn: 0.1532181\ttotal: 717ms\tremaining: 850ms\n",
      "400:\tlearn: 0.1530435\ttotal: 719ms\tremaining: 848ms\n",
      "401:\tlearn: 0.1529333\ttotal: 721ms\tremaining: 846ms\n",
      "402:\tlearn: 0.1527837\ttotal: 722ms\tremaining: 844ms\n",
      "403:\tlearn: 0.1526730\ttotal: 724ms\tremaining: 843ms\n",
      "404:\tlearn: 0.1525854\ttotal: 726ms\tremaining: 841ms\n",
      "405:\tlearn: 0.1523263\ttotal: 728ms\tremaining: 839ms\n",
      "406:\tlearn: 0.1521809\ttotal: 729ms\tremaining: 837ms\n",
      "407:\tlearn: 0.1520306\ttotal: 731ms\tremaining: 835ms\n",
      "408:\tlearn: 0.1519119\ttotal: 733ms\tremaining: 833ms\n",
      "409:\tlearn: 0.1517857\ttotal: 735ms\tremaining: 831ms\n",
      "410:\tlearn: 0.1516289\ttotal: 736ms\tremaining: 830ms\n",
      "411:\tlearn: 0.1515334\ttotal: 738ms\tremaining: 828ms\n",
      "412:\tlearn: 0.1513627\ttotal: 740ms\tremaining: 826ms\n",
      "413:\tlearn: 0.1512173\ttotal: 742ms\tremaining: 824ms\n",
      "414:\tlearn: 0.1511112\ttotal: 743ms\tremaining: 822ms\n",
      "415:\tlearn: 0.1509627\ttotal: 745ms\tremaining: 820ms\n",
      "416:\tlearn: 0.1507898\ttotal: 747ms\tremaining: 818ms\n",
      "417:\tlearn: 0.1507183\ttotal: 749ms\tremaining: 817ms\n",
      "418:\tlearn: 0.1504975\ttotal: 750ms\tremaining: 815ms\n",
      "419:\tlearn: 0.1503802\ttotal: 752ms\tremaining: 813ms\n",
      "420:\tlearn: 0.1502860\ttotal: 753ms\tremaining: 811ms\n",
      "421:\tlearn: 0.1501699\ttotal: 755ms\tremaining: 809ms\n"
     ]
    },
    {
     "name": "stdout",
     "output_type": "stream",
     "text": [
      "422:\tlearn: 0.1500053\ttotal: 757ms\tremaining: 807ms\n",
      "423:\tlearn: 0.1498068\ttotal: 759ms\tremaining: 805ms\n",
      "424:\tlearn: 0.1496521\ttotal: 760ms\tremaining: 803ms\n",
      "425:\tlearn: 0.1495377\ttotal: 762ms\tremaining: 802ms\n",
      "426:\tlearn: 0.1495057\ttotal: 764ms\tremaining: 800ms\n",
      "427:\tlearn: 0.1493689\ttotal: 766ms\tremaining: 798ms\n",
      "428:\tlearn: 0.1492344\ttotal: 768ms\tremaining: 796ms\n",
      "429:\tlearn: 0.1490950\ttotal: 769ms\tremaining: 794ms\n",
      "430:\tlearn: 0.1489621\ttotal: 771ms\tremaining: 793ms\n",
      "431:\tlearn: 0.1487601\ttotal: 773ms\tremaining: 791ms\n",
      "432:\tlearn: 0.1486216\ttotal: 775ms\tremaining: 789ms\n",
      "433:\tlearn: 0.1485128\ttotal: 777ms\tremaining: 788ms\n",
      "434:\tlearn: 0.1483633\ttotal: 779ms\tremaining: 786ms\n",
      "435:\tlearn: 0.1482238\ttotal: 781ms\tremaining: 784ms\n",
      "436:\tlearn: 0.1481864\ttotal: 783ms\tremaining: 783ms\n",
      "437:\tlearn: 0.1480917\ttotal: 784ms\tremaining: 781ms\n",
      "438:\tlearn: 0.1479945\ttotal: 786ms\tremaining: 779ms\n",
      "439:\tlearn: 0.1478140\ttotal: 788ms\tremaining: 777ms\n",
      "440:\tlearn: 0.1477238\ttotal: 790ms\tremaining: 775ms\n",
      "441:\tlearn: 0.1476154\ttotal: 791ms\tremaining: 773ms\n",
      "442:\tlearn: 0.1474670\ttotal: 793ms\tremaining: 771ms\n",
      "443:\tlearn: 0.1473867\ttotal: 795ms\tremaining: 769ms\n",
      "444:\tlearn: 0.1473175\ttotal: 796ms\tremaining: 768ms\n",
      "445:\tlearn: 0.1471891\ttotal: 798ms\tremaining: 766ms\n",
      "446:\tlearn: 0.1470769\ttotal: 799ms\tremaining: 764ms\n",
      "447:\tlearn: 0.1470346\ttotal: 801ms\tremaining: 762ms\n",
      "448:\tlearn: 0.1469490\ttotal: 803ms\tremaining: 760ms\n",
      "449:\tlearn: 0.1469007\ttotal: 805ms\tremaining: 758ms\n",
      "450:\tlearn: 0.1468371\ttotal: 806ms\tremaining: 756ms\n",
      "451:\tlearn: 0.1467402\ttotal: 808ms\tremaining: 754ms\n",
      "452:\tlearn: 0.1466555\ttotal: 810ms\tremaining: 753ms\n",
      "453:\tlearn: 0.1465286\ttotal: 811ms\tremaining: 751ms\n",
      "454:\tlearn: 0.1464042\ttotal: 813ms\tremaining: 749ms\n",
      "455:\tlearn: 0.1463223\ttotal: 815ms\tremaining: 747ms\n",
      "456:\tlearn: 0.1462075\ttotal: 816ms\tremaining: 745ms\n",
      "457:\tlearn: 0.1460786\ttotal: 818ms\tremaining: 743ms\n",
      "458:\tlearn: 0.1458724\ttotal: 820ms\tremaining: 741ms\n",
      "459:\tlearn: 0.1457485\ttotal: 821ms\tremaining: 739ms\n",
      "460:\tlearn: 0.1455982\ttotal: 823ms\tremaining: 737ms\n",
      "461:\tlearn: 0.1455060\ttotal: 825ms\tremaining: 736ms\n",
      "462:\tlearn: 0.1453446\ttotal: 827ms\tremaining: 734ms\n",
      "463:\tlearn: 0.1452404\ttotal: 828ms\tremaining: 732ms\n",
      "464:\tlearn: 0.1451650\ttotal: 830ms\tremaining: 730ms\n",
      "465:\tlearn: 0.1450389\ttotal: 832ms\tremaining: 728ms\n",
      "466:\tlearn: 0.1449464\ttotal: 834ms\tremaining: 727ms\n",
      "467:\tlearn: 0.1448301\ttotal: 835ms\tremaining: 725ms\n",
      "468:\tlearn: 0.1447675\ttotal: 837ms\tremaining: 723ms\n",
      "469:\tlearn: 0.1446115\ttotal: 839ms\tremaining: 721ms\n",
      "470:\tlearn: 0.1444683\ttotal: 841ms\tremaining: 719ms\n",
      "471:\tlearn: 0.1443765\ttotal: 843ms\tremaining: 718ms\n",
      "472:\tlearn: 0.1441634\ttotal: 844ms\tremaining: 716ms\n",
      "473:\tlearn: 0.1441259\ttotal: 846ms\tremaining: 714ms\n",
      "474:\tlearn: 0.1440257\ttotal: 848ms\tremaining: 712ms\n",
      "475:\tlearn: 0.1439806\ttotal: 849ms\tremaining: 710ms\n",
      "476:\tlearn: 0.1439098\ttotal: 851ms\tremaining: 708ms\n",
      "477:\tlearn: 0.1438233\ttotal: 853ms\tremaining: 706ms\n",
      "478:\tlearn: 0.1437231\ttotal: 854ms\tremaining: 704ms\n",
      "479:\tlearn: 0.1436463\ttotal: 856ms\tremaining: 703ms\n",
      "480:\tlearn: 0.1434785\ttotal: 858ms\tremaining: 701ms\n",
      "481:\tlearn: 0.1433887\ttotal: 859ms\tremaining: 699ms\n",
      "482:\tlearn: 0.1432771\ttotal: 861ms\tremaining: 697ms\n",
      "483:\tlearn: 0.1432426\ttotal: 863ms\tremaining: 695ms\n",
      "484:\tlearn: 0.1431143\ttotal: 864ms\tremaining: 693ms\n",
      "485:\tlearn: 0.1430360\ttotal: 866ms\tremaining: 691ms\n",
      "486:\tlearn: 0.1429028\ttotal: 868ms\tremaining: 690ms\n",
      "487:\tlearn: 0.1428238\ttotal: 870ms\tremaining: 688ms\n",
      "488:\tlearn: 0.1427448\ttotal: 871ms\tremaining: 686ms\n",
      "489:\tlearn: 0.1426014\ttotal: 873ms\tremaining: 684ms\n",
      "490:\tlearn: 0.1424973\ttotal: 875ms\tremaining: 682ms\n",
      "491:\tlearn: 0.1424363\ttotal: 876ms\tremaining: 680ms\n",
      "492:\tlearn: 0.1422702\ttotal: 878ms\tremaining: 679ms\n",
      "493:\tlearn: 0.1422012\ttotal: 880ms\tremaining: 677ms\n",
      "494:\tlearn: 0.1420767\ttotal: 881ms\tremaining: 675ms\n",
      "495:\tlearn: 0.1419462\ttotal: 883ms\tremaining: 673ms\n",
      "496:\tlearn: 0.1418828\ttotal: 885ms\tremaining: 671ms\n",
      "497:\tlearn: 0.1418428\ttotal: 887ms\tremaining: 669ms\n",
      "498:\tlearn: 0.1416079\ttotal: 888ms\tremaining: 668ms\n",
      "499:\tlearn: 0.1415465\ttotal: 890ms\tremaining: 666ms\n",
      "500:\tlearn: 0.1413377\ttotal: 892ms\tremaining: 664ms\n",
      "501:\tlearn: 0.1412347\ttotal: 894ms\tremaining: 662ms\n",
      "502:\tlearn: 0.1411824\ttotal: 895ms\tremaining: 660ms\n",
      "503:\tlearn: 0.1411102\ttotal: 897ms\tremaining: 658ms\n",
      "504:\tlearn: 0.1410213\ttotal: 898ms\tremaining: 657ms\n",
      "505:\tlearn: 0.1409025\ttotal: 900ms\tremaining: 655ms\n",
      "506:\tlearn: 0.1408377\ttotal: 902ms\tremaining: 653ms\n",
      "507:\tlearn: 0.1407094\ttotal: 903ms\tremaining: 651ms\n",
      "508:\tlearn: 0.1406765\ttotal: 905ms\tremaining: 649ms\n",
      "509:\tlearn: 0.1405832\ttotal: 907ms\tremaining: 647ms\n",
      "510:\tlearn: 0.1404751\ttotal: 909ms\tremaining: 645ms\n",
      "511:\tlearn: 0.1403916\ttotal: 910ms\tremaining: 643ms\n",
      "512:\tlearn: 0.1403605\ttotal: 912ms\tremaining: 642ms\n",
      "513:\tlearn: 0.1402864\ttotal: 913ms\tremaining: 640ms\n",
      "514:\tlearn: 0.1402266\ttotal: 915ms\tremaining: 638ms\n",
      "515:\tlearn: 0.1401462\ttotal: 917ms\tremaining: 636ms\n",
      "516:\tlearn: 0.1400711\ttotal: 918ms\tremaining: 634ms\n",
      "517:\tlearn: 0.1399757\ttotal: 920ms\tremaining: 632ms\n",
      "518:\tlearn: 0.1398614\ttotal: 922ms\tremaining: 630ms\n",
      "519:\tlearn: 0.1397188\ttotal: 923ms\tremaining: 628ms\n",
      "520:\tlearn: 0.1396476\ttotal: 925ms\tremaining: 627ms\n",
      "521:\tlearn: 0.1395266\ttotal: 927ms\tremaining: 625ms\n",
      "522:\tlearn: 0.1394505\ttotal: 928ms\tremaining: 623ms\n",
      "523:\tlearn: 0.1393188\ttotal: 930ms\tremaining: 621ms\n",
      "524:\tlearn: 0.1392420\ttotal: 932ms\tremaining: 619ms\n",
      "525:\tlearn: 0.1391654\ttotal: 933ms\tremaining: 618ms\n",
      "526:\tlearn: 0.1390104\ttotal: 935ms\tremaining: 616ms\n",
      "527:\tlearn: 0.1389519\ttotal: 937ms\tremaining: 614ms\n",
      "528:\tlearn: 0.1388837\ttotal: 939ms\tremaining: 612ms\n",
      "529:\tlearn: 0.1387745\ttotal: 940ms\tremaining: 610ms\n",
      "530:\tlearn: 0.1387003\ttotal: 942ms\tremaining: 608ms\n",
      "531:\tlearn: 0.1386519\ttotal: 944ms\tremaining: 607ms\n",
      "532:\tlearn: 0.1385830\ttotal: 946ms\tremaining: 605ms\n",
      "533:\tlearn: 0.1384760\ttotal: 948ms\tremaining: 604ms\n",
      "534:\tlearn: 0.1384057\ttotal: 950ms\tremaining: 602ms\n",
      "535:\tlearn: 0.1382427\ttotal: 952ms\tremaining: 600ms\n",
      "536:\tlearn: 0.1382219\ttotal: 953ms\tremaining: 598ms\n",
      "537:\tlearn: 0.1380694\ttotal: 955ms\tremaining: 596ms\n",
      "538:\tlearn: 0.1379694\ttotal: 957ms\tremaining: 595ms\n",
      "539:\tlearn: 0.1378624\ttotal: 959ms\tremaining: 593ms\n",
      "540:\tlearn: 0.1377586\ttotal: 961ms\tremaining: 592ms\n",
      "541:\tlearn: 0.1377170\ttotal: 963ms\tremaining: 590ms\n",
      "542:\tlearn: 0.1376327\ttotal: 965ms\tremaining: 588ms\n",
      "543:\tlearn: 0.1375620\ttotal: 966ms\tremaining: 586ms\n",
      "544:\tlearn: 0.1374963\ttotal: 968ms\tremaining: 584ms\n",
      "545:\tlearn: 0.1374090\ttotal: 970ms\tremaining: 583ms\n",
      "546:\tlearn: 0.1373053\ttotal: 972ms\tremaining: 581ms\n",
      "547:\tlearn: 0.1372544\ttotal: 974ms\tremaining: 579ms\n",
      "548:\tlearn: 0.1371663\ttotal: 976ms\tremaining: 578ms\n",
      "549:\tlearn: 0.1370855\ttotal: 977ms\tremaining: 576ms\n",
      "550:\tlearn: 0.1370285\ttotal: 979ms\tremaining: 574ms\n",
      "551:\tlearn: 0.1369581\ttotal: 981ms\tremaining: 572ms\n",
      "552:\tlearn: 0.1368589\ttotal: 982ms\tremaining: 570ms\n",
      "553:\tlearn: 0.1367449\ttotal: 984ms\tremaining: 568ms\n",
      "554:\tlearn: 0.1367091\ttotal: 986ms\tremaining: 567ms\n",
      "555:\tlearn: 0.1365748\ttotal: 988ms\tremaining: 565ms\n",
      "556:\tlearn: 0.1364088\ttotal: 989ms\tremaining: 563ms\n",
      "557:\tlearn: 0.1362909\ttotal: 991ms\tremaining: 561ms\n",
      "558:\tlearn: 0.1361960\ttotal: 993ms\tremaining: 559ms\n",
      "559:\tlearn: 0.1360680\ttotal: 995ms\tremaining: 558ms\n",
      "560:\tlearn: 0.1360085\ttotal: 996ms\tremaining: 556ms\n",
      "561:\tlearn: 0.1358976\ttotal: 998ms\tremaining: 554ms\n",
      "562:\tlearn: 0.1358035\ttotal: 1000ms\tremaining: 552ms\n",
      "563:\tlearn: 0.1356529\ttotal: 1s\tremaining: 550ms\n",
      "564:\tlearn: 0.1355780\ttotal: 1s\tremaining: 549ms\n",
      "565:\tlearn: 0.1355152\ttotal: 1s\tremaining: 547ms\n",
      "566:\tlearn: 0.1353792\ttotal: 1.01s\tremaining: 545ms\n",
      "567:\tlearn: 0.1352708\ttotal: 1.01s\tremaining: 543ms\n",
      "568:\tlearn: 0.1351982\ttotal: 1.01s\tremaining: 541ms\n",
      "569:\tlearn: 0.1350669\ttotal: 1.01s\tremaining: 540ms\n",
      "570:\tlearn: 0.1349893\ttotal: 1.01s\tremaining: 538ms\n",
      "571:\tlearn: 0.1349299\ttotal: 1.01s\tremaining: 536ms\n",
      "572:\tlearn: 0.1347846\ttotal: 1.02s\tremaining: 534ms\n",
      "573:\tlearn: 0.1346025\ttotal: 1.02s\tremaining: 533ms\n",
      "574:\tlearn: 0.1345404\ttotal: 1.02s\tremaining: 531ms\n",
      "575:\tlearn: 0.1344248\ttotal: 1.02s\tremaining: 529ms\n",
      "576:\tlearn: 0.1343842\ttotal: 1.02s\tremaining: 527ms\n",
      "577:\tlearn: 0.1342976\ttotal: 1.02s\tremaining: 525ms\n",
      "578:\tlearn: 0.1341729\ttotal: 1.03s\tremaining: 524ms\n",
      "579:\tlearn: 0.1340561\ttotal: 1.03s\tremaining: 522ms\n",
      "580:\tlearn: 0.1339844\ttotal: 1.03s\tremaining: 520ms\n",
      "581:\tlearn: 0.1339019\ttotal: 1.03s\tremaining: 518ms\n",
      "582:\tlearn: 0.1338340\ttotal: 1.03s\tremaining: 516ms\n",
      "583:\tlearn: 0.1337837\ttotal: 1.03s\tremaining: 514ms\n",
      "584:\tlearn: 0.1337348\ttotal: 1.04s\tremaining: 513ms\n",
      "585:\tlearn: 0.1336856\ttotal: 1.04s\tremaining: 511ms\n",
      "586:\tlearn: 0.1336430\ttotal: 1.04s\tremaining: 509ms\n",
      "587:\tlearn: 0.1335865\ttotal: 1.04s\tremaining: 507ms\n",
      "588:\tlearn: 0.1335050\ttotal: 1.04s\tremaining: 505ms\n",
      "589:\tlearn: 0.1334186\ttotal: 1.04s\tremaining: 503ms\n",
      "590:\tlearn: 0.1333017\ttotal: 1.05s\tremaining: 502ms\n",
      "591:\tlearn: 0.1332452\ttotal: 1.05s\tremaining: 500ms\n",
      "592:\tlearn: 0.1332136\ttotal: 1.05s\tremaining: 498ms\n",
      "593:\tlearn: 0.1331348\ttotal: 1.05s\tremaining: 496ms\n",
      "594:\tlearn: 0.1331072\ttotal: 1.05s\tremaining: 494ms\n",
      "595:\tlearn: 0.1329979\ttotal: 1.06s\tremaining: 493ms\n",
      "596:\tlearn: 0.1328752\ttotal: 1.06s\tremaining: 491ms\n",
      "597:\tlearn: 0.1327987\ttotal: 1.06s\tremaining: 489ms\n",
      "598:\tlearn: 0.1327519\ttotal: 1.06s\tremaining: 487ms\n",
      "599:\tlearn: 0.1326597\ttotal: 1.06s\tremaining: 485ms\n",
      "600:\tlearn: 0.1325782\ttotal: 1.06s\tremaining: 483ms\n",
      "601:\tlearn: 0.1325035\ttotal: 1.07s\tremaining: 482ms\n",
      "602:\tlearn: 0.1324045\ttotal: 1.07s\tremaining: 480ms\n",
      "603:\tlearn: 0.1323550\ttotal: 1.07s\tremaining: 478ms\n",
      "604:\tlearn: 0.1322364\ttotal: 1.07s\tremaining: 476ms\n",
      "605:\tlearn: 0.1320732\ttotal: 1.07s\tremaining: 475ms\n",
      "606:\tlearn: 0.1319982\ttotal: 1.07s\tremaining: 473ms\n",
      "607:\tlearn: 0.1319096\ttotal: 1.08s\tremaining: 471ms\n",
      "608:\tlearn: 0.1318362\ttotal: 1.08s\tremaining: 469ms\n",
      "609:\tlearn: 0.1317658\ttotal: 1.08s\tremaining: 467ms\n",
      "610:\tlearn: 0.1316800\ttotal: 1.08s\tremaining: 466ms\n",
      "611:\tlearn: 0.1316026\ttotal: 1.08s\tremaining: 464ms\n",
      "612:\tlearn: 0.1314820\ttotal: 1.08s\tremaining: 462ms\n",
      "613:\tlearn: 0.1313927\ttotal: 1.09s\tremaining: 460ms\n",
      "614:\tlearn: 0.1313156\ttotal: 1.09s\tremaining: 459ms\n",
      "615:\tlearn: 0.1312344\ttotal: 1.09s\tremaining: 457ms\n",
      "616:\tlearn: 0.1311733\ttotal: 1.09s\tremaining: 455ms\n",
      "617:\tlearn: 0.1310124\ttotal: 1.09s\tremaining: 453ms\n",
      "618:\tlearn: 0.1309137\ttotal: 1.09s\tremaining: 451ms\n",
      "619:\tlearn: 0.1308927\ttotal: 1.1s\tremaining: 449ms\n",
      "620:\tlearn: 0.1307987\ttotal: 1.1s\tremaining: 448ms\n",
      "621:\tlearn: 0.1307371\ttotal: 1.1s\tremaining: 446ms\n",
      "622:\tlearn: 0.1306871\ttotal: 1.1s\tremaining: 444ms\n",
      "623:\tlearn: 0.1306038\ttotal: 1.1s\tremaining: 442ms\n",
      "624:\tlearn: 0.1305450\ttotal: 1.1s\tremaining: 440ms\n",
      "625:\tlearn: 0.1304328\ttotal: 1.11s\tremaining: 439ms\n",
      "626:\tlearn: 0.1303856\ttotal: 1.11s\tremaining: 437ms\n",
      "627:\tlearn: 0.1302509\ttotal: 1.11s\tremaining: 435ms\n",
      "628:\tlearn: 0.1301659\ttotal: 1.11s\tremaining: 433ms\n",
      "629:\tlearn: 0.1300471\ttotal: 1.11s\tremaining: 431ms\n",
      "630:\tlearn: 0.1299980\ttotal: 1.11s\tremaining: 430ms\n",
      "631:\tlearn: 0.1298959\ttotal: 1.12s\tremaining: 428ms\n",
      "632:\tlearn: 0.1298518\ttotal: 1.12s\tremaining: 426ms\n",
      "633:\tlearn: 0.1297570\ttotal: 1.12s\tremaining: 424ms\n",
      "634:\tlearn: 0.1296929\ttotal: 1.12s\tremaining: 422ms\n",
      "635:\tlearn: 0.1296516\ttotal: 1.12s\tremaining: 421ms\n",
      "636:\tlearn: 0.1295273\ttotal: 1.13s\tremaining: 419ms\n",
      "637:\tlearn: 0.1294801\ttotal: 1.13s\tremaining: 417ms\n",
      "638:\tlearn: 0.1293925\ttotal: 1.13s\tremaining: 415ms\n",
      "639:\tlearn: 0.1292991\ttotal: 1.13s\tremaining: 413ms\n",
      "640:\tlearn: 0.1292013\ttotal: 1.13s\tremaining: 411ms\n",
      "641:\tlearn: 0.1291356\ttotal: 1.13s\tremaining: 410ms\n",
      "642:\tlearn: 0.1290554\ttotal: 1.13s\tremaining: 408ms\n"
     ]
    },
    {
     "name": "stdout",
     "output_type": "stream",
     "text": [
      "643:\tlearn: 0.1289802\ttotal: 1.14s\tremaining: 406ms\n",
      "644:\tlearn: 0.1288960\ttotal: 1.14s\tremaining: 404ms\n",
      "645:\tlearn: 0.1288031\ttotal: 1.14s\tremaining: 402ms\n",
      "646:\tlearn: 0.1286864\ttotal: 1.14s\tremaining: 401ms\n",
      "647:\tlearn: 0.1286002\ttotal: 1.14s\tremaining: 399ms\n",
      "648:\tlearn: 0.1285495\ttotal: 1.15s\tremaining: 397ms\n",
      "649:\tlearn: 0.1284967\ttotal: 1.15s\tremaining: 396ms\n",
      "650:\tlearn: 0.1284348\ttotal: 1.15s\tremaining: 394ms\n",
      "651:\tlearn: 0.1283955\ttotal: 1.15s\tremaining: 392ms\n",
      "652:\tlearn: 0.1283122\ttotal: 1.15s\tremaining: 390ms\n",
      "653:\tlearn: 0.1282556\ttotal: 1.16s\tremaining: 389ms\n",
      "654:\tlearn: 0.1281601\ttotal: 1.16s\tremaining: 387ms\n",
      "655:\tlearn: 0.1280908\ttotal: 1.16s\tremaining: 385ms\n",
      "656:\tlearn: 0.1280238\ttotal: 1.16s\tremaining: 383ms\n",
      "657:\tlearn: 0.1279443\ttotal: 1.16s\tremaining: 382ms\n",
      "658:\tlearn: 0.1278769\ttotal: 1.16s\tremaining: 380ms\n",
      "659:\tlearn: 0.1278435\ttotal: 1.17s\tremaining: 378ms\n",
      "660:\tlearn: 0.1278176\ttotal: 1.17s\tremaining: 376ms\n",
      "661:\tlearn: 0.1277504\ttotal: 1.17s\tremaining: 374ms\n",
      "662:\tlearn: 0.1276057\ttotal: 1.17s\tremaining: 373ms\n",
      "663:\tlearn: 0.1275411\ttotal: 1.17s\tremaining: 371ms\n",
      "664:\tlearn: 0.1274585\ttotal: 1.17s\tremaining: 369ms\n",
      "665:\tlearn: 0.1273968\ttotal: 1.18s\tremaining: 367ms\n",
      "666:\tlearn: 0.1273178\ttotal: 1.18s\tremaining: 366ms\n",
      "667:\tlearn: 0.1272634\ttotal: 1.18s\tremaining: 364ms\n",
      "668:\tlearn: 0.1271960\ttotal: 1.18s\tremaining: 362ms\n",
      "669:\tlearn: 0.1271000\ttotal: 1.18s\tremaining: 360ms\n",
      "670:\tlearn: 0.1270500\ttotal: 1.19s\tremaining: 359ms\n",
      "671:\tlearn: 0.1269757\ttotal: 1.19s\tremaining: 357ms\n",
      "672:\tlearn: 0.1268733\ttotal: 1.19s\tremaining: 355ms\n",
      "673:\tlearn: 0.1268125\ttotal: 1.19s\tremaining: 353ms\n",
      "674:\tlearn: 0.1267339\ttotal: 1.19s\tremaining: 352ms\n",
      "675:\tlearn: 0.1266213\ttotal: 1.19s\tremaining: 350ms\n",
      "676:\tlearn: 0.1264952\ttotal: 1.2s\tremaining: 348ms\n",
      "677:\tlearn: 0.1264102\ttotal: 1.2s\tremaining: 346ms\n",
      "678:\tlearn: 0.1263385\ttotal: 1.2s\tremaining: 345ms\n",
      "679:\tlearn: 0.1262957\ttotal: 1.2s\tremaining: 343ms\n",
      "680:\tlearn: 0.1262374\ttotal: 1.2s\tremaining: 341ms\n",
      "681:\tlearn: 0.1261717\ttotal: 1.21s\tremaining: 339ms\n",
      "682:\tlearn: 0.1260370\ttotal: 1.21s\tremaining: 338ms\n",
      "683:\tlearn: 0.1259830\ttotal: 1.21s\tremaining: 336ms\n",
      "684:\tlearn: 0.1258856\ttotal: 1.21s\tremaining: 334ms\n",
      "685:\tlearn: 0.1257777\ttotal: 1.21s\tremaining: 332ms\n",
      "686:\tlearn: 0.1256483\ttotal: 1.21s\tremaining: 331ms\n",
      "687:\tlearn: 0.1255495\ttotal: 1.22s\tremaining: 329ms\n",
      "688:\tlearn: 0.1254612\ttotal: 1.22s\tremaining: 327ms\n",
      "689:\tlearn: 0.1254102\ttotal: 1.22s\tremaining: 325ms\n",
      "690:\tlearn: 0.1253321\ttotal: 1.22s\tremaining: 324ms\n",
      "691:\tlearn: 0.1252646\ttotal: 1.22s\tremaining: 322ms\n",
      "692:\tlearn: 0.1252094\ttotal: 1.23s\tremaining: 320ms\n",
      "693:\tlearn: 0.1251243\ttotal: 1.23s\tremaining: 318ms\n",
      "694:\tlearn: 0.1250940\ttotal: 1.23s\tremaining: 317ms\n",
      "695:\tlearn: 0.1250532\ttotal: 1.23s\tremaining: 315ms\n",
      "696:\tlearn: 0.1250107\ttotal: 1.23s\tremaining: 313ms\n",
      "697:\tlearn: 0.1249369\ttotal: 1.23s\tremaining: 311ms\n",
      "698:\tlearn: 0.1248736\ttotal: 1.24s\tremaining: 310ms\n",
      "699:\tlearn: 0.1248661\ttotal: 1.24s\tremaining: 308ms\n",
      "700:\tlearn: 0.1248347\ttotal: 1.24s\tremaining: 306ms\n",
      "701:\tlearn: 0.1246916\ttotal: 1.24s\tremaining: 304ms\n",
      "702:\tlearn: 0.1245938\ttotal: 1.24s\tremaining: 303ms\n",
      "703:\tlearn: 0.1245760\ttotal: 1.25s\tremaining: 301ms\n",
      "704:\tlearn: 0.1245294\ttotal: 1.25s\tremaining: 299ms\n",
      "705:\tlearn: 0.1244612\ttotal: 1.25s\tremaining: 297ms\n",
      "706:\tlearn: 0.1244466\ttotal: 1.25s\tremaining: 295ms\n",
      "707:\tlearn: 0.1244003\ttotal: 1.25s\tremaining: 294ms\n",
      "708:\tlearn: 0.1243327\ttotal: 1.25s\tremaining: 292ms\n",
      "709:\tlearn: 0.1242905\ttotal: 1.26s\tremaining: 290ms\n",
      "710:\tlearn: 0.1242231\ttotal: 1.26s\tremaining: 288ms\n",
      "711:\tlearn: 0.1241382\ttotal: 1.26s\tremaining: 287ms\n",
      "712:\tlearn: 0.1240647\ttotal: 1.26s\tremaining: 285ms\n",
      "713:\tlearn: 0.1240280\ttotal: 1.26s\tremaining: 283ms\n",
      "714:\tlearn: 0.1239651\ttotal: 1.26s\tremaining: 281ms\n",
      "715:\tlearn: 0.1239118\ttotal: 1.27s\tremaining: 279ms\n",
      "716:\tlearn: 0.1237886\ttotal: 1.27s\tremaining: 278ms\n",
      "717:\tlearn: 0.1237166\ttotal: 1.27s\tremaining: 276ms\n",
      "718:\tlearn: 0.1236538\ttotal: 1.27s\tremaining: 274ms\n",
      "719:\tlearn: 0.1236100\ttotal: 1.27s\tremaining: 272ms\n",
      "720:\tlearn: 0.1235714\ttotal: 1.27s\tremaining: 271ms\n",
      "721:\tlearn: 0.1235040\ttotal: 1.28s\tremaining: 269ms\n",
      "722:\tlearn: 0.1234365\ttotal: 1.28s\tremaining: 267ms\n",
      "723:\tlearn: 0.1233850\ttotal: 1.28s\tremaining: 265ms\n",
      "724:\tlearn: 0.1233475\ttotal: 1.28s\tremaining: 264ms\n",
      "725:\tlearn: 0.1232876\ttotal: 1.28s\tremaining: 262ms\n",
      "726:\tlearn: 0.1232721\ttotal: 1.29s\tremaining: 260ms\n",
      "727:\tlearn: 0.1232463\ttotal: 1.29s\tremaining: 258ms\n",
      "728:\tlearn: 0.1232268\ttotal: 1.29s\tremaining: 257ms\n",
      "729:\tlearn: 0.1232120\ttotal: 1.29s\tremaining: 255ms\n",
      "730:\tlearn: 0.1231315\ttotal: 1.29s\tremaining: 253ms\n",
      "731:\tlearn: 0.1230638\ttotal: 1.29s\tremaining: 251ms\n",
      "732:\tlearn: 0.1230339\ttotal: 1.3s\tremaining: 249ms\n",
      "733:\tlearn: 0.1229757\ttotal: 1.3s\tremaining: 248ms\n",
      "734:\tlearn: 0.1229458\ttotal: 1.3s\tremaining: 246ms\n",
      "735:\tlearn: 0.1229003\ttotal: 1.3s\tremaining: 244ms\n",
      "736:\tlearn: 0.1228558\ttotal: 1.3s\tremaining: 242ms\n",
      "737:\tlearn: 0.1227978\ttotal: 1.3s\tremaining: 241ms\n",
      "738:\tlearn: 0.1227009\ttotal: 1.31s\tremaining: 239ms\n",
      "739:\tlearn: 0.1225945\ttotal: 1.31s\tremaining: 237ms\n",
      "740:\tlearn: 0.1225215\ttotal: 1.31s\tremaining: 235ms\n",
      "741:\tlearn: 0.1224956\ttotal: 1.31s\tremaining: 233ms\n",
      "742:\tlearn: 0.1224162\ttotal: 1.31s\tremaining: 232ms\n",
      "743:\tlearn: 0.1223521\ttotal: 1.32s\tremaining: 230ms\n",
      "744:\tlearn: 0.1223375\ttotal: 1.32s\tremaining: 228ms\n",
      "745:\tlearn: 0.1223189\ttotal: 1.32s\tremaining: 226ms\n",
      "746:\tlearn: 0.1222850\ttotal: 1.32s\tremaining: 225ms\n",
      "747:\tlearn: 0.1221845\ttotal: 1.32s\tremaining: 223ms\n",
      "748:\tlearn: 0.1221391\ttotal: 1.32s\tremaining: 221ms\n",
      "749:\tlearn: 0.1220877\ttotal: 1.33s\tremaining: 219ms\n",
      "750:\tlearn: 0.1220735\ttotal: 1.33s\tremaining: 217ms\n",
      "751:\tlearn: 0.1220133\ttotal: 1.33s\tremaining: 216ms\n",
      "752:\tlearn: 0.1219485\ttotal: 1.33s\tremaining: 214ms\n",
      "753:\tlearn: 0.1218921\ttotal: 1.33s\tremaining: 212ms\n",
      "754:\tlearn: 0.1217910\ttotal: 1.33s\tremaining: 211ms\n",
      "755:\tlearn: 0.1217339\ttotal: 1.34s\tremaining: 209ms\n",
      "756:\tlearn: 0.1216635\ttotal: 1.34s\tremaining: 207ms\n",
      "757:\tlearn: 0.1215860\ttotal: 1.34s\tremaining: 205ms\n",
      "758:\tlearn: 0.1214678\ttotal: 1.34s\tremaining: 204ms\n",
      "759:\tlearn: 0.1214280\ttotal: 1.34s\tremaining: 202ms\n",
      "760:\tlearn: 0.1213783\ttotal: 1.35s\tremaining: 200ms\n",
      "761:\tlearn: 0.1212949\ttotal: 1.35s\tremaining: 198ms\n",
      "762:\tlearn: 0.1212539\ttotal: 1.35s\tremaining: 196ms\n",
      "763:\tlearn: 0.1211997\ttotal: 1.35s\tremaining: 195ms\n",
      "764:\tlearn: 0.1211832\ttotal: 1.35s\tremaining: 193ms\n",
      "765:\tlearn: 0.1211644\ttotal: 1.35s\tremaining: 191ms\n",
      "766:\tlearn: 0.1211287\ttotal: 1.36s\tremaining: 189ms\n",
      "767:\tlearn: 0.1210782\ttotal: 1.36s\tremaining: 188ms\n",
      "768:\tlearn: 0.1210388\ttotal: 1.36s\tremaining: 186ms\n",
      "769:\tlearn: 0.1209826\ttotal: 1.36s\tremaining: 184ms\n",
      "770:\tlearn: 0.1209415\ttotal: 1.36s\tremaining: 182ms\n",
      "771:\tlearn: 0.1208916\ttotal: 1.36s\tremaining: 180ms\n",
      "772:\tlearn: 0.1208409\ttotal: 1.37s\tremaining: 179ms\n",
      "773:\tlearn: 0.1207687\ttotal: 1.37s\tremaining: 177ms\n",
      "774:\tlearn: 0.1207282\ttotal: 1.37s\tremaining: 175ms\n",
      "775:\tlearn: 0.1206654\ttotal: 1.37s\tremaining: 173ms\n",
      "776:\tlearn: 0.1205776\ttotal: 1.37s\tremaining: 172ms\n",
      "777:\tlearn: 0.1204995\ttotal: 1.38s\tremaining: 170ms\n",
      "778:\tlearn: 0.1204202\ttotal: 1.38s\tremaining: 168ms\n",
      "779:\tlearn: 0.1202792\ttotal: 1.38s\tremaining: 166ms\n",
      "780:\tlearn: 0.1202133\ttotal: 1.38s\tremaining: 165ms\n",
      "781:\tlearn: 0.1201228\ttotal: 1.38s\tremaining: 163ms\n",
      "782:\tlearn: 0.1201149\ttotal: 1.39s\tremaining: 161ms\n",
      "783:\tlearn: 0.1200455\ttotal: 1.39s\tremaining: 159ms\n",
      "784:\tlearn: 0.1199935\ttotal: 1.39s\tremaining: 157ms\n",
      "785:\tlearn: 0.1199634\ttotal: 1.39s\tremaining: 156ms\n",
      "786:\tlearn: 0.1198991\ttotal: 1.39s\tremaining: 154ms\n",
      "787:\tlearn: 0.1198759\ttotal: 1.39s\tremaining: 152ms\n",
      "788:\tlearn: 0.1198497\ttotal: 1.4s\tremaining: 150ms\n",
      "789:\tlearn: 0.1198194\ttotal: 1.4s\tremaining: 149ms\n",
      "790:\tlearn: 0.1198065\ttotal: 1.4s\tremaining: 147ms\n",
      "791:\tlearn: 0.1197425\ttotal: 1.4s\tremaining: 145ms\n",
      "792:\tlearn: 0.1196973\ttotal: 1.4s\tremaining: 143ms\n",
      "793:\tlearn: 0.1195891\ttotal: 1.41s\tremaining: 142ms\n",
      "794:\tlearn: 0.1195320\ttotal: 1.41s\tremaining: 140ms\n",
      "795:\tlearn: 0.1194524\ttotal: 1.41s\tremaining: 138ms\n",
      "796:\tlearn: 0.1193896\ttotal: 1.41s\tremaining: 136ms\n",
      "797:\tlearn: 0.1193457\ttotal: 1.41s\tremaining: 135ms\n",
      "798:\tlearn: 0.1193076\ttotal: 1.41s\tremaining: 133ms\n",
      "799:\tlearn: 0.1192157\ttotal: 1.42s\tremaining: 131ms\n",
      "800:\tlearn: 0.1191060\ttotal: 1.42s\tremaining: 129ms\n",
      "801:\tlearn: 0.1190664\ttotal: 1.42s\tremaining: 127ms\n",
      "802:\tlearn: 0.1190163\ttotal: 1.42s\tremaining: 126ms\n",
      "803:\tlearn: 0.1189586\ttotal: 1.42s\tremaining: 124ms\n",
      "804:\tlearn: 0.1189088\ttotal: 1.42s\tremaining: 122ms\n",
      "805:\tlearn: 0.1188592\ttotal: 1.43s\tremaining: 120ms\n",
      "806:\tlearn: 0.1187840\ttotal: 1.43s\tremaining: 119ms\n",
      "807:\tlearn: 0.1187711\ttotal: 1.43s\tremaining: 117ms\n",
      "808:\tlearn: 0.1187091\ttotal: 1.43s\tremaining: 115ms\n",
      "809:\tlearn: 0.1186617\ttotal: 1.43s\tremaining: 113ms\n",
      "810:\tlearn: 0.1186135\ttotal: 1.43s\tremaining: 111ms\n",
      "811:\tlearn: 0.1185442\ttotal: 1.44s\tremaining: 110ms\n",
      "812:\tlearn: 0.1184788\ttotal: 1.44s\tremaining: 108ms\n",
      "813:\tlearn: 0.1184630\ttotal: 1.44s\tremaining: 106ms\n",
      "814:\tlearn: 0.1184150\ttotal: 1.44s\tremaining: 104ms\n",
      "815:\tlearn: 0.1183673\ttotal: 1.44s\tremaining: 103ms\n",
      "816:\tlearn: 0.1183173\ttotal: 1.45s\tremaining: 101ms\n",
      "817:\tlearn: 0.1182588\ttotal: 1.45s\tremaining: 99.1ms\n",
      "818:\tlearn: 0.1181837\ttotal: 1.45s\tremaining: 97.3ms\n",
      "819:\tlearn: 0.1181616\ttotal: 1.45s\tremaining: 95.6ms\n",
      "820:\tlearn: 0.1180796\ttotal: 1.45s\tremaining: 93.8ms\n",
      "821:\tlearn: 0.1179912\ttotal: 1.46s\tremaining: 92ms\n",
      "822:\tlearn: 0.1179783\ttotal: 1.46s\tremaining: 90.3ms\n",
      "823:\tlearn: 0.1179286\ttotal: 1.46s\tremaining: 88.5ms\n",
      "824:\tlearn: 0.1179150\ttotal: 1.46s\tremaining: 86.7ms\n",
      "825:\tlearn: 0.1178497\ttotal: 1.46s\tremaining: 84.9ms\n",
      "826:\tlearn: 0.1178363\ttotal: 1.46s\tremaining: 83.2ms\n",
      "827:\tlearn: 0.1177334\ttotal: 1.47s\tremaining: 81.4ms\n",
      "828:\tlearn: 0.1176767\ttotal: 1.47s\tremaining: 79.6ms\n",
      "829:\tlearn: 0.1176063\ttotal: 1.47s\tremaining: 77.9ms\n",
      "830:\tlearn: 0.1175109\ttotal: 1.47s\tremaining: 76.1ms\n",
      "831:\tlearn: 0.1174458\ttotal: 1.47s\tremaining: 74.3ms\n",
      "832:\tlearn: 0.1173720\ttotal: 1.47s\tremaining: 72.6ms\n",
      "833:\tlearn: 0.1172876\ttotal: 1.48s\tremaining: 70.8ms\n",
      "834:\tlearn: 0.1172164\ttotal: 1.48s\tremaining: 69ms\n",
      "835:\tlearn: 0.1171386\ttotal: 1.48s\tremaining: 67.3ms\n",
      "836:\tlearn: 0.1170715\ttotal: 1.48s\tremaining: 65.5ms\n",
      "837:\tlearn: 0.1169941\ttotal: 1.48s\tremaining: 63.7ms\n",
      "838:\tlearn: 0.1169377\ttotal: 1.49s\tremaining: 62ms\n",
      "839:\tlearn: 0.1168721\ttotal: 1.49s\tremaining: 60.2ms\n",
      "840:\tlearn: 0.1167711\ttotal: 1.49s\tremaining: 58.4ms\n",
      "841:\tlearn: 0.1167509\ttotal: 1.49s\tremaining: 56.6ms\n",
      "842:\tlearn: 0.1167170\ttotal: 1.49s\tremaining: 54.9ms\n",
      "843:\tlearn: 0.1166686\ttotal: 1.49s\tremaining: 53.1ms\n",
      "844:\tlearn: 0.1166244\ttotal: 1.5s\tremaining: 51.3ms\n",
      "845:\tlearn: 0.1165716\ttotal: 1.5s\tremaining: 49.6ms\n",
      "846:\tlearn: 0.1165424\ttotal: 1.5s\tremaining: 47.8ms\n",
      "847:\tlearn: 0.1165291\ttotal: 1.5s\tremaining: 46ms\n",
      "848:\tlearn: 0.1164663\ttotal: 1.5s\tremaining: 44.2ms\n",
      "849:\tlearn: 0.1164312\ttotal: 1.5s\tremaining: 42.5ms\n",
      "850:\tlearn: 0.1163294\ttotal: 1.5s\tremaining: 40.7ms\n",
      "851:\tlearn: 0.1162872\ttotal: 1.51s\tremaining: 38.9ms\n",
      "852:\tlearn: 0.1162728\ttotal: 1.51s\tremaining: 37.1ms\n",
      "853:\tlearn: 0.1162426\ttotal: 1.51s\tremaining: 35.4ms\n",
      "854:\tlearn: 0.1162231\ttotal: 1.51s\tremaining: 33.6ms\n",
      "855:\tlearn: 0.1161685\ttotal: 1.51s\tremaining: 31.8ms\n",
      "856:\tlearn: 0.1160746\ttotal: 1.51s\tremaining: 30.1ms\n",
      "857:\tlearn: 0.1160061\ttotal: 1.52s\tremaining: 28.3ms\n",
      "858:\tlearn: 0.1159607\ttotal: 1.52s\tremaining: 26.5ms\n",
      "859:\tlearn: 0.1158449\ttotal: 1.52s\tremaining: 24.8ms\n"
     ]
    },
    {
     "name": "stdout",
     "output_type": "stream",
     "text": [
      "860:\tlearn: 0.1158197\ttotal: 1.52s\tremaining: 23ms\n",
      "861:\tlearn: 0.1157772\ttotal: 1.52s\tremaining: 21.2ms\n",
      "862:\tlearn: 0.1157073\ttotal: 1.53s\tremaining: 19.5ms\n",
      "863:\tlearn: 0.1156226\ttotal: 1.53s\tremaining: 17.7ms\n",
      "864:\tlearn: 0.1155475\ttotal: 1.53s\tremaining: 15.9ms\n",
      "865:\tlearn: 0.1155377\ttotal: 1.53s\tremaining: 14.2ms\n",
      "866:\tlearn: 0.1154938\ttotal: 1.53s\tremaining: 12.4ms\n",
      "867:\tlearn: 0.1154536\ttotal: 1.53s\tremaining: 10.6ms\n",
      "868:\tlearn: 0.1153625\ttotal: 1.54s\tremaining: 8.84ms\n",
      "869:\tlearn: 0.1153516\ttotal: 1.54s\tremaining: 7.08ms\n",
      "870:\tlearn: 0.1153073\ttotal: 1.54s\tremaining: 5.31ms\n",
      "871:\tlearn: 0.1152624\ttotal: 1.54s\tremaining: 3.54ms\n",
      "872:\tlearn: 0.1152116\ttotal: 1.54s\tremaining: 1.77ms\n",
      "873:\tlearn: 0.1151743\ttotal: 1.54s\tremaining: 0us\n",
      "Optimal threshold 0.034337610283002945\n",
      "Test Metrics\n",
      "0.7207792207792207\n",
      "0.9568345323741008\n",
      "[[96 43]\n",
      " [ 0 15]]\n"
     ]
    },
    {
     "data": {
      "image/png": "[encoded data removed]",
      "text/plain": [
       "<Figure size 640x480 with 1 Axes>"
      ]
     },
     "metadata": {},
     "output_type": "display_data"
    }
   ],
   "source": [
    "def objective_ct(trial):\n",
    "    ct_params = {\n",
    "        \"iterations\": trial.suggest_int(\"iterations\", low = 100, high = 2000),\n",
    "        \"depth\": trial.suggest_int(\"depth\", 3, 10),\n",
    "        \"learning_rate\": trial.suggest_float('learning_rate', 1e-3, 1, log = True),\n",
    "        \"l2_leaf_reg\": trial.suggest_int(\"l2_leaf_reg\", low = 1, high = 10),\n",
    "        'verbose': False\n",
    "    }\n",
    "    kf = KFold(n_splits = 5, shuffle = True, random_state = 123)\n",
    "    values_test = []\n",
    "    ct = CatBoostClassifier(**ct_params)\n",
    "    for trf_index, tef_index in kf.split(X_train): # train and test folds of train data (only data we use now)\n",
    "        X_trf, X_tef = X_train.iloc[trf_index], X_train.iloc[tef_index]\n",
    "        y_trf, y_tef = y_train.iloc[trf_index], y_train.iloc[tef_index]\n",
    "        ct.fit(X_trf, y_trf)\n",
    "        values_test.append(roc_auc_score(y_tef, ct.predict_proba(X_tef)[:,1]))\n",
    "    return np.mean(np.array(values_test))\n",
    "\n",
    "study = optuna.create_study(direction = 'maximize')\n",
    "study.optimize(objective_ct, n_trials = 1)\n",
    "fig = vis.plot_optimization_history(study)\n",
    "fig.show()\n",
    "print('Study Summary')\n",
    "print(study.best_params)\n",
    "print('AUC-ROC:', study.best_value)\n",
    "print('Best model results')\n",
    "grid3 = CatBoostClassifier(**study.best_params)\n",
    "grid3.fit(X_train, y_train)\n",
    "joblib.dump(grid3, 'sp_catboost.pkl')\n",
    "y_val_pred = grid3.predict(X_val)\n",
    "y_val_proba = grid3.predict_proba(X_val)[:,1]\n",
    "fpr3, tpr3, thresholds = roc_curve(y_val, y_val_proba, pos_label = 1)\n",
    "plt.plot(fpr3, tpr3, '-o', linewidth=2, label = 'XGBoost')\n",
    "plt.plot([0,1], [0,1], 'k--' )\n",
    "plt.legend()\n",
    "n_arg = np.argmin(abs(tpr3-1))\n",
    "thr_opt = thresholds[n_arg]\n",
    "print('Optimal threshold', thr_opt)\n",
    "# Putting metrics here as well \n",
    "print('Test Metrics')\n",
    "y_test_proba = grid3.predict_proba(X_test)[:,1]\n",
    "y_test_final = y_test_proba.copy()\n",
    "y_test_final[y_test_proba >= thr_opt] = 1\n",
    "y_test_final[y_test_proba < thr_opt] = 0\n",
    "print(accuracy_score(y_test, y_test_final)) # accuracy\n",
    "print(roc_auc_score(y_test, y_test_proba)) # roc auc\n",
    "print(confusion_matrix(y_test, y_test_final)) # confusion matrix"
   ]
  },
  {
   "cell_type": "markdown",
   "id": "aa94814e",
   "metadata": {},
   "source": [
    "### AdaBoost"
   ]
  },
  {
   "cell_type": "code",
   "execution_count": 46,
   "id": "5f0f183a",
   "metadata": {},
   "outputs": [
    {
     "name": "stderr",
     "output_type": "stream",
     "text": [
      "[I 2024-12-08 12:21:36,551] A new study created in memory with name: no-name-aa33b59b-3b53-4f93-8333-a66ca2f449c0\n",
      "[I 2024-12-08 12:21:44,821] Trial 0 finished with value: 0.8872094185988102 and parameters: {'n_estimators': 804, 'learning_rate': 0.0013901001434394645}. Best is trial 0 with value: 0.8872094185988102.\n"
     ]
    },
    {
     "data": {
      "application/vnd.plotly.v1+json": {
       "config": {
        "plotlyServerURL": "https://plot.ly"
       },
       "data": [
        {
         "mode": "markers",
         "name": "Objective Value",
         "type": "scatter",
         "x": [
          0
         ],
         "y": [
          0.8872094185988102
         ]
        },
        {
         "mode": "lines",
         "name": "Best Value",
         "type": "scatter",
         "x": [
          0
         ],
         "y": [
          0.8872094185988102
         ]
        },
        {
         "marker": {
          "color": "#cccccc"
         },
         "mode": "markers",
         "name": "Infeasible Trial",
         "showlegend": false,
         "type": "scatter",
         "x": [],
         "y": []
        }
       ],
       "layout": {
        "template": {
         "data": {
          "bar": [
           {
            "error_x": {
             "color": "#2a3f5f"
            },
            "error_y": {
             "color": "#2a3f5f"
            },
            "marker": {
             "line": {
              "color": "#E5ECF6",
              "width": 0.5
             },
             "pattern": {
              "fillmode": "overlay",
              "size": 10,
              "solidity": 0.2
             }
            },
            "type": "bar"
           }
          ],
          "barpolar": [
           {
            "marker": {
             "line": {
              "color": "#E5ECF6",
              "width": 0.5
             },
             "pattern": {
              "fillmode": "overlay",
              "size": 10,
              "solidity": 0.2
             }
            },
            "type": "barpolar"
           }
          ],
          "carpet": [
           {
            "aaxis": {
             "endlinecolor": "#2a3f5f",
             "gridcolor": "white",
             "linecolor": "white",
             "minorgridcolor": "white",
             "startlinecolor": "#2a3f5f"
            },
            "baxis": {
             "endlinecolor": "#2a3f5f",
             "gridcolor": "white",
             "linecolor": "white",
             "minorgridcolor": "white",
             "startlinecolor": "#2a3f5f"
            },
            "type": "carpet"
           }
          ],
          "choropleth": [
           {
            "colorbar": {
             "outlinewidth": 0,
             "ticks": ""
            },
            "type": "choropleth"
           }
          ],
          "contour": [
           {
            "colorbar": {
             "outlinewidth": 0,
             "ticks": ""
            },
            "colorscale": [
             [
              0,
              "#0d0887"
             ],
             [
              0.1111111111111111,
              "#46039f"
             ],
             [
              0.2222222222222222,
              "#7201a8"
             ],
             [
              0.3333333333333333,
              "#9c179e"
             ],
             [
              0.4444444444444444,
              "#bd3786"
             ],
             [
              0.5555555555555556,
              "#d8576b"
             ],
             [
              0.6666666666666666,
              "#ed7953"
             ],
             [
              0.7777777777777778,
              "#fb9f3a"
             ],
             [
              0.8888888888888888,
              "#fdca26"
             ],
             [
              1,
              "#f0f921"
             ]
            ],
            "type": "contour"
           }
          ],
          "contourcarpet": [
           {
            "colorbar": {
             "outlinewidth": 0,
             "ticks": ""
            },
            "type": "contourcarpet"
           }
          ],
          "heatmap": [
           {
            "colorbar": {
             "outlinewidth": 0,
             "ticks": ""
            },
            "colorscale": [
             [
              0,
              "#0d0887"
             ],
             [
              0.1111111111111111,
              "#46039f"
             ],
             [
              0.2222222222222222,
              "#7201a8"
             ],
             [
              0.3333333333333333,
              "#9c179e"
             ],
             [
              0.4444444444444444,
              "#bd3786"
             ],
             [
              0.5555555555555556,
              "#d8576b"
             ],
             [
              0.6666666666666666,
              "#ed7953"
             ],
             [
              0.7777777777777778,
              "#fb9f3a"
             ],
             [
              0.8888888888888888,
              "#fdca26"
             ],
             [
              1,
              "#f0f921"
             ]
            ],
            "type": "heatmap"
           }
          ],
          "heatmapgl": [
           {
            "colorbar": {
             "outlinewidth": 0,
             "ticks": ""
            },
            "colorscale": [
             [
              0,
              "#0d0887"
             ],
             [
              0.1111111111111111,
              "#46039f"
             ],
             [
              0.2222222222222222,
              "#7201a8"
             ],
             [
              0.3333333333333333,
              "#9c179e"
             ],
             [
              0.4444444444444444,
              "#bd3786"
             ],
             [
              0.5555555555555556,
              "#d8576b"
             ],
             [
              0.6666666666666666,
              "#ed7953"
             ],
             [
              0.7777777777777778,
              "#fb9f3a"
             ],
             [
              0.8888888888888888,
              "#fdca26"
             ],
             [
              1,
              "#f0f921"
             ]
            ],
            "type": "heatmapgl"
           }
          ],
          "histogram": [
           {
            "marker": {
             "pattern": {
              "fillmode": "overlay",
              "size": 10,
              "solidity": 0.2
             }
            },
            "type": "histogram"
           }
          ],
          "histogram2d": [
           {
            "colorbar": {
             "outlinewidth": 0,
             "ticks": ""
            },
            "colorscale": [
             [
              0,
              "#0d0887"
             ],
             [
              0.1111111111111111,
              "#46039f"
             ],
             [
              0.2222222222222222,
              "#7201a8"
             ],
             [
              0.3333333333333333,
              "#9c179e"
             ],
             [
              0.4444444444444444,
              "#bd3786"
             ],
             [
              0.5555555555555556,
              "#d8576b"
             ],
             [
              0.6666666666666666,
              "#ed7953"
             ],
             [
              0.7777777777777778,
              "#fb9f3a"
             ],
             [
              0.8888888888888888,
              "#fdca26"
             ],
             [
              1,
              "#f0f921"
             ]
            ],
            "type": "histogram2d"
           }
          ],
          "histogram2dcontour": [
           {
            "colorbar": {
             "outlinewidth": 0,
             "ticks": ""
            },
            "colorscale": [
             [
              0,
              "#0d0887"
             ],
             [
              0.1111111111111111,
              "#46039f"
             ],
             [
              0.2222222222222222,
              "#7201a8"
             ],
             [
              0.3333333333333333,
              "#9c179e"
             ],
             [
              0.4444444444444444,
              "#bd3786"
             ],
             [
              0.5555555555555556,
              "#d8576b"
             ],
             [
              0.6666666666666666,
              "#ed7953"
             ],
             [
              0.7777777777777778,
              "#fb9f3a"
             ],
             [
              0.8888888888888888,
              "#fdca26"
             ],
             [
              1,
              "#f0f921"
             ]
            ],
            "type": "histogram2dcontour"
           }
          ],
          "mesh3d": [
           {
            "colorbar": {
             "outlinewidth": 0,
             "ticks": ""
            },
            "type": "mesh3d"
           }
          ],
          "parcoords": [
           {
            "line": {
             "colorbar": {
              "outlinewidth": 0,
              "ticks": ""
             }
            },
            "type": "parcoords"
           }
          ],
          "pie": [
           {
            "automargin": true,
            "type": "pie"
           }
          ],
          "scatter": [
           {
            "fillpattern": {
             "fillmode": "overlay",
             "size": 10,
             "solidity": 0.2
            },
            "type": "scatter"
           }
          ],
          "scatter3d": [
           {
            "line": {
             "colorbar": {
              "outlinewidth": 0,
              "ticks": ""
             }
            },
            "marker": {
             "colorbar": {
              "outlinewidth": 0,
              "ticks": ""
             }
            },
            "type": "scatter3d"
           }
          ],
          "scattercarpet": [
           {
            "marker": {
             "colorbar": {
              "outlinewidth": 0,
              "ticks": ""
             }
            },
            "type": "scattercarpet"
           }
          ],
          "scattergeo": [
           {
            "marker": {
             "colorbar": {
              "outlinewidth": 0,
              "ticks": ""
             }
            },
            "type": "scattergeo"
           }
          ],
          "scattergl": [
           {
            "marker": {
             "colorbar": {
              "outlinewidth": 0,
              "ticks": ""
             }
            },
            "type": "scattergl"
           }
          ],
          "scattermapbox": [
           {
            "marker": {
             "colorbar": {
              "outlinewidth": 0,
              "ticks": ""
             }
            },
            "type": "scattermapbox"
           }
          ],
          "scatterpolar": [
           {
            "marker": {
             "colorbar": {
              "outlinewidth": 0,
              "ticks": ""
             }
            },
            "type": "scatterpolar"
           }
          ],
          "scatterpolargl": [
           {
            "marker": {
             "colorbar": {
              "outlinewidth": 0,
              "ticks": ""
             }
            },
            "type": "scatterpolargl"
           }
          ],
          "scatterternary": [
           {
            "marker": {
             "colorbar": {
              "outlinewidth": 0,
              "ticks": ""
             }
            },
            "type": "scatterternary"
           }
          ],
          "surface": [
           {
            "colorbar": {
             "outlinewidth": 0,
             "ticks": ""
            },
            "colorscale": [
             [
              0,
              "#0d0887"
             ],
             [
              0.1111111111111111,
              "#46039f"
             ],
             [
              0.2222222222222222,
              "#7201a8"
             ],
             [
              0.3333333333333333,
              "#9c179e"
             ],
             [
              0.4444444444444444,
              "#bd3786"
             ],
             [
              0.5555555555555556,
              "#d8576b"
             ],
             [
              0.6666666666666666,
              "#ed7953"
             ],
             [
              0.7777777777777778,
              "#fb9f3a"
             ],
             [
              0.8888888888888888,
              "#fdca26"
             ],
             [
              1,
              "#f0f921"
             ]
            ],
            "type": "surface"
           }
          ],
          "table": [
           {
            "cells": {
             "fill": {
              "color": "#EBF0F8"
             },
             "line": {
              "color": "white"
             }
            },
            "header": {
             "fill": {
              "color": "#C8D4E3"
             },
             "line": {
              "color": "white"
             }
            },
            "type": "table"
           }
          ]
         },
         "layout": {
          "annotationdefaults": {
           "arrowcolor": "#2a3f5f",
           "arrowhead": 0,
           "arrowwidth": 1
          },
          "autotypenumbers": "strict",
          "coloraxis": {
           "colorbar": {
            "outlinewidth": 0,
            "ticks": ""
           }
          },
          "colorscale": {
           "diverging": [
            [
             0,
             "#8e0152"
            ],
            [
             0.1,
             "#c51b7d"
            ],
            [
             0.2,
             "#de77ae"
            ],
            [
             0.3,
             "#f1b6da"
            ],
            [
             0.4,
             "#fde0ef"
            ],
            [
             0.5,
             "#f7f7f7"
            ],
            [
             0.6,
             "#e6f5d0"
            ],
            [
             0.7,
             "#b8e186"
            ],
            [
             0.8,
             "#7fbc41"
            ],
            [
             0.9,
             "#4d9221"
            ],
            [
             1,
             "#276419"
            ]
           ],
           "sequential": [
            [
             0,
             "#0d0887"
            ],
            [
             0.1111111111111111,
             "#46039f"
            ],
            [
             0.2222222222222222,
             "#7201a8"
            ],
            [
             0.3333333333333333,
             "#9c179e"
            ],
            [
             0.4444444444444444,
             "#bd3786"
            ],
            [
             0.5555555555555556,
             "#d8576b"
            ],
            [
             0.6666666666666666,
             "#ed7953"
            ],
            [
             0.7777777777777778,
             "#fb9f3a"
            ],
            [
             0.8888888888888888,
             "#fdca26"
            ],
            [
             1,
             "#f0f921"
            ]
           ],
           "sequentialminus": [
            [
             0,
             "#0d0887"
            ],
            [
             0.1111111111111111,
             "#46039f"
            ],
            [
             0.2222222222222222,
             "#7201a8"
            ],
            [
             0.3333333333333333,
             "#9c179e"
            ],
            [
             0.4444444444444444,
             "#bd3786"
            ],
            [
             0.5555555555555556,
             "#d8576b"
            ],
            [
             0.6666666666666666,
             "#ed7953"
            ],
            [
             0.7777777777777778,
             "#fb9f3a"
            ],
            [
             0.8888888888888888,
             "#fdca26"
            ],
            [
             1,
             "#f0f921"
            ]
           ]
          },
          "colorway": [
           "#636efa",
           "#EF553B",
           "#00cc96",
           "#ab63fa",
           "#FFA15A",
           "#19d3f3",
           "#FF6692",
           "#B6E880",
           "#FF97FF",
           "#FECB52"
          ],
          "font": {
           "color": "#2a3f5f"
          },
          "geo": {
           "bgcolor": "white",
           "lakecolor": "white",
           "landcolor": "#E5ECF6",
           "showlakes": true,
           "showland": true,
           "subunitcolor": "white"
          },
          "hoverlabel": {
           "align": "left"
          },
          "hovermode": "closest",
          "mapbox": {
           "style": "light"
          },
          "paper_bgcolor": "white",
          "plot_bgcolor": "#E5ECF6",
          "polar": {
           "angularaxis": {
            "gridcolor": "white",
            "linecolor": "white",
            "ticks": ""
           },
           "bgcolor": "#E5ECF6",
           "radialaxis": {
            "gridcolor": "white",
            "linecolor": "white",
            "ticks": ""
           }
          },
          "scene": {
           "xaxis": {
            "backgroundcolor": "#E5ECF6",
            "gridcolor": "white",
            "gridwidth": 2,
            "linecolor": "white",
            "showbackground": true,
            "ticks": "",
            "zerolinecolor": "white"
           },
           "yaxis": {
            "backgroundcolor": "#E5ECF6",
            "gridcolor": "white",
            "gridwidth": 2,
            "linecolor": "white",
            "showbackground": true,
            "ticks": "",
            "zerolinecolor": "white"
           },
           "zaxis": {
            "backgroundcolor": "#E5ECF6",
            "gridcolor": "white",
            "gridwidth": 2,
            "linecolor": "white",
            "showbackground": true,
            "ticks": "",
            "zerolinecolor": "white"
           }
          },
          "shapedefaults": {
           "line": {
            "color": "#2a3f5f"
           }
          },
          "ternary": {
           "aaxis": {
            "gridcolor": "white",
            "linecolor": "white",
            "ticks": ""
           },
           "baxis": {
            "gridcolor": "white",
            "linecolor": "white",
            "ticks": ""
           },
           "bgcolor": "#E5ECF6",
           "caxis": {
            "gridcolor": "white",
            "linecolor": "white",
            "ticks": ""
           }
          },
          "title": {
           "x": 0.05
          },
          "xaxis": {
           "automargin": true,
           "gridcolor": "white",
           "linecolor": "white",
           "ticks": "",
           "title": {
            "standoff": 15
           },
           "zerolinecolor": "white",
           "zerolinewidth": 2
          },
          "yaxis": {
           "automargin": true,
           "gridcolor": "white",
           "linecolor": "white",
           "ticks": "",
           "title": {
            "standoff": 15
           },
           "zerolinecolor": "white",
           "zerolinewidth": 2
          }
         }
        },
        "title": {
         "text": "Optimization History Plot"
        },
        "xaxis": {
         "title": {
          "text": "Trial"
         }
        },
        "yaxis": {
         "title": {
          "text": "Objective Value"
         }
        }
       }
      },
      "text/html": [
       "<div>                            <div id=\"9b901ee5-a1fe-4471-a902-858f52cfd9a9\" class=\"plotly-graph-div\" style=\"height:525px; width:100%;\"></div>            <script type=\"text/javascript\">                require([\"plotly\"], function(Plotly) {                    window.PLOTLYENV=window.PLOTLYENV || {};                                    if (document.getElementById(\"9b901ee5-a1fe-4471-a902-858f52cfd9a9\")) {                    Plotly.newPlot(                        \"9b901ee5-a1fe-4471-a902-858f52cfd9a9\",                        [{\"mode\":\"markers\",\"name\":\"Objective Value\",\"x\":[0],\"y\":[0.8872094185988102],\"type\":\"scatter\"},{\"mode\":\"lines\",\"name\":\"Best Value\",\"x\":[0],\"y\":[0.8872094185988102],\"type\":\"scatter\"},{\"marker\":{\"color\":\"#cccccc\"},\"mode\":\"markers\",\"name\":\"Infeasible Trial\",\"showlegend\":false,\"x\":[],\"y\":[],\"type\":\"scatter\"}],                        {\"title\":{\"text\":\"Optimization History Plot\"},\"xaxis\":{\"title\":{\"text\":\"Trial\"}},\"yaxis\":{\"title\":{\"text\":\"Objective Value\"}},\"template\":{\"data\":{\"histogram2dcontour\":[{\"type\":\"histogram2dcontour\",\"colorbar\":{\"outlinewidth\":0,\"ticks\":\"\"},\"colorscale\":[[0.0,\"#0d0887\"],[0.1111111111111111,\"#46039f\"],[0.2222222222222222,\"#7201a8\"],[0.3333333333333333,\"#9c179e\"],[0.4444444444444444,\"#bd3786\"],[0.5555555555555556,\"#d8576b\"],[0.6666666666666666,\"#ed7953\"],[0.7777777777777778,\"#fb9f3a\"],[0.8888888888888888,\"#fdca26\"],[1.0,\"#f0f921\"]]}],\"choropleth\":[{\"type\":\"choropleth\",\"colorbar\":{\"outlinewidth\":0,\"ticks\":\"\"}}],\"histogram2d\":[{\"type\":\"histogram2d\",\"colorbar\":{\"outlinewidth\":0,\"ticks\":\"\"},\"colorscale\":[[0.0,\"#0d0887\"],[0.1111111111111111,\"#46039f\"],[0.2222222222222222,\"#7201a8\"],[0.3333333333333333,\"#9c179e\"],[0.4444444444444444,\"#bd3786\"],[0.5555555555555556,\"#d8576b\"],[0.6666666666666666,\"#ed7953\"],[0.7777777777777778,\"#fb9f3a\"],[0.8888888888888888,\"#fdca26\"],[1.0,\"#f0f921\"]]}],\"heatmap\":[{\"type\":\"heatmap\",\"colorbar\":{\"outlinewidth\":0,\"ticks\":\"\"},\"colorscale\":[[0.0,\"#0d0887\"],[0.1111111111111111,\"#46039f\"],[0.2222222222222222,\"#7201a8\"],[0.3333333333333333,\"#9c179e\"],[0.4444444444444444,\"#bd3786\"],[0.5555555555555556,\"#d8576b\"],[0.6666666666666666,\"#ed7953\"],[0.7777777777777778,\"#fb9f3a\"],[0.8888888888888888,\"#fdca26\"],[1.0,\"#f0f921\"]]}],\"heatmapgl\":[{\"type\":\"heatmapgl\",\"colorbar\":{\"outlinewidth\":0,\"ticks\":\"\"},\"colorscale\":[[0.0,\"#0d0887\"],[0.1111111111111111,\"#46039f\"],[0.2222222222222222,\"#7201a8\"],[0.3333333333333333,\"#9c179e\"],[0.4444444444444444,\"#bd3786\"],[0.5555555555555556,\"#d8576b\"],[0.6666666666666666,\"#ed7953\"],[0.7777777777777778,\"#fb9f3a\"],[0.8888888888888888,\"#fdca26\"],[1.0,\"#f0f921\"]]}],\"contourcarpet\":[{\"type\":\"contourcarpet\",\"colorbar\":{\"outlinewidth\":0,\"ticks\":\"\"}}],\"contour\":[{\"type\":\"contour\",\"colorbar\":{\"outlinewidth\":0,\"ticks\":\"\"},\"colorscale\":[[0.0,\"#0d0887\"],[0.1111111111111111,\"#46039f\"],[0.2222222222222222,\"#7201a8\"],[0.3333333333333333,\"#9c179e\"],[0.4444444444444444,\"#bd3786\"],[0.5555555555555556,\"#d8576b\"],[0.6666666666666666,\"#ed7953\"],[0.7777777777777778,\"#fb9f3a\"],[0.8888888888888888,\"#fdca26\"],[1.0,\"#f0f921\"]]}],\"surface\":[{\"type\":\"surface\",\"colorbar\":{\"outlinewidth\":0,\"ticks\":\"\"},\"colorscale\":[[0.0,\"#0d0887\"],[0.1111111111111111,\"#46039f\"],[0.2222222222222222,\"#7201a8\"],[0.3333333333333333,\"#9c179e\"],[0.4444444444444444,\"#bd3786\"],[0.5555555555555556,\"#d8576b\"],[0.6666666666666666,\"#ed7953\"],[0.7777777777777778,\"#fb9f3a\"],[0.8888888888888888,\"#fdca26\"],[1.0,\"#f0f921\"]]}],\"mesh3d\":[{\"type\":\"mesh3d\",\"colorbar\":{\"outlinewidth\":0,\"ticks\":\"\"}}],\"scatter\":[{\"fillpattern\":{\"fillmode\":\"overlay\",\"size\":10,\"solidity\":0.2},\"type\":\"scatter\"}],\"parcoords\":[{\"type\":\"parcoords\",\"line\":{\"colorbar\":{\"outlinewidth\":0,\"ticks\":\"\"}}}],\"scatterpolargl\":[{\"type\":\"scatterpolargl\",\"marker\":{\"colorbar\":{\"outlinewidth\":0,\"ticks\":\"\"}}}],\"bar\":[{\"error_x\":{\"color\":\"#2a3f5f\"},\"error_y\":{\"color\":\"#2a3f5f\"},\"marker\":{\"line\":{\"color\":\"#E5ECF6\",\"width\":0.5},\"pattern\":{\"fillmode\":\"overlay\",\"size\":10,\"solidity\":0.2}},\"type\":\"bar\"}],\"scattergeo\":[{\"type\":\"scattergeo\",\"marker\":{\"colorbar\":{\"outlinewidth\":0,\"ticks\":\"\"}}}],\"scatterpolar\":[{\"type\":\"scatterpolar\",\"marker\":{\"colorbar\":{\"outlinewidth\":0,\"ticks\":\"\"}}}],\"histogram\":[{\"marker\":{\"pattern\":{\"fillmode\":\"overlay\",\"size\":10,\"solidity\":0.2}},\"type\":\"histogram\"}],\"scattergl\":[{\"type\":\"scattergl\",\"marker\":{\"colorbar\":{\"outlinewidth\":0,\"ticks\":\"\"}}}],\"scatter3d\":[{\"type\":\"scatter3d\",\"line\":{\"colorbar\":{\"outlinewidth\":0,\"ticks\":\"\"}},\"marker\":{\"colorbar\":{\"outlinewidth\":0,\"ticks\":\"\"}}}],\"scattermapbox\":[{\"type\":\"scattermapbox\",\"marker\":{\"colorbar\":{\"outlinewidth\":0,\"ticks\":\"\"}}}],\"scatterternary\":[{\"type\":\"scatterternary\",\"marker\":{\"colorbar\":{\"outlinewidth\":0,\"ticks\":\"\"}}}],\"scattercarpet\":[{\"type\":\"scattercarpet\",\"marker\":{\"colorbar\":{\"outlinewidth\":0,\"ticks\":\"\"}}}],\"carpet\":[{\"aaxis\":{\"endlinecolor\":\"#2a3f5f\",\"gridcolor\":\"white\",\"linecolor\":\"white\",\"minorgridcolor\":\"white\",\"startlinecolor\":\"#2a3f5f\"},\"baxis\":{\"endlinecolor\":\"#2a3f5f\",\"gridcolor\":\"white\",\"linecolor\":\"white\",\"minorgridcolor\":\"white\",\"startlinecolor\":\"#2a3f5f\"},\"type\":\"carpet\"}],\"table\":[{\"cells\":{\"fill\":{\"color\":\"#EBF0F8\"},\"line\":{\"color\":\"white\"}},\"header\":{\"fill\":{\"color\":\"#C8D4E3\"},\"line\":{\"color\":\"white\"}},\"type\":\"table\"}],\"barpolar\":[{\"marker\":{\"line\":{\"color\":\"#E5ECF6\",\"width\":0.5},\"pattern\":{\"fillmode\":\"overlay\",\"size\":10,\"solidity\":0.2}},\"type\":\"barpolar\"}],\"pie\":[{\"automargin\":true,\"type\":\"pie\"}]},\"layout\":{\"autotypenumbers\":\"strict\",\"colorway\":[\"#636efa\",\"#EF553B\",\"#00cc96\",\"#ab63fa\",\"#FFA15A\",\"#19d3f3\",\"#FF6692\",\"#B6E880\",\"#FF97FF\",\"#FECB52\"],\"font\":{\"color\":\"#2a3f5f\"},\"hovermode\":\"closest\",\"hoverlabel\":{\"align\":\"left\"},\"paper_bgcolor\":\"white\",\"plot_bgcolor\":\"#E5ECF6\",\"polar\":{\"bgcolor\":\"#E5ECF6\",\"angularaxis\":{\"gridcolor\":\"white\",\"linecolor\":\"white\",\"ticks\":\"\"},\"radialaxis\":{\"gridcolor\":\"white\",\"linecolor\":\"white\",\"ticks\":\"\"}},\"ternary\":{\"bgcolor\":\"#E5ECF6\",\"aaxis\":{\"gridcolor\":\"white\",\"linecolor\":\"white\",\"ticks\":\"\"},\"baxis\":{\"gridcolor\":\"white\",\"linecolor\":\"white\",\"ticks\":\"\"},\"caxis\":{\"gridcolor\":\"white\",\"linecolor\":\"white\",\"ticks\":\"\"}},\"coloraxis\":{\"colorbar\":{\"outlinewidth\":0,\"ticks\":\"\"}},\"colorscale\":{\"sequential\":[[0.0,\"#0d0887\"],[0.1111111111111111,\"#46039f\"],[0.2222222222222222,\"#7201a8\"],[0.3333333333333333,\"#9c179e\"],[0.4444444444444444,\"#bd3786\"],[0.5555555555555556,\"#d8576b\"],[0.6666666666666666,\"#ed7953\"],[0.7777777777777778,\"#fb9f3a\"],[0.8888888888888888,\"#fdca26\"],[1.0,\"#f0f921\"]],\"sequentialminus\":[[0.0,\"#0d0887\"],[0.1111111111111111,\"#46039f\"],[0.2222222222222222,\"#7201a8\"],[0.3333333333333333,\"#9c179e\"],[0.4444444444444444,\"#bd3786\"],[0.5555555555555556,\"#d8576b\"],[0.6666666666666666,\"#ed7953\"],[0.7777777777777778,\"#fb9f3a\"],[0.8888888888888888,\"#fdca26\"],[1.0,\"#f0f921\"]],\"diverging\":[[0,\"#8e0152\"],[0.1,\"#c51b7d\"],[0.2,\"#de77ae\"],[0.3,\"#f1b6da\"],[0.4,\"#fde0ef\"],[0.5,\"#f7f7f7\"],[0.6,\"#e6f5d0\"],[0.7,\"#b8e186\"],[0.8,\"#7fbc41\"],[0.9,\"#4d9221\"],[1,\"#276419\"]]},\"xaxis\":{\"gridcolor\":\"white\",\"linecolor\":\"white\",\"ticks\":\"\",\"title\":{\"standoff\":15},\"zerolinecolor\":\"white\",\"automargin\":true,\"zerolinewidth\":2},\"yaxis\":{\"gridcolor\":\"white\",\"linecolor\":\"white\",\"ticks\":\"\",\"title\":{\"standoff\":15},\"zerolinecolor\":\"white\",\"automargin\":true,\"zerolinewidth\":2},\"scene\":{\"xaxis\":{\"backgroundcolor\":\"#E5ECF6\",\"gridcolor\":\"white\",\"linecolor\":\"white\",\"showbackground\":true,\"ticks\":\"\",\"zerolinecolor\":\"white\",\"gridwidth\":2},\"yaxis\":{\"backgroundcolor\":\"#E5ECF6\",\"gridcolor\":\"white\",\"linecolor\":\"white\",\"showbackground\":true,\"ticks\":\"\",\"zerolinecolor\":\"white\",\"gridwidth\":2},\"zaxis\":{\"backgroundcolor\":\"#E5ECF6\",\"gridcolor\":\"white\",\"linecolor\":\"white\",\"showbackground\":true,\"ticks\":\"\",\"zerolinecolor\":\"white\",\"gridwidth\":2}},\"shapedefaults\":{\"line\":{\"color\":\"#2a3f5f\"}},\"annotationdefaults\":{\"arrowcolor\":\"#2a3f5f\",\"arrowhead\":0,\"arrowwidth\":1},\"geo\":{\"bgcolor\":\"white\",\"landcolor\":\"#E5ECF6\",\"subunitcolor\":\"white\",\"showland\":true,\"showlakes\":true,\"lakecolor\":\"white\"},\"title\":{\"x\":0.05},\"mapbox\":{\"style\":\"light\"}}}},                        {\"responsive\": true}                    ).then(function(){\n",
       "                            \n",
       "var gd = document.getElementById('9b901ee5-a1fe-4471-a902-858f52cfd9a9');\n",
       "var x = new MutationObserver(function (mutations, observer) {{\n",
       "        var display = window.getComputedStyle(gd).display;\n",
       "        if (!display || display === 'none') {{\n",
       "            console.log([gd, 'removed!']);\n",
       "            Plotly.purge(gd);\n",
       "            observer.disconnect();\n",
       "        }}\n",
       "}});\n",
       "\n",
       "// Listen for the removal of the full notebook cells\n",
       "var notebookContainer = gd.closest('#notebook-container');\n",
       "if (notebookContainer) {{\n",
       "    x.observe(notebookContainer, {childList: true});\n",
       "}}\n",
       "\n",
       "// Listen for the clearing of the current output cell\n",
       "var outputEl = gd.closest('.output');\n",
       "if (outputEl) {{\n",
       "    x.observe(outputEl, {childList: true});\n",
       "}}\n",
       "\n",
       "                        })                };                });            </script>        </div>"
      ]
     },
     "metadata": {},
     "output_type": "display_data"
    },
    {
     "name": "stdout",
     "output_type": "stream",
     "text": [
      "Study Summary\n",
      "{'n_estimators': 804, 'learning_rate': 0.0013901001434394645}\n",
      "AUC-ROC: 0.8872094185988102\n",
      "Best model results\n",
      "Optimal threshold 0.034337610283002945\n",
      "Test Metrics\n",
      "0.6038961038961039\n",
      "0.9249400479616307\n",
      "[[78 61]\n",
      " [ 0 15]]\n"
     ]
    },
    {
     "data": {
      "image/png": "[encoded data removed]",
      "text/plain": [
       "<Figure size 640x480 with 1 Axes>"
      ]
     },
     "metadata": {},
     "output_type": "display_data"
    }
   ],
   "source": [
    "def objective_ab(trial):\n",
    "    ab_params = {\n",
    "        \"n_estimators\": trial.suggest_int(\"n_estimators\", low = 100, high = 2000),\n",
    "        \"learning_rate\": trial.suggest_float(\"learning_rate\", 1e-3, 1, log = True),\n",
    "    }\n",
    "    kf = KFold(n_splits = 5, shuffle = True, random_state = 123)\n",
    "    values_test = []\n",
    "    ab = AdaBoostClassifier(**ab_params)\n",
    "    for trf_index, tef_index in kf.split(X_train): # train and test folds of train data (only data we use now)\n",
    "        X_trf, X_tef = X_train.iloc[trf_index], X_train.iloc[tef_index]\n",
    "        y_trf, y_tef = y_train.iloc[trf_index], y_train.iloc[tef_index]\n",
    "        ab.fit(X_trf, y_trf)\n",
    "        values_test.append(roc_auc_score(y_tef, ab.predict_proba(X_tef)[:,1]))\n",
    "    return np.mean(np.array(values_test))\n",
    "\n",
    "study = optuna.create_study(direction = 'maximize')\n",
    "study.optimize(objective_ab, n_trials = 1)\n",
    "fig = vis.plot_optimization_history(study)\n",
    "fig.show()\n",
    "print('Study Summary')\n",
    "print(study.best_params)\n",
    "print('AUC-ROC:', study.best_value)\n",
    "print('Best model results')\n",
    "grid4 = AdaBoostClassifier(**study.best_params)\n",
    "grid4.fit(X_train, y_train)\n",
    "joblib.dump(grid4, 'sp_adaboost.pkl')\n",
    "y_val_pred = grid3.predict(X_val)\n",
    "y_val_proba = grid3.predict_proba(X_val)[:,1]\n",
    "fpr4, tpr4, thresholds = roc_curve(y_val, y_val_proba, pos_label = 1)\n",
    "plt.plot(fpr4, tpr4, '-o', linewidth=2, label = 'XGBoost')\n",
    "plt.plot([0,1], [0,1], 'k--' )\n",
    "plt.legend()\n",
    "n_arg = np.argmin(abs(tpr4-1))\n",
    "thr_opt = thresholds[n_arg]\n",
    "print('Optimal threshold', thr_opt)\n",
    "# Putting metrics here as well \n",
    "print('Test Metrics')\n",
    "y_test_proba = grid4.predict_proba(X_test)[:,1]\n",
    "y_test_final = y_test_proba.copy()\n",
    "y_test_final[y_test_proba >= thr_opt] = 1\n",
    "y_test_final[y_test_proba < thr_opt] = 0\n",
    "print(accuracy_score(y_test, y_test_final)) # accuracy\n",
    "print(roc_auc_score(y_test, y_test_proba)) # roc auc\n",
    "print(confusion_matrix(y_test, y_test_final)) # confusion matrix"
   ]
  },
  {
   "cell_type": "code",
   "execution_count": 49,
   "id": "243e0e23",
   "metadata": {},
   "outputs": [
    {
     "data": {
      "image/png": "[encoded data removed]",
      "text/plain": [
       "<Figure size 640x480 with 1 Axes>"
      ]
     },
     "metadata": {},
     "output_type": "display_data"
    }
   ],
   "source": [
    "plt.plot(fpr1, tpr1, label = 'XGBoost')\n",
    "plt.plot(fpr2, tpr2, label = 'Random Forest')\n",
    "plt.plot(fpr3, tpr3, label = 'CatBoost')\n",
    "plt.plot(fpr4, tpr4, label = 'AdaBoost')\n",
    "plt.plot(np.linspace(0,1,100), np.linspace(0,1,100), 'k--')\n",
    "plt.legend()\n",
    "plt.xlabel('FPR')\n",
    "plt.ylabel('TPR')\n",
    "plt.show()"
   ]
  },
  {
   "cell_type": "code",
   "execution_count": 50,
   "id": "b57971c4",
   "metadata": {},
   "outputs": [
    {
     "data": {
      "image/png": "[encoded data removed]",
      "text/plain": [
       "<Figure size 640x480 with 1 Axes>"
      ]
     },
     "metadata": {},
     "output_type": "display_data"
    }
   ],
   "source": [
    "plt.plot(fpr1, tpr1, label = 'XGBoost')\n",
    "plt.plot(fpr2, tpr2, label = 'Random Forest')\n",
    "plt.plot(fpr3, tpr3, label = 'CatBoost')\n",
    "plt.plot(fpr4, tpr4, label = 'AdaBoost')\n",
    "plt.plot(np.linspace(0,1,100), np.linspace(0,1,100), 'k--')\n",
    "plt.legend()\n",
    "plt.xlabel('False Positive Rate (FPR)')\n",
    "plt.ylabel('True Positive Rate (TPR)')\n",
    "plt.show()"
   ]
  },
  {
   "cell_type": "code",
   "execution_count": null,
   "id": "165f820c",
   "metadata": {},
   "outputs": [],
   "source": []
  }
 ],
 "metadata": {
  "kernelspec": {
   "display_name": "Python 3 (ipykernel)",
   "language": "python",
   "name": "python3"
  },
  "language_info": {
   "codemirror_mode": {
    "name": "ipython",
    "version": 3
   },
   "file_extension": ".py",
   "mimetype": "text/x-python",
   "name": "python",
   "nbconvert_exporter": "python",
   "pygments_lexer": "ipython3",
   "version": "3.8.16"
  }
 },
 "nbformat": 4,
 "nbformat_minor": 5
}

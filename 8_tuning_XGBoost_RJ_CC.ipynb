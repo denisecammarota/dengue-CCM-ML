{
 "cells": [
  {
   "cell_type": "markdown",
   "id": "3a57f5c7",
   "metadata": {},
   "source": [
    "## Importing libraries"
   ]
  },
  {
   "cell_type": "code",
   "execution_count": 1,
   "id": "cee1fd51",
   "metadata": {},
   "outputs": [],
   "source": [
    "import matplotlib.pyplot as plt\n",
    "import numpy as np\n",
    "import pandas as pd\n",
    "import random\n",
    "import shap\n",
    "from sklearn import metrics\n",
    "from sklearn.preprocessing import StandardScaler\n",
    "from sklearn.model_selection import train_test_split\n",
    "from sklearn.model_selection import GridSearchCV\n",
    "from sklearn.tree import DecisionTreeClassifier\n",
    "from sklearn.ensemble import RandomForestClassifier\n",
    "from xgboost import XGBClassifier\n",
    "from sklearn import tree\n",
    "from sklearn.linear_model import LogisticRegression\n",
    "from sklearn.metrics import accuracy_score, confusion_matrix, roc_curve, roc_auc_score, auc, precision_score, recall_score, precision_recall_curve\n",
    "random.seed(123)"
   ]
  },
  {
   "cell_type": "markdown",
   "id": "d55ae567",
   "metadata": {},
   "source": [
    "## Loading data"
   ]
  },
  {
   "cell_type": "code",
   "execution_count": 2,
   "id": "95fbdbe1",
   "metadata": {},
   "outputs": [],
   "source": [
    "# Loading data\n",
    "df = pd.read_csv('RJ/dataset_ML_RJ_CC.csv')\n",
    "df_tplot = df['tplot']\n",
    "df_cases = df['CASES_100K']\n",
    "df = df.drop(columns = ['EPI_YEAR','tplot','CASES_100K'])\n",
    "df['label_2'] = 0 # for most of values, no epidemic yet\n",
    "df.loc[df['label'] == 'Epi','label_2'] = 1 # epidemic\n",
    "df.loc[df['label'] == 'High','label_2'] = 1 # epidemic as well\n",
    "df = df.drop(columns = ['label'])"
   ]
  },
  {
   "cell_type": "markdown",
   "id": "3df1c79d",
   "metadata": {},
   "source": [
    "## Train-test split"
   ]
  },
  {
   "cell_type": "code",
   "execution_count": 3,
   "id": "7af86017",
   "metadata": {},
   "outputs": [
    {
     "data": {
      "text/html": [
       "<div>\n",
       "<style scoped>\n",
       "    .dataframe tbody tr th:only-of-type {\n",
       "        vertical-align: middle;\n",
       "    }\n",
       "\n",
       "    .dataframe tbody tr th {\n",
       "        vertical-align: top;\n",
       "    }\n",
       "\n",
       "    .dataframe thead th {\n",
       "        text-align: right;\n",
       "    }\n",
       "</style>\n",
       "<table border=\"1\" class=\"dataframe\">\n",
       "  <thead>\n",
       "    <tr style=\"text-align: right;\">\n",
       "      <th></th>\n",
       "      <th>EPI_WEEK</th>\n",
       "      <th>rh_max_lag</th>\n",
       "      <th>rh_min_lag</th>\n",
       "      <th>t_min_lag</th>\n",
       "      <th>t_max_lag</th>\n",
       "      <th>LAMBDA_lag</th>\n",
       "      <th>p_total_lag</th>\n",
       "      <th>label_2</th>\n",
       "    </tr>\n",
       "  </thead>\n",
       "  <tbody>\n",
       "    <tr>\n",
       "      <th>0</th>\n",
       "      <td>19</td>\n",
       "      <td>92.583333</td>\n",
       "      <td>56.662857</td>\n",
       "      <td>23.804286</td>\n",
       "      <td>28.772857</td>\n",
       "      <td>1.228137</td>\n",
       "      <td>52.62</td>\n",
       "      <td>1</td>\n",
       "    </tr>\n",
       "    <tr>\n",
       "      <th>1</th>\n",
       "      <td>20</td>\n",
       "      <td>92.464286</td>\n",
       "      <td>57.195714</td>\n",
       "      <td>23.548571</td>\n",
       "      <td>28.820000</td>\n",
       "      <td>1.345211</td>\n",
       "      <td>10.84</td>\n",
       "      <td>1</td>\n",
       "    </tr>\n",
       "    <tr>\n",
       "      <th>2</th>\n",
       "      <td>21</td>\n",
       "      <td>94.912857</td>\n",
       "      <td>63.928571</td>\n",
       "      <td>23.372857</td>\n",
       "      <td>28.722857</td>\n",
       "      <td>1.201866</td>\n",
       "      <td>4.80</td>\n",
       "      <td>1</td>\n",
       "    </tr>\n",
       "    <tr>\n",
       "      <th>3</th>\n",
       "      <td>22</td>\n",
       "      <td>92.894286</td>\n",
       "      <td>71.831429</td>\n",
       "      <td>22.444286</td>\n",
       "      <td>29.961429</td>\n",
       "      <td>0.967012</td>\n",
       "      <td>22.00</td>\n",
       "      <td>1</td>\n",
       "    </tr>\n",
       "    <tr>\n",
       "      <th>4</th>\n",
       "      <td>23</td>\n",
       "      <td>90.740000</td>\n",
       "      <td>68.758571</td>\n",
       "      <td>22.432857</td>\n",
       "      <td>27.902857</td>\n",
       "      <td>0.820011</td>\n",
       "      <td>38.41</td>\n",
       "      <td>1</td>\n",
       "    </tr>\n",
       "    <tr>\n",
       "      <th>...</th>\n",
       "      <td>...</td>\n",
       "      <td>...</td>\n",
       "      <td>...</td>\n",
       "      <td>...</td>\n",
       "      <td>...</td>\n",
       "      <td>...</td>\n",
       "      <td>...</td>\n",
       "      <td>...</td>\n",
       "    </tr>\n",
       "    <tr>\n",
       "      <th>1073</th>\n",
       "      <td>48</td>\n",
       "      <td>85.347143</td>\n",
       "      <td>64.668571</td>\n",
       "      <td>18.378571</td>\n",
       "      <td>25.234286</td>\n",
       "      <td>0.534591</td>\n",
       "      <td>8.64</td>\n",
       "      <td>0</td>\n",
       "    </tr>\n",
       "    <tr>\n",
       "      <th>1074</th>\n",
       "      <td>49</td>\n",
       "      <td>88.964286</td>\n",
       "      <td>65.974286</td>\n",
       "      <td>20.152857</td>\n",
       "      <td>27.360000</td>\n",
       "      <td>-0.129386</td>\n",
       "      <td>1.09</td>\n",
       "      <td>0</td>\n",
       "    </tr>\n",
       "    <tr>\n",
       "      <th>1075</th>\n",
       "      <td>50</td>\n",
       "      <td>92.134286</td>\n",
       "      <td>72.792857</td>\n",
       "      <td>20.258571</td>\n",
       "      <td>26.128571</td>\n",
       "      <td>0.240050</td>\n",
       "      <td>13.33</td>\n",
       "      <td>0</td>\n",
       "    </tr>\n",
       "    <tr>\n",
       "      <th>1076</th>\n",
       "      <td>51</td>\n",
       "      <td>94.151429</td>\n",
       "      <td>73.892857</td>\n",
       "      <td>19.384286</td>\n",
       "      <td>25.864286</td>\n",
       "      <td>0.516667</td>\n",
       "      <td>5.45</td>\n",
       "      <td>0</td>\n",
       "    </tr>\n",
       "    <tr>\n",
       "      <th>1077</th>\n",
       "      <td>52</td>\n",
       "      <td>90.722857</td>\n",
       "      <td>74.251429</td>\n",
       "      <td>19.260000</td>\n",
       "      <td>22.594286</td>\n",
       "      <td>0.718667</td>\n",
       "      <td>0.86</td>\n",
       "      <td>0</td>\n",
       "    </tr>\n",
       "  </tbody>\n",
       "</table>\n",
       "<p>1078 rows × 8 columns</p>\n",
       "</div>"
      ],
      "text/plain": [
       "      EPI_WEEK  rh_max_lag  rh_min_lag  t_min_lag  t_max_lag  LAMBDA_lag  \\\n",
       "0           19   92.583333   56.662857  23.804286  28.772857    1.228137   \n",
       "1           20   92.464286   57.195714  23.548571  28.820000    1.345211   \n",
       "2           21   94.912857   63.928571  23.372857  28.722857    1.201866   \n",
       "3           22   92.894286   71.831429  22.444286  29.961429    0.967012   \n",
       "4           23   90.740000   68.758571  22.432857  27.902857    0.820011   \n",
       "...        ...         ...         ...        ...        ...         ...   \n",
       "1073        48   85.347143   64.668571  18.378571  25.234286    0.534591   \n",
       "1074        49   88.964286   65.974286  20.152857  27.360000   -0.129386   \n",
       "1075        50   92.134286   72.792857  20.258571  26.128571    0.240050   \n",
       "1076        51   94.151429   73.892857  19.384286  25.864286    0.516667   \n",
       "1077        52   90.722857   74.251429  19.260000  22.594286    0.718667   \n",
       "\n",
       "      p_total_lag  label_2  \n",
       "0           52.62        1  \n",
       "1           10.84        1  \n",
       "2            4.80        1  \n",
       "3           22.00        1  \n",
       "4           38.41        1  \n",
       "...           ...      ...  \n",
       "1073         8.64        0  \n",
       "1074         1.09        0  \n",
       "1075        13.33        0  \n",
       "1076         5.45        0  \n",
       "1077         0.86        0  \n",
       "\n",
       "[1078 rows x 8 columns]"
      ]
     },
     "execution_count": 3,
     "metadata": {},
     "output_type": "execute_result"
    }
   ],
   "source": [
    "df"
   ]
  },
  {
   "cell_type": "code",
   "execution_count": 4,
   "id": "9a55f432",
   "metadata": {},
   "outputs": [
    {
     "data": {
      "text/plain": [
       "0    1008\n",
       "1      70\n",
       "Name: label_2, dtype: int64"
      ]
     },
     "execution_count": 4,
     "metadata": {},
     "output_type": "execute_result"
    }
   ],
   "source": [
    "df['label_2'].value_counts()"
   ]
  },
  {
   "cell_type": "code",
   "execution_count": 5,
   "id": "7e860c45",
   "metadata": {},
   "outputs": [],
   "source": [
    "X = df.iloc[:,0:7]\n",
    "y = df.iloc[:,7]\n",
    "X_train, X_test, y_train, y_test = train_test_split(X, y, stratify=y, test_size = 0.3, random_state = 0)\n",
    "X_test, X_val, y_test, y_val = train_test_split(X_test, y_test, stratify = y_test, test_size = 0.5, random_state = 0)"
   ]
  },
  {
   "cell_type": "code",
   "execution_count": 6,
   "id": "fcc8fb71",
   "metadata": {},
   "outputs": [
    {
     "name": "stdout",
     "output_type": "stream",
     "text": [
      "Train:  (754,)\n",
      "Test:  (162,)\n",
      "Validation:  (162,)\n"
     ]
    }
   ],
   "source": [
    "print('Train: ', y_train.shape)\n",
    "print('Test: ', y_test.shape)\n",
    "print('Validation: ', y_val.shape)"
   ]
  },
  {
   "cell_type": "markdown",
   "id": "c2a2dc70",
   "metadata": {},
   "source": [
    "## Doing hyperparameter tuning for XGBoost Classifier"
   ]
  },
  {
   "cell_type": "code",
   "execution_count": 7,
   "id": "f4977008",
   "metadata": {},
   "outputs": [
    {
     "data": {
      "text/html": [
       "<style>#sk-container-id-1 {color: black;background-color: white;}#sk-container-id-1 pre{padding: 0;}#sk-container-id-1 div.sk-toggleable {background-color: white;}#sk-container-id-1 label.sk-toggleable__label {cursor: pointer;display: block;width: 100%;margin-bottom: 0;padding: 0.3em;box-sizing: border-box;text-align: center;}#sk-container-id-1 label.sk-toggleable__label-arrow:before {content: \"▸\";float: left;margin-right: 0.25em;color: #696969;}#sk-container-id-1 label.sk-toggleable__label-arrow:hover:before {color: black;}#sk-container-id-1 div.sk-estimator:hover label.sk-toggleable__label-arrow:before {color: black;}#sk-container-id-1 div.sk-toggleable__content {max-height: 0;max-width: 0;overflow: hidden;text-align: left;background-color: #f0f8ff;}#sk-container-id-1 div.sk-toggleable__content pre {margin: 0.2em;color: black;border-radius: 0.25em;background-color: #f0f8ff;}#sk-container-id-1 input.sk-toggleable__control:checked~div.sk-toggleable__content {max-height: 200px;max-width: 100%;overflow: auto;}#sk-container-id-1 input.sk-toggleable__control:checked~label.sk-toggleable__label-arrow:before {content: \"▾\";}#sk-container-id-1 div.sk-estimator input.sk-toggleable__control:checked~label.sk-toggleable__label {background-color: #d4ebff;}#sk-container-id-1 div.sk-label input.sk-toggleable__control:checked~label.sk-toggleable__label {background-color: #d4ebff;}#sk-container-id-1 input.sk-hidden--visually {border: 0;clip: rect(1px 1px 1px 1px);clip: rect(1px, 1px, 1px, 1px);height: 1px;margin: -1px;overflow: hidden;padding: 0;position: absolute;width: 1px;}#sk-container-id-1 div.sk-estimator {font-family: monospace;background-color: #f0f8ff;border: 1px dotted black;border-radius: 0.25em;box-sizing: border-box;margin-bottom: 0.5em;}#sk-container-id-1 div.sk-estimator:hover {background-color: #d4ebff;}#sk-container-id-1 div.sk-parallel-item::after {content: \"\";width: 100%;border-bottom: 1px solid gray;flex-grow: 1;}#sk-container-id-1 div.sk-label:hover label.sk-toggleable__label {background-color: #d4ebff;}#sk-container-id-1 div.sk-serial::before {content: \"\";position: absolute;border-left: 1px solid gray;box-sizing: border-box;top: 0;bottom: 0;left: 50%;z-index: 0;}#sk-container-id-1 div.sk-serial {display: flex;flex-direction: column;align-items: center;background-color: white;padding-right: 0.2em;padding-left: 0.2em;position: relative;}#sk-container-id-1 div.sk-item {position: relative;z-index: 1;}#sk-container-id-1 div.sk-parallel {display: flex;align-items: stretch;justify-content: center;background-color: white;position: relative;}#sk-container-id-1 div.sk-item::before, #sk-container-id-1 div.sk-parallel-item::before {content: \"\";position: absolute;border-left: 1px solid gray;box-sizing: border-box;top: 0;bottom: 0;left: 50%;z-index: -1;}#sk-container-id-1 div.sk-parallel-item {display: flex;flex-direction: column;z-index: 1;position: relative;background-color: white;}#sk-container-id-1 div.sk-parallel-item:first-child::after {align-self: flex-end;width: 50%;}#sk-container-id-1 div.sk-parallel-item:last-child::after {align-self: flex-start;width: 50%;}#sk-container-id-1 div.sk-parallel-item:only-child::after {width: 0;}#sk-container-id-1 div.sk-dashed-wrapped {border: 1px dashed gray;margin: 0 0.4em 0.5em 0.4em;box-sizing: border-box;padding-bottom: 0.4em;background-color: white;}#sk-container-id-1 div.sk-label label {font-family: monospace;font-weight: bold;display: inline-block;line-height: 1.2em;}#sk-container-id-1 div.sk-label-container {text-align: center;}#sk-container-id-1 div.sk-container {/* jupyter's `normalize.less` sets `[hidden] { display: none; }` but bootstrap.min.css set `[hidden] { display: none !important; }` so we also need the `!important` here to be able to override the default hidden behavior on the sphinx rendered scikit-learn.org. See: https://github.com/scikit-learn/scikit-learn/issues/21755 */display: inline-block !important;position: relative;}#sk-container-id-1 div.sk-text-repr-fallback {display: none;}</style><div id=\"sk-container-id-1\" class=\"sk-top-container\"><div class=\"sk-text-repr-fallback\"><pre>GridSearchCV(estimator=XGBClassifier(base_score=None, booster=None,\n",
       "                                     callbacks=None, colsample_bylevel=None,\n",
       "                                     colsample_bynode=None,\n",
       "                                     colsample_bytree=None, device=None,\n",
       "                                     early_stopping_rounds=None,\n",
       "                                     enable_categorical=False, eval_metric=None,\n",
       "                                     feature_types=None, gamma=None,\n",
       "                                     grow_policy=None, importance_type=None,\n",
       "                                     interaction_constraints=None,\n",
       "                                     learning_rate=None, max_b...\n",
       "                                     max_leaves=None, min_child_weight=None,\n",
       "                                     missing=nan, monotone_constraints=None,\n",
       "                                     multi_strategy=None, n_estimators=None,\n",
       "                                     n_jobs=None, nthread=8,\n",
       "                                     num_parallel_tree=None, ...),\n",
       "             param_grid={&#x27;gamma&#x27;: [0, 0.01, 0.1, 1, 10],\n",
       "                         &#x27;learning_rate&#x27;: [0.05, 0.07, 0.1, 0.2, 0.3],\n",
       "                         &#x27;max_depth&#x27;: [1, 2, 3, 4, 5, 6, 7, 8, 9, 10],\n",
       "                         &#x27;min_child_weight&#x27;: [0, 1, 2],\n",
       "                         &#x27;n_estimators&#x27;: [10, 50, 100, 200, 300, 400, 500,\n",
       "                                          600]},\n",
       "             scoring=&#x27;roc_auc&#x27;)</pre><b>In a Jupyter environment, please rerun this cell to show the HTML representation or trust the notebook. <br />On GitHub, the HTML representation is unable to render, please try loading this page with nbviewer.org.</b></div><div class=\"sk-container\" hidden><div class=\"sk-item sk-dashed-wrapped\"><div class=\"sk-label-container\"><div class=\"sk-label sk-toggleable\"><input class=\"sk-toggleable__control sk-hidden--visually\" id=\"sk-estimator-id-1\" type=\"checkbox\" ><label for=\"sk-estimator-id-1\" class=\"sk-toggleable__label sk-toggleable__label-arrow\">GridSearchCV</label><div class=\"sk-toggleable__content\"><pre>GridSearchCV(estimator=XGBClassifier(base_score=None, booster=None,\n",
       "                                     callbacks=None, colsample_bylevel=None,\n",
       "                                     colsample_bynode=None,\n",
       "                                     colsample_bytree=None, device=None,\n",
       "                                     early_stopping_rounds=None,\n",
       "                                     enable_categorical=False, eval_metric=None,\n",
       "                                     feature_types=None, gamma=None,\n",
       "                                     grow_policy=None, importance_type=None,\n",
       "                                     interaction_constraints=None,\n",
       "                                     learning_rate=None, max_b...\n",
       "                                     max_leaves=None, min_child_weight=None,\n",
       "                                     missing=nan, monotone_constraints=None,\n",
       "                                     multi_strategy=None, n_estimators=None,\n",
       "                                     n_jobs=None, nthread=8,\n",
       "                                     num_parallel_tree=None, ...),\n",
       "             param_grid={&#x27;gamma&#x27;: [0, 0.01, 0.1, 1, 10],\n",
       "                         &#x27;learning_rate&#x27;: [0.05, 0.07, 0.1, 0.2, 0.3],\n",
       "                         &#x27;max_depth&#x27;: [1, 2, 3, 4, 5, 6, 7, 8, 9, 10],\n",
       "                         &#x27;min_child_weight&#x27;: [0, 1, 2],\n",
       "                         &#x27;n_estimators&#x27;: [10, 50, 100, 200, 300, 400, 500,\n",
       "                                          600]},\n",
       "             scoring=&#x27;roc_auc&#x27;)</pre></div></div></div><div class=\"sk-parallel\"><div class=\"sk-parallel-item\"><div class=\"sk-item\"><div class=\"sk-label-container\"><div class=\"sk-label sk-toggleable\"><input class=\"sk-toggleable__control sk-hidden--visually\" id=\"sk-estimator-id-2\" type=\"checkbox\" ><label for=\"sk-estimator-id-2\" class=\"sk-toggleable__label sk-toggleable__label-arrow\">estimator: XGBClassifier</label><div class=\"sk-toggleable__content\"><pre>XGBClassifier(base_score=None, booster=None, callbacks=None,\n",
       "              colsample_bylevel=None, colsample_bynode=None,\n",
       "              colsample_bytree=None, device=None, early_stopping_rounds=None,\n",
       "              enable_categorical=False, eval_metric=None, feature_types=None,\n",
       "              gamma=None, grow_policy=None, importance_type=None,\n",
       "              interaction_constraints=None, learning_rate=None, max_bin=None,\n",
       "              max_cat_threshold=None, max_cat_to_onehot=None,\n",
       "              max_delta_step=None, max_depth=None, max_leaves=None,\n",
       "              min_child_weight=None, missing=nan, monotone_constraints=None,\n",
       "              multi_strategy=None, n_estimators=None, n_jobs=None, nthread=8,\n",
       "              num_parallel_tree=None, ...)</pre></div></div></div><div class=\"sk-serial\"><div class=\"sk-item\"><div class=\"sk-estimator sk-toggleable\"><input class=\"sk-toggleable__control sk-hidden--visually\" id=\"sk-estimator-id-3\" type=\"checkbox\" ><label for=\"sk-estimator-id-3\" class=\"sk-toggleable__label sk-toggleable__label-arrow\">XGBClassifier</label><div class=\"sk-toggleable__content\"><pre>XGBClassifier(base_score=None, booster=None, callbacks=None,\n",
       "              colsample_bylevel=None, colsample_bynode=None,\n",
       "              colsample_bytree=None, device=None, early_stopping_rounds=None,\n",
       "              enable_categorical=False, eval_metric=None, feature_types=None,\n",
       "              gamma=None, grow_policy=None, importance_type=None,\n",
       "              interaction_constraints=None, learning_rate=None, max_bin=None,\n",
       "              max_cat_threshold=None, max_cat_to_onehot=None,\n",
       "              max_delta_step=None, max_depth=None, max_leaves=None,\n",
       "              min_child_weight=None, missing=nan, monotone_constraints=None,\n",
       "              multi_strategy=None, n_estimators=None, n_jobs=None, nthread=8,\n",
       "              num_parallel_tree=None, ...)</pre></div></div></div></div></div></div></div></div></div></div>"
      ],
      "text/plain": [
       "GridSearchCV(estimator=XGBClassifier(base_score=None, booster=None,\n",
       "                                     callbacks=None, colsample_bylevel=None,\n",
       "                                     colsample_bynode=None,\n",
       "                                     colsample_bytree=None, device=None,\n",
       "                                     early_stopping_rounds=None,\n",
       "                                     enable_categorical=False, eval_metric=None,\n",
       "                                     feature_types=None, gamma=None,\n",
       "                                     grow_policy=None, importance_type=None,\n",
       "                                     interaction_constraints=None,\n",
       "                                     learning_rate=None, max_b...\n",
       "                                     max_leaves=None, min_child_weight=None,\n",
       "                                     missing=nan, monotone_constraints=None,\n",
       "                                     multi_strategy=None, n_estimators=None,\n",
       "                                     n_jobs=None, nthread=8,\n",
       "                                     num_parallel_tree=None, ...),\n",
       "             param_grid={'gamma': [0, 0.01, 0.1, 1, 10],\n",
       "                         'learning_rate': [0.05, 0.07, 0.1, 0.2, 0.3],\n",
       "                         'max_depth': [1, 2, 3, 4, 5, 6, 7, 8, 9, 10],\n",
       "                         'min_child_weight': [0, 1, 2],\n",
       "                         'n_estimators': [10, 50, 100, 200, 300, 400, 500,\n",
       "                                          600]},\n",
       "             scoring='roc_auc')"
      ]
     },
     "execution_count": 7,
     "metadata": {},
     "output_type": "execute_result"
    }
   ],
   "source": [
    "hyperparameter_grid = {\n",
    "    'n_estimators': [10, 50, 100, 200, 300, 400, 500, 600],\n",
    "    'max_depth': [1, 2, 3, 4, 5, 6, 7, 8, 9, 10],\n",
    "    'learning_rate': [0.05, 0.07, 0.1, 0.2, 0.3],\n",
    "    'gamma': [0, 0.01, 0.1, 1, 10],\n",
    "    'min_child_weight': [0, 1, 2]\n",
    "    }\n",
    "\n",
    "clx = XGBClassifier(random_state = 0, nthread = 8)\n",
    "grid = GridSearchCV(clx, hyperparameter_grid, scoring=\"roc_auc\")\n",
    "grid.fit(X_train, y_train)"
   ]
  },
  {
   "cell_type": "code",
   "execution_count": 8,
   "id": "4391f1ec",
   "metadata": {},
   "outputs": [
    {
     "name": "stdout",
     "output_type": "stream",
     "text": [
      "Best score: 0.946682427107959 with param: {'gamma': 0.01, 'learning_rate': 0.2, 'max_depth': 5, 'min_child_weight': 1, 'n_estimators': 50}\n"
     ]
    }
   ],
   "source": [
    "print(f'Best score: {grid.best_score_} with param: {grid.best_params_}')"
   ]
  },
  {
   "cell_type": "code",
   "execution_count": 36,
   "id": "b8abd468",
   "metadata": {},
   "outputs": [
    {
     "data": {
      "text/plain": [
       "['rj_cc.pkl']"
      ]
     },
     "execution_count": 36,
     "metadata": {},
     "output_type": "execute_result"
    }
   ],
   "source": [
    "import joblib\n",
    "joblib.dump(grid, 'rj_cc.pkl')"
   ]
  },
  {
   "cell_type": "markdown",
   "id": "2112a043",
   "metadata": {},
   "source": [
    "### Tuning the threshold"
   ]
  },
  {
   "cell_type": "code",
   "execution_count": 11,
   "id": "c31f8d7c",
   "metadata": {},
   "outputs": [],
   "source": [
    "y_val_pred = grid.predict(X_val)\n",
    "y_val_proba = grid.predict_proba(X_val)[:,1]"
   ]
  },
  {
   "cell_type": "code",
   "execution_count": 12,
   "id": "47b9699b",
   "metadata": {},
   "outputs": [
    {
     "data": {
      "text/plain": [
       "[<matplotlib.lines.Line2D at 0x244f4993280>]"
      ]
     },
     "execution_count": 12,
     "metadata": {},
     "output_type": "execute_result"
    },
    {
     "data": {
      "image/png": "[encoded data removed]",
      "text/plain": [
       "<Figure size 640x480 with 1 Axes>"
      ]
     },
     "metadata": {},
     "output_type": "display_data"
    }
   ],
   "source": [
    "fpr, tpr, thresholds = roc_curve(y_val, y_val_proba, pos_label = 1)\n",
    "plt.plot(fpr, tpr, '-o', linewidth=2)\n",
    "plt.plot([0,1], [0,1], 'k--' )"
   ]
  },
  {
   "cell_type": "code",
   "execution_count": 13,
   "id": "425f98d2",
   "metadata": {},
   "outputs": [
    {
     "name": "stdout",
     "output_type": "stream",
     "text": [
      "[0.         0.         0.         0.01973684 0.01973684 0.02631579\n",
      " 0.02631579 0.05263158 0.05263158 0.05921053 0.05921053 0.09210526\n",
      " 0.09210526 0.50657895 0.51973684 0.67105263 0.67105263 0.82236842\n",
      " 0.85526316 0.90789474 0.92763158 0.96052632 0.98026316 1.        ]\n",
      "[0.  0.1 0.2 0.2 0.3 0.3 0.5 0.5 0.7 0.7 0.8 0.8 0.9 0.9 0.9 0.9 1.  1.\n",
      " 1.  1.  1.  1.  1.  1. ]\n",
      "[1.9483356e+00 9.4833571e-01 9.1629744e-01 7.6580805e-01 6.2791860e-01\n",
      " 6.1043084e-01 5.8806956e-01 2.6566395e-01 1.6481672e-01 1.4920707e-01\n",
      " 1.3355699e-01 5.3150039e-02 4.8404016e-02 9.9498068e-04 9.4409141e-04\n",
      " 6.5401528e-04 6.3860108e-04 3.8688115e-04 3.7981357e-04 2.9672560e-04\n",
      " 2.8652171e-04 2.5492013e-04 2.4842401e-04 2.3140297e-04]\n"
     ]
    }
   ],
   "source": [
    "print(fpr)\n",
    "print(tpr)\n",
    "print(thresholds)"
   ]
  },
  {
   "cell_type": "code",
   "execution_count": 15,
   "id": "59e64259",
   "metadata": {},
   "outputs": [],
   "source": [
    "thr_opt = thresholds[np.argmin(abs(tpr-1))]"
   ]
  },
  {
   "cell_type": "markdown",
   "id": "540e7a0d",
   "metadata": {},
   "source": [
    "### Setting threshold and evaluating on test"
   ]
  },
  {
   "cell_type": "code",
   "execution_count": 16,
   "id": "f2b40814",
   "metadata": {},
   "outputs": [
    {
     "name": "stdout",
     "output_type": "stream",
     "text": [
      "[[ 48 103]\n",
      " [  0  11]]\n",
      "Test Metrics\n",
      "False Positive Rate:  0.2463768115942029\n",
      "True Positive Rate:  1.0\n"
     ]
    }
   ],
   "source": [
    "y_test_pred = grid.predict(X_test)\n",
    "y_test_proba = grid.predict_proba(X_test)[:,1]\n",
    "y_test_final = y_test_proba.copy()\n",
    "y_test_final[y_test_proba >= thr_opt] = 1\n",
    "y_test_final[y_test_proba < thr_opt] = 0\n",
    "print(confusion_matrix(y_test, y_test_final))\n",
    "print('Test Metrics')\n",
    "print('False Positive Rate: ', 34/(34 + 104))\n",
    "print('True Positive Rate: ', 12/(12 + 0))"
   ]
  },
  {
   "cell_type": "code",
   "execution_count": 17,
   "id": "0c281816",
   "metadata": {},
   "outputs": [
    {
     "name": "stdout",
     "output_type": "stream",
     "text": [
      "[[229 476]\n",
      " [  0  49]]\n",
      "Train Metrics\n",
      "False Positive Rate:  0.09782608695652174\n",
      "True Positive Rate:  1.0\n"
     ]
    }
   ],
   "source": [
    "y_train_pred = grid.predict(X_train)\n",
    "y_train_proba = grid.predict_proba(X_train)[:,1]\n",
    "y_train_final = y_train_proba.copy()\n",
    "y_train_final[y_train_proba >= thr_opt] = 1\n",
    "y_train_final[y_train_proba < thr_opt] = 0\n",
    "print(confusion_matrix(y_train, y_train_final))\n",
    "print('Train Metrics')\n",
    "print('False Positive Rate: ', 18/(18 + 166))\n",
    "print('True Positive Rate: ', 16/(16))"
   ]
  },
  {
   "cell_type": "code",
   "execution_count": 18,
   "id": "905d54ce",
   "metadata": {},
   "outputs": [
    {
     "name": "stdout",
     "output_type": "stream",
     "text": [
      "[[ 50 102]\n",
      " [  0  10]]\n",
      "Validation Metrics\n",
      "False Positive Rate:  0.13043478260869565\n",
      "True Positive Rate:  1.0\n"
     ]
    }
   ],
   "source": [
    "y_val_pred = grid.predict(X_val)\n",
    "y_val_proba = grid.predict_proba(X_val)[:,1]\n",
    "y_val_final = y_val_proba.copy()\n",
    "y_val_final[y_val_proba >= thr_opt] = 1\n",
    "y_val_final[y_val_proba < thr_opt] = 0\n",
    "print(confusion_matrix(y_val, y_val_final))\n",
    "print('Validation Metrics')\n",
    "print('False Positive Rate: ', 18/(18 + 120))\n",
    "print('True Positive Rate: ', 12/(12 + 0))"
   ]
  },
  {
   "cell_type": "markdown",
   "id": "e9eaf20a",
   "metadata": {},
   "source": [
    "### Embedded Feature Importance "
   ]
  },
  {
   "cell_type": "code",
   "execution_count": 19,
   "id": "10fb43e8",
   "metadata": {},
   "outputs": [
    {
     "data": {
      "text/plain": [
       "Text(0.5, 0, 'Feature Importance')"
      ]
     },
     "execution_count": 19,
     "metadata": {},
     "output_type": "execute_result"
    },
    {
     "data": {
      "image/png": "[encoded data removed]",
      "text/plain": [
       "<Figure size 640x480 with 1 Axes>"
      ]
     },
     "metadata": {},
     "output_type": "display_data"
    }
   ],
   "source": [
    "sorted_params = grid.best_estimator_.feature_importances_.argsort()\n",
    "plt.barh(df.columns[sorted_params], grid.best_estimator_.feature_importances_[sorted_params])\n",
    "plt.xlabel('Feature Importance')"
   ]
  },
  {
   "cell_type": "markdown",
   "id": "22a2235e",
   "metadata": {},
   "source": [
    "### SHAP Values"
   ]
  },
  {
   "cell_type": "code",
   "execution_count": 20,
   "id": "ce2f103a",
   "metadata": {},
   "outputs": [
    {
     "data": {
      "image/png": "[encoded data removed]",
      "text/plain": [
       "<Figure size 800x430 with 2 Axes>"
      ]
     },
     "metadata": {},
     "output_type": "display_data"
    }
   ],
   "source": [
    "explainer = shap.Explainer(grid.best_estimator_)\n",
    "shap_values = explainer(X_train)\n",
    "\n",
    "shap.plots.beeswarm(shap_values)"
   ]
  },
  {
   "cell_type": "markdown",
   "id": "fb822270",
   "metadata": {},
   "source": [
    "## Visualizing predictions - where do we fail?"
   ]
  },
  {
   "cell_type": "code",
   "execution_count": 21,
   "id": "31538db1",
   "metadata": {},
   "outputs": [],
   "source": [
    "y_pred_proba = grid.predict_proba(X)[:,1]\n",
    "y_pred_final = y_pred_proba.copy()\n",
    "y_pred_final[y_pred_proba >= thr_opt] = 1\n",
    "y_pred_final[y_pred_proba < thr_opt] = 0"
   ]
  },
  {
   "cell_type": "code",
   "execution_count": 22,
   "id": "e9662a8c",
   "metadata": {},
   "outputs": [
    {
     "data": {
      "text/plain": [
       "array([[327, 681],\n",
       "       [  0,  70]], dtype=int64)"
      ]
     },
     "execution_count": 22,
     "metadata": {},
     "output_type": "execute_result"
    }
   ],
   "source": [
    "confusion_matrix(y, y_pred_final)"
   ]
  },
  {
   "cell_type": "code",
   "execution_count": 23,
   "id": "1c772a8a",
   "metadata": {},
   "outputs": [
    {
     "name": "stdout",
     "output_type": "stream",
     "text": [
      "True positive rate:  1.0\n",
      "False positive rate:  0.15217391304347827\n"
     ]
    }
   ],
   "source": [
    "print('True positive rate: ', 40/(40 + 0))\n",
    "print('False positive rate: ', 70/(70 + 390))"
   ]
  },
  {
   "cell_type": "markdown",
   "id": "7b531ab2",
   "metadata": {},
   "source": [
    "### False negatives, which is what worries us the most"
   ]
  },
  {
   "cell_type": "code",
   "execution_count": 24,
   "id": "1b74cdac",
   "metadata": {},
   "outputs": [],
   "source": [
    "fn = ((y == 1) & (y_pred_final == 0))\n",
    "sem_fn = X[fn]"
   ]
  },
  {
   "cell_type": "code",
   "execution_count": 25,
   "id": "f08404b1",
   "metadata": {},
   "outputs": [
    {
     "data": {
      "text/html": [
       "<div>\n",
       "<style scoped>\n",
       "    .dataframe tbody tr th:only-of-type {\n",
       "        vertical-align: middle;\n",
       "    }\n",
       "\n",
       "    .dataframe tbody tr th {\n",
       "        vertical-align: top;\n",
       "    }\n",
       "\n",
       "    .dataframe thead th {\n",
       "        text-align: right;\n",
       "    }\n",
       "</style>\n",
       "<table border=\"1\" class=\"dataframe\">\n",
       "  <thead>\n",
       "    <tr style=\"text-align: right;\">\n",
       "      <th></th>\n",
       "      <th>EPI_WEEK</th>\n",
       "      <th>rh_max_lag</th>\n",
       "      <th>rh_min_lag</th>\n",
       "      <th>t_min_lag</th>\n",
       "      <th>t_max_lag</th>\n",
       "      <th>LAMBDA_lag</th>\n",
       "      <th>p_total_lag</th>\n",
       "    </tr>\n",
       "  </thead>\n",
       "  <tbody>\n",
       "  </tbody>\n",
       "</table>\n",
       "</div>"
      ],
      "text/plain": [
       "Empty DataFrame\n",
       "Columns: [EPI_WEEK, rh_max_lag, rh_min_lag, t_min_lag, t_max_lag, LAMBDA_lag, p_total_lag]\n",
       "Index: []"
      ]
     },
     "execution_count": 25,
     "metadata": {},
     "output_type": "execute_result"
    }
   ],
   "source": [
    "sem_fn"
   ]
  },
  {
   "cell_type": "markdown",
   "id": "cd317ffe",
   "metadata": {},
   "source": [
    "### False positives"
   ]
  },
  {
   "cell_type": "code",
   "execution_count": 26,
   "id": "2b3ddf73",
   "metadata": {},
   "outputs": [],
   "source": [
    "fp = ((y == 0) & (y_pred_final == 1))\n",
    "sem_fp = X[fp]"
   ]
  },
  {
   "cell_type": "code",
   "execution_count": 27,
   "id": "f90023bb",
   "metadata": {},
   "outputs": [
    {
     "data": {
      "text/plain": [
       "22    19\n",
       "23    19\n",
       "21    18\n",
       "2     18\n",
       "1     18\n",
       "5     18\n",
       "4     17\n",
       "20    17\n",
       "19    17\n",
       "18    17\n",
       "6     17\n",
       "52    16\n",
       "3     16\n",
       "7     16\n",
       "8     16\n",
       "9     16\n",
       "16    16\n",
       "17    16\n",
       "10    16\n",
       "13    15\n",
       "15    15\n",
       "14    15\n",
       "42    14\n",
       "48    14\n",
       "49    14\n",
       "12    13\n",
       "26    13\n",
       "51    12\n",
       "50    12\n",
       "25    12\n",
       "29    12\n",
       "44    12\n",
       "11    12\n",
       "38    11\n",
       "28    11\n",
       "36    11\n",
       "33    10\n",
       "47    10\n",
       "24    10\n",
       "34    10\n",
       "45    10\n",
       "40    10\n",
       "39    10\n",
       "30    10\n",
       "31     9\n",
       "41     8\n",
       "35     8\n",
       "37     7\n",
       "27     7\n",
       "32     7\n",
       "43     7\n",
       "46     4\n",
       "53     3\n",
       "Name: EPI_WEEK, dtype: int64"
      ]
     },
     "execution_count": 27,
     "metadata": {},
     "output_type": "execute_result"
    }
   ],
   "source": [
    "sem_fp['EPI_WEEK'].value_counts()"
   ]
  },
  {
   "cell_type": "markdown",
   "id": "d3a817fd",
   "metadata": {},
   "source": [
    "### Classifying and labeling each situation"
   ]
  },
  {
   "cell_type": "code",
   "execution_count": 28,
   "id": "2e3d137c",
   "metadata": {},
   "outputs": [],
   "source": [
    "fn = ((y == 1) & (y_pred_final == 0))\n",
    "fp = ((y == 0) & (y_pred_final == 1))\n",
    "tn = ((y == 0) & (y_pred_final == 0))\n",
    "tp = ((y == 1) & (y_pred_final == 1))"
   ]
  },
  {
   "cell_type": "code",
   "execution_count": 29,
   "id": "d947b083",
   "metadata": {},
   "outputs": [],
   "source": [
    "Z = X.copy()\n",
    "Z['label'] = 0"
   ]
  },
  {
   "cell_type": "code",
   "execution_count": 30,
   "id": "248aac42",
   "metadata": {},
   "outputs": [],
   "source": [
    "Z.loc[fn,'label'] = 'FN'\n",
    "Z.loc[fp,'label'] = 'FP'\n",
    "Z.loc[tn,'label'] = 'TN'\n",
    "Z.loc[tp, 'label'] = 'TP'"
   ]
  },
  {
   "cell_type": "code",
   "execution_count": 31,
   "id": "a3ac47ed",
   "metadata": {},
   "outputs": [],
   "source": [
    "Z['tplot'] = np.array(df_tplot)\n",
    "Z['CASES_100K'] = np.array(df_cases)"
   ]
  },
  {
   "cell_type": "code",
   "execution_count": 32,
   "id": "4d8e5841",
   "metadata": {},
   "outputs": [
    {
     "name": "stderr",
     "output_type": "stream",
     "text": [
      "No data for colormapping provided via 'c'. Parameters 'cmap' will be ignored\n"
     ]
    },
    {
     "data": {
      "image/png": "[encoded data removed]",
      "text/plain": [
       "<Figure size 640x480 with 1 Axes>"
      ]
     },
     "metadata": {},
     "output_type": "display_data"
    }
   ],
   "source": [
    "fig, ax = plt.subplots()\n",
    "\n",
    "colors = {'TP':'green', 'TN':'gray', 'FP':'orange', 'FN':'red'}\n",
    "\n",
    "grouped = Z.groupby('label')\n",
    "for key, group in grouped:\n",
    "    group.plot(ax=ax, kind='scatter', x='tplot', y='CASES_100K', label=key, color=colors[key])\n",
    "\n",
    "plt.show()"
   ]
  },
  {
   "cell_type": "code",
   "execution_count": 33,
   "id": "f8643742",
   "metadata": {},
   "outputs": [],
   "source": [
    "Z['proba'] = y_pred_proba"
   ]
  },
  {
   "cell_type": "code",
   "execution_count": 34,
   "id": "68aec6d6",
   "metadata": {},
   "outputs": [
    {
     "data": {
      "text/plain": [
       "Text(0, 0.5, 'Count')"
      ]
     },
     "execution_count": 34,
     "metadata": {},
     "output_type": "execute_result"
    },
    {
     "data": {
      "image/png": "[encoded data removed]",
      "text/plain": [
       "<Figure size 640x480 with 1 Axes>"
      ]
     },
     "metadata": {},
     "output_type": "display_data"
    }
   ],
   "source": [
    "A = Z.copy()\n",
    "A = A[A['label'] == 'FP']\n",
    "B = Z.copy()\n",
    "B = B[B['label'] == 'TP']\n",
    "C = Z.copy()\n",
    "C = C[C['label'] == 'TN']\n",
    "plt.hist(A['proba'], bins = 5, alpha = 0.5, density = True, label = 'False positives')\n",
    "plt.hist(B['proba'], bins = 5, alpha = 0.5, density = True, label = 'True positives')\n",
    "plt.legend()\n",
    "plt.xlabel('Probability')\n",
    "plt.ylabel('Count')"
   ]
  },
  {
   "cell_type": "code",
   "execution_count": 35,
   "id": "6ae64993",
   "metadata": {},
   "outputs": [
    {
     "data": {
      "text/plain": [
       "0.8999999999999999"
      ]
     },
     "execution_count": 35,
     "metadata": {},
     "output_type": "execute_result"
    }
   ],
   "source": [
    "roc_auc_score(y_val, y_val_proba)"
   ]
  },
  {
   "cell_type": "code",
   "execution_count": null,
   "id": "688ba1d7",
   "metadata": {},
   "outputs": [],
   "source": []
  }
 ],
 "metadata": {
  "kernelspec": {
   "display_name": "Python 3 (ipykernel)",
   "language": "python",
   "name": "python3"
  },
  "language_info": {
   "codemirror_mode": {
    "name": "ipython",
    "version": 3
   },
   "file_extension": ".py",
   "mimetype": "text/x-python",
   "name": "python",
   "nbconvert_exporter": "python",
   "pygments_lexer": "ipython3",
   "version": "3.8.16"
  }
 },
 "nbformat": 4,
 "nbformat_minor": 5
}

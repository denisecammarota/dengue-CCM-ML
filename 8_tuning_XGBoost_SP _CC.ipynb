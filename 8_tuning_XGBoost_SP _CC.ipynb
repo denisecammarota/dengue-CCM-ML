{
 "cells": [
  {
   "cell_type": "markdown",
   "id": "3a57f5c7",
   "metadata": {},
   "source": [
    "## Importing libraries"
   ]
  },
  {
   "cell_type": "code",
   "execution_count": 1,
   "id": "cee1fd51",
   "metadata": {},
   "outputs": [],
   "source": [
    "import matplotlib.pyplot as plt\n",
    "import numpy as np\n",
    "import pandas as pd\n",
    "import random\n",
    "import shap\n",
    "from sklearn import metrics\n",
    "from sklearn.preprocessing import StandardScaler\n",
    "from sklearn.model_selection import train_test_split\n",
    "from sklearn.model_selection import GridSearchCV\n",
    "from sklearn.tree import DecisionTreeClassifier\n",
    "from sklearn.ensemble import RandomForestClassifier\n",
    "from xgboost import XGBClassifier\n",
    "from sklearn import tree\n",
    "from sklearn.linear_model import LogisticRegression\n",
    "from sklearn.metrics import accuracy_score, confusion_matrix, roc_curve, roc_auc_score, auc, precision_score, recall_score, precision_recall_curve\n",
    "random.seed(123)"
   ]
  },
  {
   "cell_type": "markdown",
   "id": "d55ae567",
   "metadata": {},
   "source": [
    "## Loading data"
   ]
  },
  {
   "cell_type": "code",
   "execution_count": 2,
   "id": "95fbdbe1",
   "metadata": {},
   "outputs": [],
   "source": [
    "# Loading data\n",
    "df = pd.read_csv('SP/dataset_ML_SP_CC.csv')\n",
    "df_tplot = df['tplot']\n",
    "df_cases = df['CASES_100K']\n",
    "df = df.drop(columns = ['EPI_YEAR','tplot','CASES_100K'])\n",
    "df['label_2'] = 0 # for most of values, no epidemic yet\n",
    "df.loc[df['label'] == 'Epi','label_2'] = 1 # epidemic\n",
    "df.loc[df['label'] == 'High','label_2'] = 1 # epidemic as well\n",
    "df = df.drop(columns = ['label'])"
   ]
  },
  {
   "cell_type": "markdown",
   "id": "3df1c79d",
   "metadata": {},
   "source": [
    "## Train-test split"
   ]
  },
  {
   "cell_type": "code",
   "execution_count": 3,
   "id": "7af86017",
   "metadata": {},
   "outputs": [
    {
     "data": {
      "text/html": [
       "<div>\n",
       "<style scoped>\n",
       "    .dataframe tbody tr th:only-of-type {\n",
       "        vertical-align: middle;\n",
       "    }\n",
       "\n",
       "    .dataframe tbody tr th {\n",
       "        vertical-align: top;\n",
       "    }\n",
       "\n",
       "    .dataframe thead th {\n",
       "        text-align: right;\n",
       "    }\n",
       "</style>\n",
       "<table border=\"1\" class=\"dataframe\">\n",
       "  <thead>\n",
       "    <tr style=\"text-align: right;\">\n",
       "      <th></th>\n",
       "      <th>EPI_WEEK</th>\n",
       "      <th>rh_max_lag</th>\n",
       "      <th>rh_min_lag</th>\n",
       "      <th>t_min_lag</th>\n",
       "      <th>t_max_lag</th>\n",
       "      <th>p_total_lag</th>\n",
       "      <th>LAMBDA_lag</th>\n",
       "      <th>label_2</th>\n",
       "    </tr>\n",
       "  </thead>\n",
       "  <tbody>\n",
       "    <tr>\n",
       "      <th>0</th>\n",
       "      <td>14</td>\n",
       "      <td>99.571429</td>\n",
       "      <td>68.115714</td>\n",
       "      <td>20.170000</td>\n",
       "      <td>26.663333</td>\n",
       "      <td>11.91</td>\n",
       "      <td>0.719531</td>\n",
       "      <td>0</td>\n",
       "    </tr>\n",
       "    <tr>\n",
       "      <th>1</th>\n",
       "      <td>15</td>\n",
       "      <td>99.901429</td>\n",
       "      <td>65.357143</td>\n",
       "      <td>20.297143</td>\n",
       "      <td>26.820000</td>\n",
       "      <td>62.92</td>\n",
       "      <td>0.663854</td>\n",
       "      <td>0</td>\n",
       "    </tr>\n",
       "    <tr>\n",
       "      <th>2</th>\n",
       "      <td>16</td>\n",
       "      <td>98.017143</td>\n",
       "      <td>57.722857</td>\n",
       "      <td>19.322857</td>\n",
       "      <td>28.154286</td>\n",
       "      <td>70.14</td>\n",
       "      <td>0.223980</td>\n",
       "      <td>0</td>\n",
       "    </tr>\n",
       "    <tr>\n",
       "      <th>3</th>\n",
       "      <td>17</td>\n",
       "      <td>92.195714</td>\n",
       "      <td>57.160000</td>\n",
       "      <td>18.828571</td>\n",
       "      <td>25.878571</td>\n",
       "      <td>77.90</td>\n",
       "      <td>0.527671</td>\n",
       "      <td>0</td>\n",
       "    </tr>\n",
       "    <tr>\n",
       "      <th>4</th>\n",
       "      <td>18</td>\n",
       "      <td>97.598571</td>\n",
       "      <td>55.277143</td>\n",
       "      <td>17.785714</td>\n",
       "      <td>27.085714</td>\n",
       "      <td>55.29</td>\n",
       "      <td>0.854949</td>\n",
       "      <td>0</td>\n",
       "    </tr>\n",
       "    <tr>\n",
       "      <th>...</th>\n",
       "      <td>...</td>\n",
       "      <td>...</td>\n",
       "      <td>...</td>\n",
       "      <td>...</td>\n",
       "      <td>...</td>\n",
       "      <td>...</td>\n",
       "      <td>...</td>\n",
       "      <td>...</td>\n",
       "    </tr>\n",
       "    <tr>\n",
       "      <th>1078</th>\n",
       "      <td>48</td>\n",
       "      <td>95.741429</td>\n",
       "      <td>38.008571</td>\n",
       "      <td>15.774286</td>\n",
       "      <td>26.738571</td>\n",
       "      <td>5.92</td>\n",
       "      <td>0.150685</td>\n",
       "      <td>0</td>\n",
       "    </tr>\n",
       "    <tr>\n",
       "      <th>1079</th>\n",
       "      <td>49</td>\n",
       "      <td>97.661429</td>\n",
       "      <td>38.294286</td>\n",
       "      <td>15.164286</td>\n",
       "      <td>29.857143</td>\n",
       "      <td>5.43</td>\n",
       "      <td>0.190476</td>\n",
       "      <td>0</td>\n",
       "    </tr>\n",
       "    <tr>\n",
       "      <th>1080</th>\n",
       "      <td>50</td>\n",
       "      <td>95.127143</td>\n",
       "      <td>55.008571</td>\n",
       "      <td>15.894286</td>\n",
       "      <td>31.302857</td>\n",
       "      <td>5.41</td>\n",
       "      <td>0.338174</td>\n",
       "      <td>0</td>\n",
       "    </tr>\n",
       "    <tr>\n",
       "      <th>1081</th>\n",
       "      <td>51</td>\n",
       "      <td>97.265714</td>\n",
       "      <td>46.497143</td>\n",
       "      <td>12.515714</td>\n",
       "      <td>30.122857</td>\n",
       "      <td>22.77</td>\n",
       "      <td>0.192308</td>\n",
       "      <td>0</td>\n",
       "    </tr>\n",
       "    <tr>\n",
       "      <th>1082</th>\n",
       "      <td>52</td>\n",
       "      <td>96.865714</td>\n",
       "      <td>51.981429</td>\n",
       "      <td>15.497143</td>\n",
       "      <td>31.821429</td>\n",
       "      <td>35.33</td>\n",
       "      <td>0.034653</td>\n",
       "      <td>0</td>\n",
       "    </tr>\n",
       "  </tbody>\n",
       "</table>\n",
       "<p>1083 rows × 8 columns</p>\n",
       "</div>"
      ],
      "text/plain": [
       "      EPI_WEEK  rh_max_lag  rh_min_lag  t_min_lag  t_max_lag  p_total_lag  \\\n",
       "0           14   99.571429   68.115714  20.170000  26.663333        11.91   \n",
       "1           15   99.901429   65.357143  20.297143  26.820000        62.92   \n",
       "2           16   98.017143   57.722857  19.322857  28.154286        70.14   \n",
       "3           17   92.195714   57.160000  18.828571  25.878571        77.90   \n",
       "4           18   97.598571   55.277143  17.785714  27.085714        55.29   \n",
       "...        ...         ...         ...        ...        ...          ...   \n",
       "1078        48   95.741429   38.008571  15.774286  26.738571         5.92   \n",
       "1079        49   97.661429   38.294286  15.164286  29.857143         5.43   \n",
       "1080        50   95.127143   55.008571  15.894286  31.302857         5.41   \n",
       "1081        51   97.265714   46.497143  12.515714  30.122857        22.77   \n",
       "1082        52   96.865714   51.981429  15.497143  31.821429        35.33   \n",
       "\n",
       "      LAMBDA_lag  label_2  \n",
       "0       0.719531        0  \n",
       "1       0.663854        0  \n",
       "2       0.223980        0  \n",
       "3       0.527671        0  \n",
       "4       0.854949        0  \n",
       "...          ...      ...  \n",
       "1078    0.150685        0  \n",
       "1079    0.190476        0  \n",
       "1080    0.338174        0  \n",
       "1081    0.192308        0  \n",
       "1082    0.034653        0  \n",
       "\n",
       "[1083 rows x 8 columns]"
      ]
     },
     "execution_count": 3,
     "metadata": {},
     "output_type": "execute_result"
    }
   ],
   "source": [
    "df"
   ]
  },
  {
   "cell_type": "code",
   "execution_count": 4,
   "id": "7e860c45",
   "metadata": {},
   "outputs": [],
   "source": [
    "X = df.iloc[:,0:7]\n",
    "y = df.iloc[:,7]\n",
    "X_train, X_test, y_train, y_test = train_test_split(X, y, stratify=y, test_size = 0.3, random_state = 0)\n",
    "X_test, X_val, y_test, y_val = train_test_split(X_test, y_test, stratify = y_test, test_size = 0.5, random_state = 0)"
   ]
  },
  {
   "cell_type": "code",
   "execution_count": 5,
   "id": "fcc8fb71",
   "metadata": {},
   "outputs": [
    {
     "name": "stdout",
     "output_type": "stream",
     "text": [
      "Train:  (758,)\n",
      "Test:  (162,)\n",
      "Validation:  (163,)\n"
     ]
    }
   ],
   "source": [
    "print('Train: ', y_train.shape)\n",
    "print('Test: ', y_test.shape)\n",
    "print('Validation: ', y_val.shape)"
   ]
  },
  {
   "cell_type": "markdown",
   "id": "c2a2dc70",
   "metadata": {},
   "source": [
    "## Doing hyperparameter tuning for XGBoost Classifier"
   ]
  },
  {
   "cell_type": "code",
   "execution_count": 6,
   "id": "f4977008",
   "metadata": {},
   "outputs": [
    {
     "data": {
      "text/html": [
       "<style>#sk-container-id-1 {color: black;background-color: white;}#sk-container-id-1 pre{padding: 0;}#sk-container-id-1 div.sk-toggleable {background-color: white;}#sk-container-id-1 label.sk-toggleable__label {cursor: pointer;display: block;width: 100%;margin-bottom: 0;padding: 0.3em;box-sizing: border-box;text-align: center;}#sk-container-id-1 label.sk-toggleable__label-arrow:before {content: \"▸\";float: left;margin-right: 0.25em;color: #696969;}#sk-container-id-1 label.sk-toggleable__label-arrow:hover:before {color: black;}#sk-container-id-1 div.sk-estimator:hover label.sk-toggleable__label-arrow:before {color: black;}#sk-container-id-1 div.sk-toggleable__content {max-height: 0;max-width: 0;overflow: hidden;text-align: left;background-color: #f0f8ff;}#sk-container-id-1 div.sk-toggleable__content pre {margin: 0.2em;color: black;border-radius: 0.25em;background-color: #f0f8ff;}#sk-container-id-1 input.sk-toggleable__control:checked~div.sk-toggleable__content {max-height: 200px;max-width: 100%;overflow: auto;}#sk-container-id-1 input.sk-toggleable__control:checked~label.sk-toggleable__label-arrow:before {content: \"▾\";}#sk-container-id-1 div.sk-estimator input.sk-toggleable__control:checked~label.sk-toggleable__label {background-color: #d4ebff;}#sk-container-id-1 div.sk-label input.sk-toggleable__control:checked~label.sk-toggleable__label {background-color: #d4ebff;}#sk-container-id-1 input.sk-hidden--visually {border: 0;clip: rect(1px 1px 1px 1px);clip: rect(1px, 1px, 1px, 1px);height: 1px;margin: -1px;overflow: hidden;padding: 0;position: absolute;width: 1px;}#sk-container-id-1 div.sk-estimator {font-family: monospace;background-color: #f0f8ff;border: 1px dotted black;border-radius: 0.25em;box-sizing: border-box;margin-bottom: 0.5em;}#sk-container-id-1 div.sk-estimator:hover {background-color: #d4ebff;}#sk-container-id-1 div.sk-parallel-item::after {content: \"\";width: 100%;border-bottom: 1px solid gray;flex-grow: 1;}#sk-container-id-1 div.sk-label:hover label.sk-toggleable__label {background-color: #d4ebff;}#sk-container-id-1 div.sk-serial::before {content: \"\";position: absolute;border-left: 1px solid gray;box-sizing: border-box;top: 0;bottom: 0;left: 50%;z-index: 0;}#sk-container-id-1 div.sk-serial {display: flex;flex-direction: column;align-items: center;background-color: white;padding-right: 0.2em;padding-left: 0.2em;position: relative;}#sk-container-id-1 div.sk-item {position: relative;z-index: 1;}#sk-container-id-1 div.sk-parallel {display: flex;align-items: stretch;justify-content: center;background-color: white;position: relative;}#sk-container-id-1 div.sk-item::before, #sk-container-id-1 div.sk-parallel-item::before {content: \"\";position: absolute;border-left: 1px solid gray;box-sizing: border-box;top: 0;bottom: 0;left: 50%;z-index: -1;}#sk-container-id-1 div.sk-parallel-item {display: flex;flex-direction: column;z-index: 1;position: relative;background-color: white;}#sk-container-id-1 div.sk-parallel-item:first-child::after {align-self: flex-end;width: 50%;}#sk-container-id-1 div.sk-parallel-item:last-child::after {align-self: flex-start;width: 50%;}#sk-container-id-1 div.sk-parallel-item:only-child::after {width: 0;}#sk-container-id-1 div.sk-dashed-wrapped {border: 1px dashed gray;margin: 0 0.4em 0.5em 0.4em;box-sizing: border-box;padding-bottom: 0.4em;background-color: white;}#sk-container-id-1 div.sk-label label {font-family: monospace;font-weight: bold;display: inline-block;line-height: 1.2em;}#sk-container-id-1 div.sk-label-container {text-align: center;}#sk-container-id-1 div.sk-container {/* jupyter's `normalize.less` sets `[hidden] { display: none; }` but bootstrap.min.css set `[hidden] { display: none !important; }` so we also need the `!important` here to be able to override the default hidden behavior on the sphinx rendered scikit-learn.org. See: https://github.com/scikit-learn/scikit-learn/issues/21755 */display: inline-block !important;position: relative;}#sk-container-id-1 div.sk-text-repr-fallback {display: none;}</style><div id=\"sk-container-id-1\" class=\"sk-top-container\"><div class=\"sk-text-repr-fallback\"><pre>GridSearchCV(estimator=XGBClassifier(base_score=None, booster=None,\n",
       "                                     callbacks=None, colsample_bylevel=None,\n",
       "                                     colsample_bynode=None,\n",
       "                                     colsample_bytree=None, device=None,\n",
       "                                     early_stopping_rounds=None,\n",
       "                                     enable_categorical=False, eval_metric=None,\n",
       "                                     feature_types=None, gamma=None,\n",
       "                                     grow_policy=None, importance_type=None,\n",
       "                                     interaction_constraints=None,\n",
       "                                     learning_rate=None, max_b...\n",
       "                                     max_leaves=None, min_child_weight=None,\n",
       "                                     missing=nan, monotone_constraints=None,\n",
       "                                     multi_strategy=None, n_estimators=None,\n",
       "                                     n_jobs=None, nthread=8,\n",
       "                                     num_parallel_tree=None, ...),\n",
       "             param_grid={&#x27;gamma&#x27;: [0, 0.01, 0.1, 1, 10],\n",
       "                         &#x27;learning_rate&#x27;: [0.05, 0.07, 0.1, 0.2, 0.3],\n",
       "                         &#x27;max_depth&#x27;: [1, 2, 3, 4, 5, 6, 7, 8, 9, 10],\n",
       "                         &#x27;min_child_weight&#x27;: [0, 1, 2],\n",
       "                         &#x27;n_estimators&#x27;: [50, 100, 200, 300, 400, 500, 600]},\n",
       "             scoring=&#x27;roc_auc&#x27;)</pre><b>In a Jupyter environment, please rerun this cell to show the HTML representation or trust the notebook. <br />On GitHub, the HTML representation is unable to render, please try loading this page with nbviewer.org.</b></div><div class=\"sk-container\" hidden><div class=\"sk-item sk-dashed-wrapped\"><div class=\"sk-label-container\"><div class=\"sk-label sk-toggleable\"><input class=\"sk-toggleable__control sk-hidden--visually\" id=\"sk-estimator-id-1\" type=\"checkbox\" ><label for=\"sk-estimator-id-1\" class=\"sk-toggleable__label sk-toggleable__label-arrow\">GridSearchCV</label><div class=\"sk-toggleable__content\"><pre>GridSearchCV(estimator=XGBClassifier(base_score=None, booster=None,\n",
       "                                     callbacks=None, colsample_bylevel=None,\n",
       "                                     colsample_bynode=None,\n",
       "                                     colsample_bytree=None, device=None,\n",
       "                                     early_stopping_rounds=None,\n",
       "                                     enable_categorical=False, eval_metric=None,\n",
       "                                     feature_types=None, gamma=None,\n",
       "                                     grow_policy=None, importance_type=None,\n",
       "                                     interaction_constraints=None,\n",
       "                                     learning_rate=None, max_b...\n",
       "                                     max_leaves=None, min_child_weight=None,\n",
       "                                     missing=nan, monotone_constraints=None,\n",
       "                                     multi_strategy=None, n_estimators=None,\n",
       "                                     n_jobs=None, nthread=8,\n",
       "                                     num_parallel_tree=None, ...),\n",
       "             param_grid={&#x27;gamma&#x27;: [0, 0.01, 0.1, 1, 10],\n",
       "                         &#x27;learning_rate&#x27;: [0.05, 0.07, 0.1, 0.2, 0.3],\n",
       "                         &#x27;max_depth&#x27;: [1, 2, 3, 4, 5, 6, 7, 8, 9, 10],\n",
       "                         &#x27;min_child_weight&#x27;: [0, 1, 2],\n",
       "                         &#x27;n_estimators&#x27;: [50, 100, 200, 300, 400, 500, 600]},\n",
       "             scoring=&#x27;roc_auc&#x27;)</pre></div></div></div><div class=\"sk-parallel\"><div class=\"sk-parallel-item\"><div class=\"sk-item\"><div class=\"sk-label-container\"><div class=\"sk-label sk-toggleable\"><input class=\"sk-toggleable__control sk-hidden--visually\" id=\"sk-estimator-id-2\" type=\"checkbox\" ><label for=\"sk-estimator-id-2\" class=\"sk-toggleable__label sk-toggleable__label-arrow\">estimator: XGBClassifier</label><div class=\"sk-toggleable__content\"><pre>XGBClassifier(base_score=None, booster=None, callbacks=None,\n",
       "              colsample_bylevel=None, colsample_bynode=None,\n",
       "              colsample_bytree=None, device=None, early_stopping_rounds=None,\n",
       "              enable_categorical=False, eval_metric=None, feature_types=None,\n",
       "              gamma=None, grow_policy=None, importance_type=None,\n",
       "              interaction_constraints=None, learning_rate=None, max_bin=None,\n",
       "              max_cat_threshold=None, max_cat_to_onehot=None,\n",
       "              max_delta_step=None, max_depth=None, max_leaves=None,\n",
       "              min_child_weight=None, missing=nan, monotone_constraints=None,\n",
       "              multi_strategy=None, n_estimators=None, n_jobs=None, nthread=8,\n",
       "              num_parallel_tree=None, ...)</pre></div></div></div><div class=\"sk-serial\"><div class=\"sk-item\"><div class=\"sk-estimator sk-toggleable\"><input class=\"sk-toggleable__control sk-hidden--visually\" id=\"sk-estimator-id-3\" type=\"checkbox\" ><label for=\"sk-estimator-id-3\" class=\"sk-toggleable__label sk-toggleable__label-arrow\">XGBClassifier</label><div class=\"sk-toggleable__content\"><pre>XGBClassifier(base_score=None, booster=None, callbacks=None,\n",
       "              colsample_bylevel=None, colsample_bynode=None,\n",
       "              colsample_bytree=None, device=None, early_stopping_rounds=None,\n",
       "              enable_categorical=False, eval_metric=None, feature_types=None,\n",
       "              gamma=None, grow_policy=None, importance_type=None,\n",
       "              interaction_constraints=None, learning_rate=None, max_bin=None,\n",
       "              max_cat_threshold=None, max_cat_to_onehot=None,\n",
       "              max_delta_step=None, max_depth=None, max_leaves=None,\n",
       "              min_child_weight=None, missing=nan, monotone_constraints=None,\n",
       "              multi_strategy=None, n_estimators=None, n_jobs=None, nthread=8,\n",
       "              num_parallel_tree=None, ...)</pre></div></div></div></div></div></div></div></div></div></div>"
      ],
      "text/plain": [
       "GridSearchCV(estimator=XGBClassifier(base_score=None, booster=None,\n",
       "                                     callbacks=None, colsample_bylevel=None,\n",
       "                                     colsample_bynode=None,\n",
       "                                     colsample_bytree=None, device=None,\n",
       "                                     early_stopping_rounds=None,\n",
       "                                     enable_categorical=False, eval_metric=None,\n",
       "                                     feature_types=None, gamma=None,\n",
       "                                     grow_policy=None, importance_type=None,\n",
       "                                     interaction_constraints=None,\n",
       "                                     learning_rate=None, max_b...\n",
       "                                     max_leaves=None, min_child_weight=None,\n",
       "                                     missing=nan, monotone_constraints=None,\n",
       "                                     multi_strategy=None, n_estimators=None,\n",
       "                                     n_jobs=None, nthread=8,\n",
       "                                     num_parallel_tree=None, ...),\n",
       "             param_grid={'gamma': [0, 0.01, 0.1, 1, 10],\n",
       "                         'learning_rate': [0.05, 0.07, 0.1, 0.2, 0.3],\n",
       "                         'max_depth': [1, 2, 3, 4, 5, 6, 7, 8, 9, 10],\n",
       "                         'min_child_weight': [0, 1, 2],\n",
       "                         'n_estimators': [50, 100, 200, 300, 400, 500, 600]},\n",
       "             scoring='roc_auc')"
      ]
     },
     "execution_count": 6,
     "metadata": {},
     "output_type": "execute_result"
    }
   ],
   "source": [
    "hyperparameter_grid = {\n",
    "    'n_estimators': [50, 100, 200, 300, 400, 500, 600],\n",
    "    'max_depth': [1, 2, 3, 4, 5, 6, 7, 8, 9, 10],\n",
    "    'learning_rate': [0.05, 0.07, 0.1, 0.2, 0.3],\n",
    "    'gamma': [0, 0.01, 0.1, 1, 10],\n",
    "    'min_child_weight': [0, 1, 2]\n",
    "    }\n",
    "\n",
    "clx = XGBClassifier(random_state = 0, nthread = 8)\n",
    "grid = GridSearchCV(clx, hyperparameter_grid, scoring=\"roc_auc\")\n",
    "grid.fit(X_train, y_train)"
   ]
  },
  {
   "cell_type": "code",
   "execution_count": 8,
   "id": "4391f1ec",
   "metadata": {},
   "outputs": [
    {
     "name": "stdout",
     "output_type": "stream",
     "text": [
      "Best score: 0.939767528173291 with param: {'gamma': 0, 'learning_rate': 0.05, 'max_depth': 1, 'min_child_weight': 0, 'n_estimators': 300}\n"
     ]
    }
   ],
   "source": [
    "print(f'Best score: {grid.best_score_} with param: {grid.best_params_}')"
   ]
  },
  {
   "cell_type": "markdown",
   "id": "2112a043",
   "metadata": {},
   "source": [
    "### Tuning the threshold"
   ]
  },
  {
   "cell_type": "code",
   "execution_count": 9,
   "id": "c31f8d7c",
   "metadata": {},
   "outputs": [],
   "source": [
    "y_val_pred = grid.predict(X_val)\n",
    "y_val_proba = grid.predict_proba(X_val)[:,1]"
   ]
  },
  {
   "cell_type": "code",
   "execution_count": 12,
   "id": "73a56b27",
   "metadata": {},
   "outputs": [
    {
     "data": {
      "text/plain": [
       "0.9752747252747253"
      ]
     },
     "execution_count": 12,
     "metadata": {},
     "output_type": "execute_result"
    }
   ],
   "source": [
    "roc_auc_score(y_val, y_val_proba)"
   ]
  },
  {
   "cell_type": "code",
   "execution_count": 13,
   "id": "47b9699b",
   "metadata": {},
   "outputs": [
    {
     "data": {
      "text/plain": [
       "[<matplotlib.lines.Line2D at 0x24e0a8f9730>]"
      ]
     },
     "execution_count": 13,
     "metadata": {},
     "output_type": "execute_result"
    },
    {
     "data": {
      "image/png": "[encoded data removed]",
      "text/plain": [
       "<Figure size 640x480 with 1 Axes>"
      ]
     },
     "metadata": {},
     "output_type": "display_data"
    }
   ],
   "source": [
    "fpr, tpr, thresholds = roc_curve(y_val, y_val_proba, pos_label = 1)\n",
    "plt.plot(fpr, tpr, '-o', linewidth=2)\n",
    "plt.plot([0,1], [0,1], 'k--' )"
   ]
  },
  {
   "cell_type": "code",
   "execution_count": 14,
   "id": "425f98d2",
   "metadata": {},
   "outputs": [
    {
     "name": "stdout",
     "output_type": "stream",
     "text": [
      "[0.         0.         0.         0.00641026 0.00641026 0.01282051\n",
      " 0.01282051 0.03846154 0.03846154 0.10897436 0.10897436 0.23717949\n",
      " 0.25       0.25641026 0.27564103 0.37179487 0.38461538 0.45512821\n",
      " 0.46794872 0.49358974 0.5        0.51923077 0.54487179 0.55128205\n",
      " 0.56410256 0.57692308 0.59615385 0.6025641  0.61538462 0.62179487\n",
      " 0.69871795 0.71153846 0.71794872 0.74358974 0.75       0.78846154\n",
      " 0.79487179 0.8525641  0.86538462 0.88461538 0.91025641 0.93589744\n",
      " 0.94871795 0.96794872 0.98717949 1.        ]\n",
      "[0.         0.14285714 0.28571429 0.28571429 0.57142857 0.57142857\n",
      " 0.71428571 0.71428571 0.85714286 0.85714286 1.         1.\n",
      " 1.         1.         1.         1.         1.         1.\n",
      " 1.         1.         1.         1.         1.         1.\n",
      " 1.         1.         1.         1.         1.         1.\n",
      " 1.         1.         1.         1.         1.         1.\n",
      " 1.         1.         1.         1.         1.         1.\n",
      " 1.         1.         1.         1.        ]\n",
      "[1.7128950e+00 7.1289504e-01 5.9966648e-01 5.4339761e-01 4.6153158e-01\n",
      " 3.7469953e-01 3.6803970e-01 2.2990178e-01 1.6811115e-01 3.2767132e-02\n",
      " 3.2249216e-02 1.3323693e-02 1.2329961e-02 1.2186835e-02 1.1848129e-02\n",
      " 6.3213189e-03 5.9596812e-03 2.7032618e-03 2.3807224e-03 2.1232541e-03\n",
      " 2.0820273e-03 2.0721317e-03 2.0536175e-03 2.0442673e-03 1.9950429e-03\n",
      " 1.7872108e-03 1.7615032e-03 1.7457595e-03 1.7312437e-03 1.6302624e-03\n",
      " 1.5792008e-03 1.5739204e-03 1.5662676e-03 1.5153383e-03 1.4146273e-03\n",
      " 1.3423670e-03 1.3378775e-03 1.1993644e-03 1.1647686e-03 1.0406659e-03\n",
      " 1.0194367e-03 8.8452501e-04 8.7249681e-04 6.4797018e-04 4.9365911e-04\n",
      " 4.1955628e-04]\n"
     ]
    }
   ],
   "source": [
    "print(fpr)\n",
    "print(tpr)\n",
    "print(thresholds)"
   ]
  },
  {
   "cell_type": "code",
   "execution_count": 15,
   "id": "59e64259",
   "metadata": {},
   "outputs": [],
   "source": [
    "thr_opt = thresholds[np.argmin(abs(tpr-1))]"
   ]
  },
  {
   "cell_type": "code",
   "execution_count": 16,
   "id": "72bdee25",
   "metadata": {},
   "outputs": [
    {
     "data": {
      "text/plain": [
       "0.032249216"
      ]
     },
     "execution_count": 16,
     "metadata": {},
     "output_type": "execute_result"
    }
   ],
   "source": [
    "thr_opt"
   ]
  },
  {
   "cell_type": "markdown",
   "id": "540e7a0d",
   "metadata": {},
   "source": [
    "### Setting threshold and evaluating on test"
   ]
  },
  {
   "cell_type": "code",
   "execution_count": 17,
   "id": "f2b40814",
   "metadata": {},
   "outputs": [
    {
     "name": "stdout",
     "output_type": "stream",
     "text": [
      "[[133  22]\n",
      " [  0   7]]\n",
      "Test Metrics\n",
      "False Positive Rate:  0.10071942446043165\n",
      "True Positive Rate:  0.8333333333333334\n"
     ]
    }
   ],
   "source": [
    "y_test_pred = grid.predict(X_test)\n",
    "y_test_proba = grid.predict_proba(X_test)[:,1]\n",
    "y_test_final = y_test_proba.copy()\n",
    "y_test_final[y_test_proba >= thr_opt] = 1\n",
    "y_test_final[y_test_proba < thr_opt] = 0\n",
    "print(confusion_matrix(y_test, y_test_final))\n",
    "print('Test Metrics')\n",
    "print('False Positive Rate: ', 14/(14 + 125))\n",
    "print('True Positive Rate: ', 10/(10 + 2))"
   ]
  },
  {
   "cell_type": "code",
   "execution_count": 18,
   "id": "0c281816",
   "metadata": {},
   "outputs": [
    {
     "name": "stdout",
     "output_type": "stream",
     "text": [
      "[[610 116]\n",
      " [  1  31]]\n",
      "Train Metrics\n",
      "False Positive Rate:  0.06486486486486487\n",
      "True Positive Rate:  0.8125\n"
     ]
    }
   ],
   "source": [
    "y_train_pred = grid.predict(X_train)\n",
    "y_train_proba = grid.predict_proba(X_train)[:,1]\n",
    "y_train_final = y_train_proba.copy()\n",
    "y_train_final[y_train_proba >= thr_opt] = 1\n",
    "y_train_final[y_train_proba < thr_opt] = 0\n",
    "print(confusion_matrix(y_train, y_train_final))\n",
    "print('Train Metrics')\n",
    "print('False Positive Rate: ', 12/(12 + 173))\n",
    "print('True Positive Rate: ', 13/(13 + 3))"
   ]
  },
  {
   "cell_type": "code",
   "execution_count": 19,
   "id": "905d54ce",
   "metadata": {},
   "outputs": [
    {
     "name": "stdout",
     "output_type": "stream",
     "text": [
      "[[139  17]\n",
      " [  0   7]]\n",
      "Validation Metrics\n",
      "False Positive Rate:  0.11510791366906475\n",
      "True Positive Rate:  1.0\n"
     ]
    }
   ],
   "source": [
    "y_val_pred = grid.predict(X_val)\n",
    "y_val_proba = grid.predict_proba(X_val)[:,1]\n",
    "y_val_final = y_val_proba.copy()\n",
    "y_val_final[y_val_proba >= thr_opt] = 1\n",
    "y_val_final[y_val_proba < thr_opt] = 0\n",
    "print(confusion_matrix(y_val, y_val_final))\n",
    "print('Validation Metrics')\n",
    "print('False Positive Rate: ', 16/(16 + 123))\n",
    "print('True Positive Rate: ', 12/(12 + 0))"
   ]
  },
  {
   "cell_type": "markdown",
   "id": "e9eaf20a",
   "metadata": {},
   "source": [
    "### Embedded Feature Importance "
   ]
  },
  {
   "cell_type": "code",
   "execution_count": 20,
   "id": "10fb43e8",
   "metadata": {},
   "outputs": [
    {
     "data": {
      "text/plain": [
       "Text(0.5, 0, 'Feature Importance')"
      ]
     },
     "execution_count": 20,
     "metadata": {},
     "output_type": "execute_result"
    },
    {
     "data": {
      "image/png": "[encoded data removed]",
      "text/plain": [
       "<Figure size 640x480 with 1 Axes>"
      ]
     },
     "metadata": {},
     "output_type": "display_data"
    }
   ],
   "source": [
    "sorted_params = grid.best_estimator_.feature_importances_.argsort()\n",
    "plt.barh(df.columns[sorted_params], grid.best_estimator_.feature_importances_[sorted_params])\n",
    "plt.xlabel('Feature Importance')"
   ]
  },
  {
   "cell_type": "markdown",
   "id": "22a2235e",
   "metadata": {},
   "source": [
    "### SHAP Values"
   ]
  },
  {
   "cell_type": "code",
   "execution_count": 21,
   "id": "ce2f103a",
   "metadata": {},
   "outputs": [
    {
     "data": {
      "image/png": "[encoded data removed]",
      "text/plain": [
       "<Figure size 800x430 with 2 Axes>"
      ]
     },
     "metadata": {},
     "output_type": "display_data"
    }
   ],
   "source": [
    "explainer = shap.Explainer(grid.best_estimator_)\n",
    "shap_values = explainer(X_train)\n",
    "\n",
    "shap.plots.beeswarm(shap_values)"
   ]
  },
  {
   "cell_type": "code",
   "execution_count": 22,
   "id": "38983aa4",
   "metadata": {},
   "outputs": [
    {
     "data": {
      "image/png": "[encoded data removed]",
      "text/plain": [
       "<Figure size 800x430 with 2 Axes>"
      ]
     },
     "metadata": {},
     "output_type": "display_data"
    }
   ],
   "source": [
    "explainer = shap.Explainer(grid.best_estimator_)\n",
    "shap_values = explainer(X_test)\n",
    "\n",
    "shap.plots.beeswarm(shap_values)"
   ]
  },
  {
   "cell_type": "markdown",
   "id": "fb822270",
   "metadata": {},
   "source": [
    "## Visualizing predictions - where do we fail?"
   ]
  },
  {
   "cell_type": "code",
   "execution_count": 23,
   "id": "31538db1",
   "metadata": {},
   "outputs": [],
   "source": [
    "y_pred_proba = grid.predict_proba(X)[:,1]\n",
    "y_pred_final = y_pred_proba.copy()\n",
    "y_pred_final[y_pred_proba >= thr_opt] = 1\n",
    "y_pred_final[y_pred_proba < thr_opt] = 0"
   ]
  },
  {
   "cell_type": "code",
   "execution_count": 37,
   "id": "2635468e",
   "metadata": {},
   "outputs": [
    {
     "data": {
      "text/plain": [
       "0.9789002557544757"
      ]
     },
     "execution_count": 37,
     "metadata": {},
     "output_type": "execute_result"
    }
   ],
   "source": [
    "roc_auc_score(y, y_pred_proba)"
   ]
  },
  {
   "cell_type": "code",
   "execution_count": 24,
   "id": "e9662a8c",
   "metadata": {},
   "outputs": [
    {
     "data": {
      "text/plain": [
       "array([[882, 155],\n",
       "       [  1,  45]], dtype=int64)"
      ]
     },
     "execution_count": 24,
     "metadata": {},
     "output_type": "execute_result"
    }
   ],
   "source": [
    "confusion_matrix(y, y_pred_final)"
   ]
  },
  {
   "cell_type": "code",
   "execution_count": 25,
   "id": "1c772a8a",
   "metadata": {},
   "outputs": [
    {
     "name": "stdout",
     "output_type": "stream",
     "text": [
      "True positive rate:  0.875\n",
      "False positive rate:  0.09071274298056156\n"
     ]
    }
   ],
   "source": [
    "print('True positive rate: ', 35/(35 + 5))\n",
    "print('False positive rate: ', 42/(42 + 421))"
   ]
  },
  {
   "cell_type": "markdown",
   "id": "7b531ab2",
   "metadata": {},
   "source": [
    "### False negatives, which is what worries us the most"
   ]
  },
  {
   "cell_type": "code",
   "execution_count": 26,
   "id": "1b74cdac",
   "metadata": {},
   "outputs": [],
   "source": [
    "fn = ((y == 1) & (y_pred_final == 0))\n",
    "sem_fn = X[fn]"
   ]
  },
  {
   "cell_type": "code",
   "execution_count": 27,
   "id": "f08404b1",
   "metadata": {},
   "outputs": [
    {
     "data": {
      "text/html": [
       "<div>\n",
       "<style scoped>\n",
       "    .dataframe tbody tr th:only-of-type {\n",
       "        vertical-align: middle;\n",
       "    }\n",
       "\n",
       "    .dataframe tbody tr th {\n",
       "        vertical-align: top;\n",
       "    }\n",
       "\n",
       "    .dataframe thead th {\n",
       "        text-align: right;\n",
       "    }\n",
       "</style>\n",
       "<table border=\"1\" class=\"dataframe\">\n",
       "  <thead>\n",
       "    <tr style=\"text-align: right;\">\n",
       "      <th></th>\n",
       "      <th>EPI_WEEK</th>\n",
       "      <th>rh_max_lag</th>\n",
       "      <th>rh_min_lag</th>\n",
       "      <th>t_min_lag</th>\n",
       "      <th>t_max_lag</th>\n",
       "      <th>p_total_lag</th>\n",
       "      <th>LAMBDA_lag</th>\n",
       "    </tr>\n",
       "  </thead>\n",
       "  <tbody>\n",
       "    <tr>\n",
       "      <th>735</th>\n",
       "      <td>18</td>\n",
       "      <td>98.894286</td>\n",
       "      <td>59.444286</td>\n",
       "      <td>18.027143</td>\n",
       "      <td>25.907143</td>\n",
       "      <td>23.95</td>\n",
       "      <td>0.710564</td>\n",
       "    </tr>\n",
       "  </tbody>\n",
       "</table>\n",
       "</div>"
      ],
      "text/plain": [
       "     EPI_WEEK  rh_max_lag  rh_min_lag  t_min_lag  t_max_lag  p_total_lag  \\\n",
       "735        18   98.894286   59.444286  18.027143  25.907143        23.95   \n",
       "\n",
       "     LAMBDA_lag  \n",
       "735    0.710564  "
      ]
     },
     "execution_count": 27,
     "metadata": {},
     "output_type": "execute_result"
    }
   ],
   "source": [
    "sem_fn"
   ]
  },
  {
   "cell_type": "markdown",
   "id": "cd317ffe",
   "metadata": {},
   "source": [
    "### False positives"
   ]
  },
  {
   "cell_type": "code",
   "execution_count": 28,
   "id": "2b3ddf73",
   "metadata": {},
   "outputs": [],
   "source": [
    "fp = ((y == 0) & (y_pred_final == 1))\n",
    "sem_fp = X[fp]"
   ]
  },
  {
   "cell_type": "code",
   "execution_count": 29,
   "id": "f90023bb",
   "metadata": {},
   "outputs": [
    {
     "data": {
      "text/plain": [
       "8     11\n",
       "19    11\n",
       "18     9\n",
       "6      9\n",
       "20     9\n",
       "10     9\n",
       "12     9\n",
       "11     8\n",
       "15     8\n",
       "7      7\n",
       "14     7\n",
       "13     7\n",
       "21     6\n",
       "17     6\n",
       "1      5\n",
       "2      5\n",
       "22     5\n",
       "9      5\n",
       "16     4\n",
       "5      4\n",
       "4      2\n",
       "24     2\n",
       "51     2\n",
       "3      1\n",
       "26     1\n",
       "52     1\n",
       "23     1\n",
       "50     1\n",
       "Name: EPI_WEEK, dtype: int64"
      ]
     },
     "execution_count": 29,
     "metadata": {},
     "output_type": "execute_result"
    }
   ],
   "source": [
    "sem_fp['EPI_WEEK'].value_counts()"
   ]
  },
  {
   "cell_type": "markdown",
   "id": "d3a817fd",
   "metadata": {},
   "source": [
    "### Classifying and labeling each situation"
   ]
  },
  {
   "cell_type": "code",
   "execution_count": 30,
   "id": "2e3d137c",
   "metadata": {},
   "outputs": [],
   "source": [
    "fn = ((y == 1) & (y_pred_final == 0))\n",
    "fp = ((y == 0) & (y_pred_final == 1))\n",
    "tn = ((y == 0) & (y_pred_final == 0))\n",
    "tp = ((y == 1) & (y_pred_final == 1))"
   ]
  },
  {
   "cell_type": "code",
   "execution_count": 31,
   "id": "d947b083",
   "metadata": {},
   "outputs": [],
   "source": [
    "Z = X.copy()\n",
    "Z['label'] = 0"
   ]
  },
  {
   "cell_type": "code",
   "execution_count": 32,
   "id": "248aac42",
   "metadata": {},
   "outputs": [],
   "source": [
    "Z.loc[fn,'label'] = 'FN'\n",
    "Z.loc[fp,'label'] = 'FP'\n",
    "Z.loc[tn,'label'] = 'TN'\n",
    "Z.loc[tp, 'label'] = 'TP'"
   ]
  },
  {
   "cell_type": "code",
   "execution_count": 33,
   "id": "a3ac47ed",
   "metadata": {},
   "outputs": [],
   "source": [
    "Z['tplot'] = np.array(df_tplot)\n",
    "Z['CASES_100K'] = np.array(df_cases)"
   ]
  },
  {
   "cell_type": "code",
   "execution_count": 34,
   "id": "4d8e5841",
   "metadata": {},
   "outputs": [
    {
     "name": "stderr",
     "output_type": "stream",
     "text": [
      "No data for colormapping provided via 'c'. Parameters 'cmap' will be ignored\n"
     ]
    },
    {
     "data": {
      "image/png": "[encoded data removed]",
      "text/plain": [
       "<Figure size 640x480 with 1 Axes>"
      ]
     },
     "metadata": {},
     "output_type": "display_data"
    }
   ],
   "source": [
    "fig, ax = plt.subplots()\n",
    "\n",
    "colors = {'TP':'green', 'TN':'gray', 'FP':'orange', 'FN':'red'}\n",
    "\n",
    "grouped = Z.groupby('label')\n",
    "for key, group in grouped:\n",
    "    group.plot(ax=ax, kind='scatter', x='tplot', y='CASES_100K', label=key, color=colors[key])\n",
    "\n",
    "plt.show()"
   ]
  },
  {
   "cell_type": "code",
   "execution_count": 35,
   "id": "f4625c12",
   "metadata": {},
   "outputs": [],
   "source": [
    "Z['proba'] = y_pred_proba"
   ]
  },
  {
   "cell_type": "code",
   "execution_count": 36,
   "id": "8b6d4bd8",
   "metadata": {},
   "outputs": [
    {
     "data": {
      "text/plain": [
       "Text(0, 0.5, 'Count')"
      ]
     },
     "execution_count": 36,
     "metadata": {},
     "output_type": "execute_result"
    },
    {
     "data": {
      "image/png": "[encoded data removed]",
      "text/plain": [
       "<Figure size 640x480 with 1 Axes>"
      ]
     },
     "metadata": {},
     "output_type": "display_data"
    }
   ],
   "source": [
    "A = Z.copy()\n",
    "A = A[A['label'] == 'FP']\n",
    "B = Z.copy()\n",
    "B = B[B['label'] == 'TP']\n",
    "C = Z.copy()\n",
    "C = C[C['label'] == 'TN']\n",
    "plt.hist(A['proba'], bins = 5, alpha = 0.5, density = True, label = 'False positives')\n",
    "plt.hist(B['proba'], bins = 5, alpha = 0.5, density = True, label = 'True positives')\n",
    "plt.legend()\n",
    "plt.xlabel('Probability')\n",
    "plt.ylabel('Count')"
   ]
  },
  {
   "cell_type": "code",
   "execution_count": null,
   "id": "bce95f4c",
   "metadata": {},
   "outputs": [],
   "source": []
  }
 ],
 "metadata": {
  "kernelspec": {
   "display_name": "Python 3 (ipykernel)",
   "language": "python",
   "name": "python3"
  },
  "language_info": {
   "codemirror_mode": {
    "name": "ipython",
    "version": 3
   },
   "file_extension": ".py",
   "mimetype": "text/x-python",
   "name": "python",
   "nbconvert_exporter": "python",
   "pygments_lexer": "ipython3",
   "version": "3.8.16"
  }
 },
 "nbformat": 4,
 "nbformat_minor": 5
}
